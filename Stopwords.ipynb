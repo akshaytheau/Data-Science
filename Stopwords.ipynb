{
  "nbformat": 4,
  "nbformat_minor": 0,
  "metadata": {
    "colab": {
      "name": "Stopwords.ipynb",
      "provenance": []
    },
    "kernelspec": {
      "name": "python3",
      "display_name": "Python 3"
    },
    "language_info": {
      "name": "python"
    }
  },
  "cells": [
    {
      "cell_type": "code",
      "execution_count": 36,
      "metadata": {
        "colab": {
          "base_uri": "https://localhost:8080/"
        },
        "id": "Hj34SCI_UtLO",
        "outputId": "216430f7-1783-43f6-ef29-a488c0014b46"
      },
      "outputs": [
        {
          "output_type": "stream",
          "name": "stderr",
          "text": [
            "[nltk_data] Downloading package stopwords to /root/nltk_data...\n",
            "[nltk_data]   Package stopwords is already up-to-date!\n",
            "[nltk_data] Downloading package punkt to /root/nltk_data...\n",
            "[nltk_data]   Package punkt is already up-to-date!\n"
          ]
        }
      ],
      "source": [
        "import nltk\n",
        "from nltk.corpus import stopwords\n",
        "nltk.download('stopwords')\n",
        "nltk.download('punkt')\n",
        "from nltk.tokenize import word_tokenize"
      ]
    },
    {
      "cell_type": "code",
      "source": [
        "dir(stopwords)"
      ],
      "metadata": {
        "colab": {
          "base_uri": "https://localhost:8080/"
        },
        "id": "cSu-1GSMW5yc",
        "outputId": "a6fb2f23-ff69-4a08-e4d9-1fab58839daa"
      },
      "execution_count": 12,
      "outputs": [
        {
          "output_type": "execute_result",
          "data": {
            "text/plain": [
              "['__class__',\n",
              " '__delattr__',\n",
              " '__dict__',\n",
              " '__dir__',\n",
              " '__doc__',\n",
              " '__eq__',\n",
              " '__format__',\n",
              " '__ge__',\n",
              " '__getattribute__',\n",
              " '__gt__',\n",
              " '__hash__',\n",
              " '__init__',\n",
              " '__init_subclass__',\n",
              " '__le__',\n",
              " '__lt__',\n",
              " '__module__',\n",
              " '__ne__',\n",
              " '__new__',\n",
              " '__reduce__',\n",
              " '__reduce_ex__',\n",
              " '__repr__',\n",
              " '__setattr__',\n",
              " '__sizeof__',\n",
              " '__str__',\n",
              " '__subclasshook__',\n",
              " '__weakref__',\n",
              " '_citation',\n",
              " '_encoding',\n",
              " '_fileids',\n",
              " '_get_root',\n",
              " '_license',\n",
              " '_readme',\n",
              " '_root',\n",
              " '_tagset',\n",
              " '_unload',\n",
              " 'abspath',\n",
              " 'abspaths',\n",
              " 'citation',\n",
              " 'encoding',\n",
              " 'ensure_loaded',\n",
              " 'fileids',\n",
              " 'license',\n",
              " 'open',\n",
              " 'raw',\n",
              " 'readme',\n",
              " 'root',\n",
              " 'words']"
            ]
          },
          "metadata": {},
          "execution_count": 12
        }
      ]
    },
    {
      "cell_type": "code",
      "source": [
        "len(stopwords.words())"
      ],
      "metadata": {
        "colab": {
          "base_uri": "https://localhost:8080/"
        },
        "id": "oKxR5e0vXZ8i",
        "outputId": "3e9dd1c9-efbf-4904-8db9-f036251e729c"
      },
      "execution_count": 13,
      "outputs": [
        {
          "output_type": "execute_result",
          "data": {
            "text/plain": [
              "7702"
            ]
          },
          "metadata": {},
          "execution_count": 13
        }
      ]
    },
    {
      "cell_type": "code",
      "source": [
        "print(stopwords.readme())"
      ],
      "metadata": {
        "colab": {
          "base_uri": "https://localhost:8080/"
        },
        "id": "OPrdcB8OXuoh",
        "outputId": "af76c335-c208-466b-e394-59285ca683c7"
      },
      "execution_count": 14,
      "outputs": [
        {
          "output_type": "stream",
          "name": "stdout",
          "text": [
            "Stopwords Corpus\n",
            "\n",
            "This corpus contains lists of stop words for several languages.  These\n",
            "are high-frequency grammatical words which are usually ignored in text\n",
            "retrieval applications.\n",
            "\n",
            "They were obtained from:\n",
            "http://anoncvs.postgresql.org/cvsweb.cgi/pgsql/src/backend/snowball/stopwords/\n",
            "\n",
            "The stop words for the Romanian language were obtained from:\n",
            "http://arlc.ro/resources/\n",
            "\n",
            "The English list has been augmented\n",
            "https://github.com/nltk/nltk_data/issues/22\n",
            "\n",
            "The German list has been corrected\n",
            "https://github.com/nltk/nltk_data/pull/49\n",
            "\n",
            "A Kazakh list has been added\n",
            "https://github.com/nltk/nltk_data/pull/52\n",
            "\n",
            "A Nepali list has been added\n",
            "https://github.com/nltk/nltk_data/pull/83\n",
            "\n",
            "An Azerbaijani list has been added\n",
            "https://github.com/nltk/nltk_data/pull/100\n",
            "\n",
            "A Greek list has been added\n",
            "https://github.com/nltk/nltk_data/pull/103\n",
            "\n",
            "An Indonesian list has been added\n",
            "https://github.com/nltk/nltk_data/pull/112\n",
            "\n"
          ]
        }
      ]
    },
    {
      "cell_type": "code",
      "source": [
        "stopwords.raw()"
      ],
      "metadata": {
        "colab": {
          "base_uri": "https://localhost:8080/",
          "height": 145
        },
        "id": "FaJBEfFFZMCH",
        "outputId": "295f4a99-24ad-4c87-ed83-18897e874d8c"
      },
      "execution_count": 15,
      "outputs": [
        {
          "output_type": "execute_result",
          "data": {
            "text/plain": [
              "\"إذ\\nإذا\\nإذما\\nإذن\\nأف\\nأقل\\nأكثر\\nألا\\nإلا\\nالتي\\nالذي\\nالذين\\nاللاتي\\nاللائي\\nاللتان\\nاللتيا\\nاللتين\\nاللذان\\nاللذين\\nاللواتي\\nإلى\\nإليك\\nإليكم\\nإليكما\\nإليكن\\nأم\\nأما\\nأما\\nإما\\nأن\\nإن\\nإنا\\nأنا\\nأنت\\nأنتم\\nأنتما\\nأنتن\\nإنما\\nإنه\\nأنى\\nأنى\\nآه\\nآها\\nأو\\nأولاء\\nأولئك\\nأوه\\nآي\\nأي\\nأيها\\nإي\\nأين\\nأين\\nأينما\\nإيه\\nبخ\\nبس\\nبعد\\nبعض\\nبك\\nبكم\\nبكم\\nبكما\\nبكن\\nبل\\nبلى\\nبما\\nبماذا\\nبمن\\nبنا\\nبه\\nبها\\nبهم\\nبهما\\nبهن\\nبي\\nبين\\nبيد\\nتلك\\nتلكم\\nتلكما\\nته\\nتي\\nتين\\nتينك\\nثم\\nثمة\\nحاشا\\nحبذا\\nحتى\\nحيث\\nحيثما\\nحين\\nخلا\\nدون\\nذا\\nذات\\nذاك\\nذان\\nذانك\\nذلك\\nذلكم\\nذلكما\\nذلكن\\nذه\\nذو\\nذوا\\nذواتا\\nذواتي\\nذي\\nذين\\nذينك\\nريث\\nسوف\\nسوى\\nشتان\\nعدا\\nعسى\\nعل\\nعلى\\nعليك\\nعليه\\nعما\\nعن\\nعند\\nغير\\nفإذا\\nفإن\\nفلا\\nفمن\\nفي\\nفيم\\nفيما\\nفيه\\nفيها\\nقد\\nكأن\\nكأنما\\nكأي\\nكأين\\nكذا\\nكذلك\\nكل\\nكلا\\nكلاهما\\nكلتا\\nكلما\\nكليكما\\nكليهما\\nكم\\nكم\\nكما\\nكي\\nكيت\\nكيف\\nكيفما\\nلا\\nلاسيما\\nلدى\\nلست\\nلستم\\nلستما\\nلستن\\nلسن\\nلسنا\\nلعل\\nلك\\nلكم\\nلكما\\nلكن\\nلكنما\\nلكي\\nلكيلا\\nلم\\nلما\\nلن\\nلنا\\nله\\nلها\\nلهم\\nلهما\\nلهن\\nلو\\nلولا\\nلوما\\nلي\\nلئن\\nليت\\nليس\\nليسا\\nليست\\nليستا\\nليسوا\\nما\\nماذا\\nمتى\\nمذ\\nمع\\nمما\\nممن\\nمن\\nمنه\\nمنها\\nمنذ\\nمه\\nمهما\\nنحن\\nنحو\\nنعم\\nها\\nهاتان\\nهاته\\nهاتي\\nهاتين\\nهاك\\nهاهنا\\nهذا\\nهذان\\nهذه\\nهذي\\nهذين\\nهكذا\\nهل\\nهلا\\nهم\\nهما\\nهن\\nهنا\\nهناك\\nهنالك\\nهو\\nهؤلاء\\nهي\\nهيا\\nهيت\\nهيهات\\nوالذي\\nوالذين\\nوإذ\\nوإذا\\nوإن\\nولا\\nولكن\\nولو\\nوما\\nومن\\nوهو\\nيا\\nأبٌ\\nأخٌ\\nحمٌ\\nفو\\nأنتِ\\nيناير\\nفبراير\\nمارس\\nأبريل\\nمايو\\nيونيو\\nيوليو\\nأغسطس\\nسبتمبر\\nأكتوبر\\nنوفمبر\\nديسمبر\\nجانفي\\nفيفري\\nمارس\\nأفريل\\nماي\\nجوان\\nجويلية\\nأوت\\nكانون\\nشباط\\nآذار\\nنيسان\\nأيار\\nحزيران\\nتموز\\nآب\\nأيلول\\nتشرين\\nدولار\\nدينار\\nريال\\nدرهم\\nليرة\\nجنيه\\nقرش\\nمليم\\nفلس\\nهللة\\nسنتيم\\nيورو\\nين\\nيوان\\nشيكل\\nواحد\\nاثنان\\nثلاثة\\nأربعة\\nخمسة\\nستة\\nسبعة\\nثمانية\\nتسعة\\nعشرة\\nأحد\\nاثنا\\nاثني\\nإحدى\\nثلاث\\nأربع\\nخمس\\nست\\nسبع\\nثماني\\nتسع\\nعشر\\nثمان\\nسبت\\nأحد\\nاثنين\\nثلاثاء\\nأربعاء\\nخميس\\nجمعة\\nأول\\nثان\\nثاني\\nثالث\\nرابع\\nخامس\\nسادس\\nسابع\\nثامن\\nتاسع\\nعاشر\\nحادي\\nأ\\nب\\nت\\nث\\nج\\nح\\nخ\\nد\\nذ\\nر\\nز\\nس\\nش\\nص\\nض\\nط\\nظ\\nع\\nغ\\nف\\nق\\nك\\nل\\nم\\nن\\nه\\nو\\nي\\nء\\nى\\nآ\\nؤ\\nئ\\nأ\\nة\\nألف\\nباء\\nتاء\\nثاء\\nجيم\\nحاء\\nخاء\\nدال\\nذال\\nراء\\nزاي\\nسين\\nشين\\nصاد\\nضاد\\nطاء\\nظاء\\nعين\\nغين\\nفاء\\nقاف\\nكاف\\nلام\\nميم\\nنون\\nهاء\\nواو\\nياء\\nهمزة\\nي\\nنا\\nك\\nكن\\nه\\nإياه\\nإياها\\nإياهما\\nإياهم\\nإياهن\\nإياك\\nإياكما\\nإياكم\\nإياك\\nإياكن\\nإياي\\nإيانا\\nأولالك\\nتانِ\\nتانِك\\nتِه\\nتِي\\nتَيْنِ\\nثمّ\\nثمّة\\nذانِ\\nذِه\\nذِي\\nذَيْنِ\\nهَؤلاء\\nهَاتانِ\\nهَاتِه\\nهَاتِي\\nهَاتَيْنِ\\nهَذا\\nهَذانِ\\nهَذِه\\nهَذِي\\nهَذَيْنِ\\nالألى\\nالألاء\\nأل\\nأنّى\\nأيّ\\nّأيّان\\nأنّى\\nأيّ\\nّأيّان\\nذيت\\nكأيّ\\nكأيّن\\nبضع\\nفلان\\nوا\\nآمينَ\\nآهِ\\nآهٍ\\nآهاً\\nأُفٍّ\\nأُفٍّ\\nأفٍّ\\nأمامك\\nأمامكَ\\nأوّهْ\\nإلَيْكَ\\nإلَيْكَ\\nإليكَ\\nإليكنّ\\nإيهٍ\\nبخٍ\\nبسّ\\nبَسْ\\nبطآن\\nبَلْهَ\\nحاي\\nحَذارِ\\nحيَّ\\nحيَّ\\nدونك\\nرويدك\\nسرعان\\nشتانَ\\nشَتَّانَ\\nصهْ\\nصهٍ\\nطاق\\nطَق\\nعَدَسْ\\nكِخ\\nمكانَك\\nمكانَك\\nمكانَك\\nمكانكم\\nمكانكما\\nمكانكنّ\\nنَخْ\\nهاكَ\\nهَجْ\\nهلم\\nهيّا\\nهَيْهات\\nوا\\nواهاً\\nوراءَك\\nوُشْكَانَ\\nوَيْ\\nيفعلان\\nتفعلان\\nيفعلون\\nتفعلون\\nتفعلين\\nاتخذ\\nألفى\\nتخذ\\nترك\\nتعلَّم\\nجعل\\nحجا\\nحبيب\\nخال\\nحسب\\nخال\\nدرى\\nرأى\\nزعم\\nصبر\\nظنَّ\\nعدَّ\\nعلم\\nغادر\\nذهب\\nوجد\\nورد\\nوهب\\nأسكن\\nأطعم\\nأعطى\\nرزق\\nزود\\nسقى\\nكسا\\nأخبر\\nأرى\\nأعلم\\nأنبأ\\nحدَث\\nخبَّر\\nنبَّا\\nأفعل به\\nما أفعله\\nبئس\\nساء\\nطالما\\nقلما\\nلات\\nلكنَّ\\nءَ\\nأجل\\nإذاً\\nأمّا\\nإمّا\\nإنَّ\\nأنًّ\\nأى\\nإى\\nأيا\\nب\\nثمَّ\\nجلل\\nجير\\nرُبَّ\\nس\\nعلًّ\\nف\\nكأنّ\\nكلَّا\\nكى\\nل\\nلات\\nلعلَّ\\nلكنَّ\\nلكنَّ\\nم\\nنَّ\\nهلّا\\nوا\\nأل\\nإلّا\\nت\\nك\\nلمّا\\nن\\nه\\nو\\nا\\nي\\nتجاه\\nتلقاء\\nجميع\\nحسب\\nسبحان\\nشبه\\nلعمر\\nمثل\\nمعاذ\\nأبو\\nأخو\\nحمو\\nفو\\nمئة\\nمئتان\\nثلاثمئة\\nأربعمئة\\nخمسمئة\\nستمئة\\nسبعمئة\\nثمنمئة\\nتسعمئة\\nمائة\\nثلاثمائة\\nأربعمائة\\nخمسمائة\\nستمائة\\nسبعمائة\\nثمانمئة\\nتسعمائة\\nعشرون\\nثلاثون\\nاربعون\\nخمسون\\nستون\\nسبعون\\nثمانون\\nتسعون\\nعشرين\\nثلاثين\\nاربعين\\nخمسين\\nستين\\nسبعين\\nثمانين\\nتسعين\\nبضع\\nنيف\\nأجمع\\nجميع\\nعامة\\nعين\\nنفس\\nلا سيما\\nأصلا\\nأهلا\\nأيضا\\nبؤسا\\nبعدا\\nبغتة\\nتعسا\\nحقا\\nحمدا\\nخلافا\\nخاصة\\nدواليك\\nسحقا\\nسرا\\nسمعا\\nصبرا\\nصدقا\\nصراحة\\nطرا\\nعجبا\\nعيانا\\nغالبا\\nفرادى\\nفضلا\\nقاطبة\\nكثيرا\\nلبيك\\nمعاذ\\nأبدا\\nإزاء\\nأصلا\\nالآن\\nأمد\\nأمس\\nآنفا\\nآناء\\nأنّى\\nأول\\nأيّان\\nتارة\\nثمّ\\nثمّة\\nحقا\\nصباح\\nمساء\\nضحوة\\nعوض\\nغدا\\nغداة\\nقطّ\\nكلّما\\nلدن\\nلمّا\\nمرّة\\nقبل\\nخلف\\nأمام\\nفوق\\nتحت\\nيمين\\nشمال\\nارتدّ\\nاستحال\\nأصبح\\nأضحى\\nآض\\nأمسى\\nانقلب\\nبات\\nتبدّل\\nتحوّل\\nحار\\nرجع\\nراح\\nصار\\nظلّ\\nعاد\\nغدا\\nكان\\nما انفك\\nما برح\\nمادام\\nمازال\\nمافتئ\\nابتدأ\\nأخذ\\nاخلولق\\nأقبل\\nانبرى\\nأنشأ\\nأوشك\\nجعل\\nحرى\\nشرع\\nطفق\\nعلق\\nقام\\nكرب\\nكاد\\nهبّa\\nad\\naltı\\naltmış\\namma\\narasında\\nartıq\\nay\\naz\\nbax\\nbelə\\nbəli\\nbəlkə\\nbeş\\nbəy\\nbəzən\\nbəzi\\nbilər\\nbir\\nbiraz\\nbiri\\nbirşey\\nbiz\\nbizim\\nbizlər\\nbu\\nbuna\\nbundan\\nbunların\\nbunu\\nbunun\\nburadan\\nbütün\\nci\\ncı\\nçox\\ncu\\ncü\\nçünki\\nda\\ndaha\\ndə\\ndedi\\ndək\\ndən\\ndəqiqə\\ndeyil\\ndir\\ndoqquz\\ndoqsan\\ndörd\\ndüz\\nə\\nedən\\nedir\\nəgər\\nəlbəttə\\nelə\\nəlli\\nən\\nəslində\\net\\netdi\\netmə\\netmək\\nfaiz\\ngilə\\ngörə\\nha\\nhaqqında\\nharada\\nhə\\nheç\\nhəm\\nhəmin\\nhəmişə\\nhər\\nı\\nidi\\niki\\nil\\nildə\\nilə\\nilk\\nin\\nindi\\nisə\\nistifadə\\niyirmi\\nki\\nkim\\nkimə\\nkimi\\nlakin\\nlap\\nməhz\\nmən\\nmənə\\nmirşey\\nnə\\nnəhayət\\nniyə\\no\\nobirisi\\nof\\nolan\\nolar\\nolaraq\\noldu\\nolduğu\\nolmadı\\nolmaz\\nolmuşdur\\nolsun\\nolur\\non\\nona\\nondan\\nonlar\\nonlardan\\nonların \\nonsuzda\\nonu\\nonun\\noradan\\notuz\\nöz\\nözü\\nqarşı\\nqədər\\nqırx\\nsaat\\nsadəcə\\nsaniyə\\nsəhv\\nsəkkiz\\nsəksən\\nsən\\nsənə\\nsənin\\nsiz\\nsizin\\nsizlər\\nsonra\\ntəəssüf\\nü\\nüç\\nüçün\\nvar\\nvə\\nxan\\nxanım\\nxeyr\\nya\\nyalnız\\nyaxşı\\nyeddi\\nyenə\\nyəni\\nyetmiş\\nyox\\nyoxdur\\nyoxsa\\nyüz\\nzamanঅতএব\\nঅথচ\\nঅথবা\\nঅনুযায়ী\\nঅনেক\\nঅনেকে\\nঅনেকেই\\nঅন্তত\\nঅন্য\\nঅবধি\\nঅবশ্য\\nঅর্থাত\\nআই\\nআগামী\\nআগে\\nআগেই\\nআছে\\nআজ\\nআদ্যভাগে\\nআপনার\\nআপনি\\nআবার\\nআমরা\\nআমাকে\\nআমাদের\\nআমার\\nআমি\\nআর\\nআরও\\nই\\nইত্যাদি\\nইহা\\nউচিত\\nউত্তর\\nউনি\\nউপর\\nউপরে\\nএ\\nএঁদের\\nএঁরা\\nএই\\nএকই\\nএকটি\\nএকবার\\nএকে\\nএক্\\nএখন\\nএখনও\\nএখানে\\nএখানেই\\nএটা\\nএটাই\\nএটি\\nএত\\nএতটাই\\nএতে\\nএদের\\nএব\\nএবং\\nএবার\\nএমন\\nএমনকী\\nএমনি\\nএর\\nএরা\\nএল\\nএস\\nএসে\\nঐ\\nও\\nওঁদের\\nওঁর\\nওঁরা\\nওই\\nওকে\\nওখানে\\nওদের\\nওর\\nওরা\\nকখনও\\nকত\\nকবে\\nকমনে\\nকয়েক\\nকয়েকটি\\nকরছে\\nকরছেন\\nকরতে\\nকরবে\\nকরবেন\\nকরলে\\nকরলেন\\nকরা\\nকরাই\\nকরায়\\nকরার\\nকরি\\nকরিতে\\nকরিয়া\\nকরিয়ে\\nকরে\\nকরেই\\nকরেছিলেন\\nকরেছে\\nকরেছেন\\nকরেন\\nকাউকে\\nকাছ\\nকাছে\\nকাজ\\nকাজে\\nকারও\\nকারণ\\nকি\\nকিংবা\\nকিছু\\nকিছুই\\nকিন্তু\\nকী\\nকে\\nকেউ\\nকেউই\\nকেখা\\nকেন\\nকোটি\\nকোন\\nকোনও\\nকোনো\\nক্ষেত্রে\\nকয়েক\\nখুব\\nগিয়ে\\nগিয়েছে\\nগিয়ে\\nগুলি\\nগেছে\\nগেল\\nগেলে\\nগোটা\\nচলে\\nচান\\nচায়\\nচার\\nচালু\\nচেয়ে\\nচেষ্টা\\nছাড়া\\nছাড়াও\\nছিল\\nছিলেন\\nজন\\nজনকে\\nজনের\\nজন্য\\nজন্যওজে\\nজানতে\\nজানা\\nজানানো\\nজানায়\\nজানিয়ে\\nজানিয়েছে\\nজে\\nজ্নজন\\nটি\\nঠিক\\nতখন\\nতত\\nতথা\\nতবু\\nতবে\\nতা\\nতাঁকে\\nতাঁদের\\nতাঁর\\nতাঁরা\\nতাঁাহারা\\nতাই\\nতাও\\nতাকে\\nতাতে\\nতাদের\\nতার\\nতারপর\\nতারা\\nতারৈ\\nতাহলে\\nতাহা\\nতাহাতে\\nতাহার\\nতিনঐ\\nতিনি\\nতিনিও\\nতুমি\\nতুলে\\nতেমন\\nতো\\nতোমার\\nথাকবে\\nথাকবেন\\nথাকা\\nথাকায়\\nথাকে\\nথাকেন\\nথেকে\\nথেকেই\\nথেকেও\\nদিকে\\nদিতে\\nদিন\\nদিয়ে\\nদিয়েছে\\nদিয়েছেন\\nদিলেন\\nদু\\nদুই\\nদুটি\\nদুটো\\nদেওয়া\\nদেওয়ার\\nদেওয়া\\nদেখতে\\nদেখা\\nদেখে\\nদেন\\nদেয়\\nদ্বারা\\nধরা\\nধরে\\nধামার\\nনতুন\\nনয়\\nনা\\nনাই\\nনাকি\\nনাগাদ\\nনানা\\nনিজে\\nনিজেই\\nনিজেদের\\nনিজের\\nনিতে\\nনিয়ে\\nনিয়ে\\nনেই\\nনেওয়া\\nনেওয়ার\\nনেওয়া\\nনয়\\nপক্ষে\\nপর\\nপরে\\nপরেই\\nপরেও\\nপর্যন্ত\\nপাওয়া\\nপাচ\\nপারি\\nপারে\\nপারেন\\nপি\\nপেয়ে\\nপেয়্র্\\nপ্রতি\\nপ্রথম\\nপ্রভৃতি\\nপ্রযন্ত\\nপ্রাথমিক\\nপ্রায়\\nপ্রায়\\nফলে\\nফিরে\\nফের\\nবক্তব্য\\nবদলে\\nবন\\nবরং\\nবলতে\\nবলল\\nবললেন\\nবলা\\nবলে\\nবলেছেন\\nবলেন\\nবসে\\nবহু\\nবা\\nবাদে\\nবার\\nবি\\nবিনা\\nবিভিন্ন\\nবিশেষ\\nবিষয়টি\\nবেশ\\nবেশি\\nব্যবহার\\nব্যাপারে\\nভাবে\\nভাবেই\\nমতো\\nমতোই\\nমধ্যভাগে\\nমধ্যে\\nমধ্যেই\\nমধ্যেও\\nমনে\\nমাত্র\\nমাধ্যমে\\nমোট\\nমোটেই\\nযখন\\nযত\\nযতটা\\nযথেষ্ট\\nযদি\\nযদিও\\nযা\\nযাঁর\\nযাঁরা\\nযাওয়া\\nযাওয়ার\\nযাওয়া\\nযাকে\\nযাচ্ছে\\nযাতে\\nযাদের\\nযান\\nযাবে\\nযায়\\nযার\\nযারা\\nযিনি\\nযে\\nযেখানে\\nযেতে\\nযেন\\nযেমন\\nর\\nরকম\\nরয়েছে\\nরাখা\\nরেখে\\nলক্ষ\\nশুধু\\nশুরু\\nসঙ্গে\\nসঙ্গেও\\nসব\\nসবার\\nসমস্ত\\nসম্প্রতি\\nসহ\\nসহিত\\nসাধারণ\\nসামনে\\nসি\\nসুতরাং\\nসে\\nসেই\\nসেখান\\nসেখানে\\nসেটা\\nসেটাই\\nসেটাও\\nসেটি\\nস্পষ্ট\\nস্বয়ং\\nহইতে\\nহইবে\\nহইয়া\\nহওয়া\\nহওয়ায়\\nহওয়ার\\nহচ্ছে\\nহত\\nহতে\\nহতেই\\nহন\\nহবে\\nহবেন\\nহয়\\nহয়তো\\nহয়নি\\nহয়ে\\nহয়েই\\nহয়েছিল\\nহয়েছে\\nহয়েছেন\\nহল\\nহলে\\nহলেই\\nহলেও\\nহলো\\nহাজার\\nহিসাবে\\nহৈলে\\nহোক\\nহয়og\\ni\\njeg\\ndet\\nat\\nen\\nden\\ntil\\ner\\nsom\\npå\\nde\\nmed\\nhan\\naf\\nfor\\nikke\\nder\\nvar\\nmig\\nsig\\nmen\\net\\nhar\\nom\\nvi\\nmin\\nhavde\\nham\\nhun\\nnu\\nover\\nda\\nfra\\ndu\\nud\\nsin\\ndem\\nos\\nop\\nman\\nhans\\nhvor\\neller\\nhvad\\nskal\\nselv\\nher\\nalle\\nvil\\nblev\\nkunne\\nind\\nnår\\nvære\\ndog\\nnoget\\nville\\njo\\nderes\\nefter\\nned\\nskulle\\ndenne\\nend\\ndette\\nmit\\nogså\\nunder\\nhave\\ndig\\nanden\\nhende\\nmine\\nalt\\nmeget\\nsit\\nsine\\nvor\\nmod\\ndisse\\nhvis\\ndin\\nnogle\\nhos\\nblive\\nmange\\nad\\nbliver\\nhendes\\nværet\\nthi\\njer\\nsådan\\nde\\nen\\nvan\\nik\\nte\\ndat\\ndie\\nin\\neen\\nhij\\nhet\\nniet\\nzijn\\nis\\nwas\\nop\\naan\\nmet\\nals\\nvoor\\nhad\\ner\\nmaar\\nom\\nhem\\ndan\\nzou\\nof\\nwat\\nmijn\\nmen\\ndit\\nzo\\ndoor\\nover\\nze\\nzich\\nbij\\nook\\ntot\\nje\\nmij\\nuit\\nder\\ndaar\\nhaar\\nnaar\\nheb\\nhoe\\nheeft\\nhebben\\ndeze\\nu\\nwant\\nnog\\nzal\\nme\\nzij\\nnu\\nge\\ngeen\\nomdat\\niets\\nworden\\ntoch\\nal\\nwaren\\nveel\\nmeer\\ndoen\\ntoen\\nmoet\\nben\\nzonder\\nkan\\nhun\\ndus\\nalles\\nonder\\nja\\neens\\nhier\\nwie\\nwerd\\naltijd\\ndoch\\nwordt\\nwezen\\nkunnen\\nons\\nzelf\\ntegen\\nna\\nreeds\\nwil\\nkon\\nniets\\nuw\\niemand\\ngeweest\\nandere\\ni\\nme\\nmy\\nmyself\\nwe\\nour\\nours\\nourselves\\nyou\\nyou're\\nyou've\\nyou'll\\nyou'd\\nyour\\nyours\\nyourself\\nyourselves\\nhe\\nhim\\nhis\\nhimself\\nshe\\nshe's\\nher\\nhers\\nherself\\nit\\nit's\\nits\\nitself\\nthey\\nthem\\ntheir\\ntheirs\\nthemselves\\nwhat\\nwhich\\nwho\\nwhom\\nthis\\nthat\\nthat'll\\nthese\\nthose\\nam\\nis\\nare\\nwas\\nwere\\nbe\\nbeen\\nbeing\\nhave\\nhas\\nhad\\nhaving\\ndo\\ndoes\\ndid\\ndoing\\na\\nan\\nthe\\nand\\nbut\\nif\\nor\\nbecause\\nas\\nuntil\\nwhile\\nof\\nat\\nby\\nfor\\nwith\\nabout\\nagainst\\nbetween\\ninto\\nthrough\\nduring\\nbefore\\nafter\\nabove\\nbelow\\nto\\nfrom\\nup\\ndown\\nin\\nout\\non\\noff\\nover\\nunder\\nagain\\nfurther\\nthen\\nonce\\nhere\\nthere\\nwhen\\nwhere\\nwhy\\nhow\\nall\\nany\\nboth\\neach\\nfew\\nmore\\nmost\\nother\\nsome\\nsuch\\nno\\nnor\\nnot\\nonly\\nown\\nsame\\nso\\nthan\\ntoo\\nvery\\ns\\nt\\ncan\\nwill\\njust\\ndon\\ndon't\\nshould\\nshould've\\nnow\\nd\\nll\\nm\\no\\nre\\nve\\ny\\nain\\naren\\naren't\\ncouldn\\ncouldn't\\ndidn\\ndidn't\\ndoesn\\ndoesn't\\nhadn\\nhadn't\\nhasn\\nhasn't\\nhaven\\nhaven't\\nisn\\nisn't\\nma\\nmightn\\nmightn't\\nmustn\\nmustn't\\nneedn\\nneedn't\\nshan\\nshan't\\nshouldn\\nshouldn't\\nwasn\\nwasn't\\nweren\\nweren't\\nwon\\nwon't\\nwouldn\\nwouldn't\\nolla\\nolen\\nolet\\non\\nolemme\\nolette\\novat\\nole\\noli\\nolisi\\nolisit\\nolisin\\nolisimme\\nolisitte\\nolisivat\\nolit\\nolin\\nolimme\\nolitte\\nolivat\\nollut\\nolleet\\nen\\net\\nei\\nemme\\nette\\neivät\\nminä\\nminun\\nminut\\nminua\\nminussa\\nminusta\\nminuun\\nminulla\\nminulta\\nminulle\\nsinä\\nsinun\\nsinut\\nsinua\\nsinussa\\nsinusta\\nsinuun\\nsinulla\\nsinulta\\nsinulle\\nhän\\nhänen\\nhänet\\nhäntä\\nhänessä\\nhänestä\\nhäneen\\nhänellä\\nhäneltä\\nhänelle\\nme\\nmeidän\\nmeidät\\nmeitä\\nmeissä\\nmeistä\\nmeihin\\nmeillä\\nmeiltä\\nmeille\\nte\\nteidän\\nteidät\\nteitä\\nteissä\\nteistä\\nteihin\\nteillä\\nteiltä\\nteille\\nhe\\nheidän\\nheidät\\nheitä\\nheissä\\nheistä\\nheihin\\nheillä\\nheiltä\\nheille\\ntämä\\ntämän\\ntätä\\ntässä\\ntästä\\ntähän\\ntallä\\ntältä\\ntälle\\ntänä\\ntäksi\\ntuo\\ntuon\\ntuotä\\ntuossa\\ntuosta\\ntuohon\\ntuolla\\ntuolta\\ntuolle\\ntuona\\ntuoksi\\nse\\nsen\\nsitä\\nsiinä\\nsiitä\\nsiihen\\nsillä\\nsiltä\\nsille\\nsinä\\nsiksi\\nnämä\\nnäiden\\nnäitä\\nnäissä\\nnäistä\\nnäihin\\nnäillä\\nnäiltä\\nnäille\\nnäinä\\nnäiksi\\nnuo\\nnoiden\\nnoita\\nnoissa\\nnoista\\nnoihin\\nnoilla\\nnoilta\\nnoille\\nnoina\\nnoiksi\\nne\\nniiden\\nniitä\\nniissä\\nniistä\\nniihin\\nniillä\\nniiltä\\nniille\\nniinä\\nniiksi\\nkuka\\nkenen\\nkenet\\nketä\\nkenessä\\nkenestä\\nkeneen\\nkenellä\\nkeneltä\\nkenelle\\nkenenä\\nkeneksi\\nketkä\\nkeiden\\nketkä\\nkeitä\\nkeissä\\nkeistä\\nkeihin\\nkeillä\\nkeiltä\\nkeille\\nkeinä\\nkeiksi\\nmikä\\nminkä\\nminkä\\nmitä\\nmissä\\nmistä\\nmihin\\nmillä\\nmiltä\\nmille\\nminä\\nmiksi\\nmitkä\\njoka\\njonka\\njota\\njossa\\njosta\\njohon\\njolla\\njolta\\njolle\\njona\\njoksi\\njotka\\njoiden\\njoita\\njoissa\\njoista\\njoihin\\njoilla\\njoilta\\njoille\\njoina\\njoiksi\\nettä\\nja\\njos\\nkoska\\nkuin\\nmutta\\nniin\\nsekä\\nsillä\\ntai\\nvaan\\nvai\\nvaikka\\nkanssa\\nmukaan\\nnoin\\npoikki\\nyli\\nkun\\nniin\\nnyt\\nitse\\nau\\naux\\navec\\nce\\nces\\ndans\\nde\\ndes\\ndu\\nelle\\nen\\net\\neux\\nil\\nils\\nje\\nla\\nle\\nles\\nleur\\nlui\\nma\\nmais\\nme\\nmême\\nmes\\nmoi\\nmon\\nne\\nnos\\nnotre\\nnous\\non\\nou\\npar\\npas\\npour\\nqu\\nque\\nqui\\nsa\\nse\\nses\\nson\\nsur\\nta\\nte\\ntes\\ntoi\\nton\\ntu\\nun\\nune\\nvos\\nvotre\\nvous\\nc\\nd\\nj\\nl\\nà\\nm\\nn\\ns\\nt\\ny\\nété\\nétée\\nétées\\nétés\\nétant\\nétante\\nétants\\nétantes\\nsuis\\nes\\nest\\nsommes\\nêtes\\nsont\\nserai\\nseras\\nsera\\nserons\\nserez\\nseront\\nserais\\nserait\\nserions\\nseriez\\nseraient\\nétais\\nétait\\nétions\\nétiez\\nétaient\\nfus\\nfut\\nfûmes\\nfûtes\\nfurent\\nsois\\nsoit\\nsoyons\\nsoyez\\nsoient\\nfusse\\nfusses\\nfût\\nfussions\\nfussiez\\nfussent\\nayant\\nayante\\nayantes\\nayants\\neu\\neue\\neues\\neus\\nai\\nas\\navons\\navez\\nont\\naurai\\nauras\\naura\\naurons\\naurez\\nauront\\naurais\\naurait\\naurions\\nauriez\\nauraient\\navais\\navait\\navions\\naviez\\navaient\\neut\\neûmes\\neûtes\\neurent\\naie\\naies\\nait\\nayons\\nayez\\naient\\neusse\\neusses\\neût\\neussions\\neussiez\\neussent\\naber\\nalle\\nallem\\nallen\\naller\\nalles\\nals\\nalso\\nam\\nan\\nander\\nandere\\nanderem\\nanderen\\nanderer\\nanderes\\nanderm\\nandern\\nanderr\\nanders\\nauch\\nauf\\naus\\nbei\\nbin\\nbis\\nbist\\nda\\ndamit\\ndann\\nder\\nden\\ndes\\ndem\\ndie\\ndas\\ndass\\ndaß\\nderselbe\\nderselben\\ndenselben\\ndesselben\\ndemselben\\ndieselbe\\ndieselben\\ndasselbe\\ndazu\\ndein\\ndeine\\ndeinem\\ndeinen\\ndeiner\\ndeines\\ndenn\\nderer\\ndessen\\ndich\\ndir\\ndu\\ndies\\ndiese\\ndiesem\\ndiesen\\ndieser\\ndieses\\ndoch\\ndort\\ndurch\\nein\\neine\\neinem\\neinen\\neiner\\neines\\neinig\\neinige\\neinigem\\neinigen\\neiniger\\neiniges\\neinmal\\ner\\nihn\\nihm\\nes\\netwas\\neuer\\neure\\neurem\\neuren\\neurer\\neures\\nfür\\ngegen\\ngewesen\\nhab\\nhabe\\nhaben\\nhat\\nhatte\\nhatten\\nhier\\nhin\\nhinter\\nich\\nmich\\nmir\\nihr\\nihre\\nihrem\\nihren\\nihrer\\nihres\\neuch\\nim\\nin\\nindem\\nins\\nist\\njede\\njedem\\njeden\\njeder\\njedes\\njene\\njenem\\njenen\\njener\\njenes\\njetzt\\nkann\\nkein\\nkeine\\nkeinem\\nkeinen\\nkeiner\\nkeines\\nkönnen\\nkönnte\\nmachen\\nman\\nmanche\\nmanchem\\nmanchen\\nmancher\\nmanches\\nmein\\nmeine\\nmeinem\\nmeinen\\nmeiner\\nmeines\\nmit\\nmuss\\nmusste\\nnach\\nnicht\\nnichts\\nnoch\\nnun\\nnur\\nob\\noder\\nohne\\nsehr\\nsein\\nseine\\nseinem\\nseinen\\nseiner\\nseines\\nselbst\\nsich\\nsie\\nihnen\\nsind\\nso\\nsolche\\nsolchem\\nsolchen\\nsolcher\\nsolches\\nsoll\\nsollte\\nsondern\\nsonst\\nüber\\num\\nund\\nuns\\nunsere\\nunserem\\nunseren\\nunser\\nunseres\\nunter\\nviel\\nvom\\nvon\\nvor\\nwährend\\nwar\\nwaren\\nwarst\\nwas\\nweg\\nweil\\nweiter\\nwelche\\nwelchem\\nwelchen\\nwelcher\\nwelches\\nwenn\\nwerde\\nwerden\\nwie\\nwieder\\nwill\\nwir\\nwird\\nwirst\\nwo\\nwollen\\nwollte\\nwürde\\nwürden\\nzu\\nzum\\nzur\\nzwar\\nzwischen\\nαλλα\\nαν\\nαντι\\nαπο\\nαυτα\\nαυτεσ\\nαυτη\\nαυτο\\nαυτοι\\nαυτοσ\\nαυτουσ\\nαυτων\\nαἱ\\nαἳ\\nαἵ\\nαὐτόσ\\nαὐτὸς\\nαὖ\\nγάρ\\nγα\\nγα^\\nγε\\nγια\\nγοῦν\\nγὰρ\\nδ'\\nδέ\\nδή\\nδαί\\nδαίσ\\nδαὶ\\nδαὶς\\nδε\\nδεν\\nδι'\\nδιά\\nδιὰ\\nδὲ\\nδὴ\\nδ’\\nεαν\\nειμαι\\nειμαστε\\nειναι\\nεισαι\\nειστε\\nεκεινα\\nεκεινεσ\\nεκεινη\\nεκεινο\\nεκεινοι\\nεκεινοσ\\nεκεινουσ\\nεκεινων\\nενω\\nεπ\\nεπι\\nεἰ\\nεἰμί\\nεἰμὶ\\nεἰς\\nεἰσ\\nεἴ\\nεἴμι\\nεἴτε\\nη\\nθα\\nισωσ\\nκ\\nκαί\\nκαίτοι\\nκαθ\\nκαι\\nκατ\\nκατά\\nκατα\\nκατὰ\\nκαὶ\\nκι\\nκἀν\\nκἂν\\nμέν\\nμή\\nμήτε\\nμα\\nμε\\nμεθ\\nμετ\\nμετά\\nμετα\\nμετὰ\\nμη\\nμην\\nμἐν\\nμὲν\\nμὴ\\nμὴν\\nνα\\nο\\nοι\\nομωσ\\nοπωσ\\nοσο\\nοτι\\nοἱ\\nοἳ\\nοἷς\\nοὐ\\nοὐδ\\nοὐδέ\\nοὐδείσ\\nοὐδεὶς\\nοὐδὲ\\nοὐδὲν\\nοὐκ\\nοὐχ\\nοὐχὶ\\nοὓς\\nοὔτε\\nοὕτω\\nοὕτως\\nοὕτωσ\\nοὖν\\nοὗ\\nοὗτος\\nοὗτοσ\\nπαρ\\nπαρά\\nπαρα\\nπαρὰ\\nπερί\\nπερὶ\\nποια\\nποιεσ\\nποιο\\nποιοι\\nποιοσ\\nποιουσ\\nποιων\\nποτε\\nπου\\nποῦ\\nπρο\\nπροσ\\nπρόσ\\nπρὸ\\nπρὸς\\nπως\\nπωσ\\nσε\\nστη\\nστην\\nστο\\nστον\\nσόσ\\nσύ\\nσύν\\nσὸς\\nσὺ\\nσὺν\\nτά\\nτήν\\nτί\\nτίς\\nτίσ\\nτα\\nταῖς\\nτε\\nτην\\nτησ\\nτι\\nτινα\\nτις\\nτισ\\nτο\\nτοί\\nτοι\\nτοιοῦτος\\nτοιοῦτοσ\\nτον\\nτοτε\\nτου\\nτούσ\\nτοὺς\\nτοῖς\\nτοῦ\\nτων\\nτό\\nτόν\\nτότε\\nτὰ\\nτὰς\\nτὴν\\nτὸ\\nτὸν\\nτῆς\\nτῆσ\\nτῇ\\nτῶν\\nτῷ\\nωσ\\nἀλλ'\\nἀλλά\\nἀλλὰ\\nἀλλ’\\nἀπ\\nἀπό\\nἀπὸ\\nἀφ\\nἂν\\nἃ\\nἄλλος\\nἄλλοσ\\nἄν\\nἄρα\\nἅμα\\nἐάν\\nἐγώ\\nἐγὼ\\nἐκ\\nἐμόσ\\nἐμὸς\\nἐν\\nἐξ\\nἐπί\\nἐπεὶ\\nἐπὶ\\nἐστι\\nἐφ\\nἐὰν\\nἑαυτοῦ\\nἔτι\\nἡ\\nἢ\\nἣ\\nἤ\\nἥ\\nἧς\\nἵνα\\nὁ\\nὃ\\nὃν\\nὃς\\nὅ\\nὅδε\\nὅθεν\\nὅπερ\\nὅς\\nὅσ\\nὅστις\\nὅστισ\\nὅτε\\nὅτι\\nὑμόσ\\nὑπ\\nὑπέρ\\nὑπό\\nὑπὲρ\\nὑπὸ\\nὡς\\nὡσ\\nὥς\\nὥστε\\nὦ\\nᾧ\\na\\nahogy\\nahol\\naki\\nakik\\nakkor\\nalatt\\náltal\\náltalában\\namely\\namelyek\\namelyekben\\namelyeket\\namelyet\\namelynek\\nami\\namit\\namolyan\\namíg\\namikor\\nát\\nabban\\nahhoz\\nannak\\narra\\narról\\naz\\nazok\\nazon\\nazt\\nazzal\\nazért\\naztán\\nazután\\nazonban\\nbár\\nbe\\nbelül\\nbenne\\ncikk\\ncikkek\\ncikkeket\\ncsak\\nde\\ne\\neddig\\negész\\negy\\negyes\\negyetlen\\negyéb\\negyik\\negyre\\nekkor\\nel\\nelég\\nellen\\nelõ\\nelõször\\nelõtt\\nelsõ\\nén\\néppen\\nebben\\nehhez\\nemilyen\\nennek\\nerre\\nez\\nezt\\nezek\\nezen\\nezzel\\nezért\\nés\\nfel\\nfelé\\nhanem\\nhiszen\\nhogy\\nhogyan\\nigen\\nígy\\nilletve\\nill.\\nill\\nilyen\\nilyenkor\\nison\\nismét\\nitt\\njó\\njól\\njobban\\nkell\\nkellett\\nkeresztül\\nkeressünk\\nki\\nkívül\\nközött\\nközül\\nlegalább\\nlehet\\nlehetett\\nlegyen\\nlenne\\nlenni\\nlesz\\nlett\\nmaga\\nmagát\\nmajd\\nmajd\\nmár\\nmás\\nmásik\\nmeg\\nmég\\nmellett\\nmert\\nmely\\nmelyek\\nmi\\nmit\\nmíg\\nmiért\\nmilyen\\nmikor\\nminden\\nmindent\\nmindenki\\nmindig\\nmint\\nmintha\\nmivel\\nmost\\nnagy\\nnagyobb\\nnagyon\\nne\\nnéha\\nnekem\\nneki\\nnem\\nnéhány\\nnélkül\\nnincs\\nolyan\\nott\\nössze\\nõ\\nõk\\nõket\\npedig\\npersze\\nrá\\ns\\nsaját\\nsem\\nsemmi\\nsok\\nsokat\\nsokkal\\nszámára\\nszemben\\nszerint\\nszinte\\ntalán\\ntehát\\nteljes\\ntovább\\ntovábbá\\ntöbb\\núgy\\nugyanis\\núj\\nújabb\\nújra\\nután\\nutána\\nutolsó\\nvagy\\nvagyis\\nvalaki\\nvalami\\nvalamint\\nvaló\\nvagyok\\nvan\\nvannak\\nvolt\\nvoltam\\nvoltak\\nvoltunk\\nvissza\\nvele\\nviszont\\nvolna\\nada\\nadalah\\nadanya\\nadapun\\nagak\\nagaknya\\nagar\\nakan\\nakankah\\nakhir\\nakhiri\\nakhirnya\\naku\\nakulah\\namat\\namatlah\\nanda\\nandalah\\nantar\\nantara\\nantaranya\\napa\\napaan\\napabila\\napakah\\napalagi\\napatah\\nartinya\\nasal\\nasalkan\\natas\\natau\\nataukah\\nataupun\\nawal\\nawalnya\\nbagai\\nbagaikan\\nbagaimana\\nbagaimanakah\\nbagaimanapun\\nbagi\\nbagian\\nbahkan\\nbahwa\\nbahwasanya\\nbaik\\nbakal\\nbakalan\\nbalik\\nbanyak\\nbapak\\nbaru\\nbawah\\nbeberapa\\nbegini\\nbeginian\\nbeginikah\\nbeginilah\\nbegitu\\nbegitukah\\nbegitulah\\nbegitupun\\nbekerja\\nbelakang\\nbelakangan\\nbelum\\nbelumlah\\nbenar\\nbenarkah\\nbenarlah\\nberada\\nberakhir\\nberakhirlah\\nberakhirnya\\nberapa\\nberapakah\\nberapalah\\nberapapun\\nberarti\\nberawal\\nberbagai\\nberdatangan\\nberi\\nberikan\\nberikut\\nberikutnya\\nberjumlah\\nberkali-kali\\nberkata\\nberkehendak\\nberkeinginan\\nberkenaan\\nberlainan\\nberlalu\\nberlangsung\\nberlebihan\\nbermacam\\nbermacam-macam\\nbermaksud\\nbermula\\nbersama\\nbersama-sama\\nbersiap\\nbersiap-siap\\nbertanya\\nbertanya-tanya\\nberturut\\nberturut-turut\\nbertutur\\nberujar\\nberupa\\nbesar\\nbetul\\nbetulkah\\nbiasa\\nbiasanya\\nbila\\nbilakah\\nbisa\\nbisakah\\nboleh\\nbolehkah\\nbolehlah\\nbuat\\nbukan\\nbukankah\\nbukanlah\\nbukannya\\nbulan\\nbung\\ncara\\ncaranya\\ncukup\\ncukupkah\\ncukuplah\\ncuma\\ndahulu\\ndalam\\ndan\\ndapat\\ndari\\ndaripada\\ndatang\\ndekat\\ndemi\\ndemikian\\ndemikianlah\\ndengan\\ndepan\\ndi\\ndia\\ndiakhiri\\ndiakhirinya\\ndialah\\ndiantara\\ndiantaranya\\ndiberi\\ndiberikan\\ndiberikannya\\ndibuat\\ndibuatnya\\ndidapat\\ndidatangkan\\ndigunakan\\ndiibaratkan\\ndiibaratkannya\\ndiingat\\ndiingatkan\\ndiinginkan\\ndijawab\\ndijelaskan\\ndijelaskannya\\ndikarenakan\\ndikatakan\\ndikatakannya\\ndikerjakan\\ndiketahui\\ndiketahuinya\\ndikira\\ndilakukan\\ndilalui\\ndilihat\\ndimaksud\\ndimaksudkan\\ndimaksudkannya\\ndimaksudnya\\ndiminta\\ndimintai\\ndimisalkan\\ndimulai\\ndimulailah\\ndimulainya\\ndimungkinkan\\ndini\\ndipastikan\\ndiperbuat\\ndiperbuatnya\\ndipergunakan\\ndiperkirakan\\ndiperlihatkan\\ndiperlukan\\ndiperlukannya\\ndipersoalkan\\ndipertanyakan\\ndipunyai\\ndiri\\ndirinya\\ndisampaikan\\ndisebut\\ndisebutkan\\ndisebutkannya\\ndisini\\ndisinilah\\nditambahkan\\nditandaskan\\nditanya\\nditanyai\\nditanyakan\\nditegaskan\\nditujukan\\nditunjuk\\nditunjuki\\nditunjukkan\\nditunjukkannya\\nditunjuknya\\ndituturkan\\ndituturkannya\\ndiucapkan\\ndiucapkannya\\ndiungkapkan\\ndong\\ndua\\ndulu\\nempat\\nenggak\\nenggaknya\\nentah\\nentahlah\\nguna\\ngunakan\\nhal\\nhampir\\nhanya\\nhanyalah\\nhari\\nharus\\nharuslah\\nharusnya\\nhendak\\nhendaklah\\nhendaknya\\nhingga\\nia\\nialah\\nibarat\\nibaratkan\\nibaratnya\\nibu\\nikut\\ningat\\ningat-ingat\\ningin\\ninginkah\\ninginkan\\nini\\ninikah\\ninilah\\nitu\\nitukah\\nitulah\\njadi\\njadilah\\njadinya\\njangan\\njangankan\\njanganlah\\njauh\\njawab\\njawaban\\njawabnya\\njelas\\njelaskan\\njelaslah\\njelasnya\\njika\\njikalau\\njuga\\njumlah\\njumlahnya\\njustru\\nkala\\nkalau\\nkalaulah\\nkalaupun\\nkalian\\nkami\\nkamilah\\nkamu\\nkamulah\\nkan\\nkapan\\nkapankah\\nkapanpun\\nkarena\\nkarenanya\\nkasus\\nkata\\nkatakan\\nkatakanlah\\nkatanya\\nke\\nkeadaan\\nkebetulan\\nkecil\\nkedua\\nkeduanya\\nkeinginan\\nkelamaan\\nkelihatan\\nkelihatannya\\nkelima\\nkeluar\\nkembali\\nkemudian\\nkemungkinan\\nkemungkinannya\\nkenapa\\nkepada\\nkepadanya\\nkesampaian\\nkeseluruhan\\nkeseluruhannya\\nketerlaluan\\nketika\\nkhususnya\\nkini\\nkinilah\\nkira\\nkira-kira\\nkiranya\\nkita\\nkitalah\\nkok\\nkurang\\nlagi\\nlagian\\nlah\\nlain\\nlainnya\\nlalu\\nlama\\nlamanya\\nlanjut\\nlanjutnya\\nlebih\\nlewat\\nlima\\nluar\\nmacam\\nmaka\\nmakanya\\nmakin\\nmalah\\nmalahan\\nmampu\\nmampukah\\nmana\\nmanakala\\nmanalagi\\nmasa\\nmasalah\\nmasalahnya\\nmasih\\nmasihkah\\nmasing\\nmasing-masing\\nmau\\nmaupun\\nmelainkan\\nmelakukan\\nmelalui\\nmelihat\\nmelihatnya\\nmemang\\nmemastikan\\nmemberi\\nmemberikan\\nmembuat\\nmemerlukan\\nmemihak\\nmeminta\\nmemintakan\\nmemisalkan\\nmemperbuat\\nmempergunakan\\nmemperkirakan\\nmemperlihatkan\\nmempersiapkan\\nmempersoalkan\\nmempertanyakan\\nmempunyai\\nmemulai\\nmemungkinkan\\nmenaiki\\nmenambahkan\\nmenandaskan\\nmenanti\\nmenanti-nanti\\nmenantikan\\nmenanya\\nmenanyai\\nmenanyakan\\nmendapat\\nmendapatkan\\nmendatang\\nmendatangi\\nmendatangkan\\nmenegaskan\\nmengakhiri\\nmengapa\\nmengatakan\\nmengatakannya\\nmengenai\\nmengerjakan\\nmengetahui\\nmenggunakan\\nmenghendaki\\nmengibaratkan\\nmengibaratkannya\\nmengingat\\nmengingatkan\\nmenginginkan\\nmengira\\nmengucapkan\\nmengucapkannya\\nmengungkapkan\\nmenjadi\\nmenjawab\\nmenjelaskan\\nmenuju\\nmenunjuk\\nmenunjuki\\nmenunjukkan\\nmenunjuknya\\nmenurut\\nmenuturkan\\nmenyampaikan\\nmenyangkut\\nmenyatakan\\nmenyebutkan\\nmenyeluruh\\nmenyiapkan\\nmerasa\\nmereka\\nmerekalah\\nmerupakan\\nmeski\\nmeskipun\\nmeyakini\\nmeyakinkan\\nminta\\nmirip\\nmisal\\nmisalkan\\nmisalnya\\nmula\\nmulai\\nmulailah\\nmulanya\\nmungkin\\nmungkinkah\\nnah\\nnaik\\nnamun\\nnanti\\nnantinya\\nnyaris\\nnyatanya\\noleh\\nolehnya\\npada\\npadahal\\npadanya\\npak\\npaling\\npanjang\\npantas\\npara\\npasti\\npastilah\\npenting\\npentingnya\\nper\\npercuma\\nperlu\\nperlukah\\nperlunya\\npernah\\npersoalan\\npertama\\npertama-tama\\npertanyaan\\npertanyakan\\npihak\\npihaknya\\npukul\\npula\\npun\\npunya\\nrasa\\nrasanya\\nrata\\nrupanya\\nsaat\\nsaatnya\\nsaja\\nsajalah\\nsaling\\nsama\\nsama-sama\\nsambil\\nsampai\\nsampai-sampai\\nsampaikan\\nsana\\nsangat\\nsangatlah\\nsatu\\nsaya\\nsayalah\\nse\\nsebab\\nsebabnya\\nsebagai\\nsebagaimana\\nsebagainya\\nsebagian\\nsebaik\\nsebaik-baiknya\\nsebaiknya\\nsebaliknya\\nsebanyak\\nsebegini\\nsebegitu\\nsebelum\\nsebelumnya\\nsebenarnya\\nseberapa\\nsebesar\\nsebetulnya\\nsebisanya\\nsebuah\\nsebut\\nsebutlah\\nsebutnya\\nsecara\\nsecukupnya\\nsedang\\nsedangkan\\nsedemikian\\nsedikit\\nsedikitnya\\nseenaknya\\nsegala\\nsegalanya\\nsegera\\nseharusnya\\nsehingga\\nseingat\\nsejak\\nsejauh\\nsejenak\\nsejumlah\\nsekadar\\nsekadarnya\\nsekali\\nsekali-kali\\nsekalian\\nsekaligus\\nsekalipun\\nsekarang\\nsekarang\\nsekecil\\nseketika\\nsekiranya\\nsekitar\\nsekitarnya\\nsekurang-kurangnya\\nsekurangnya\\nsela\\nselain\\nselaku\\nselalu\\nselama\\nselama-lamanya\\nselamanya\\nselanjutnya\\nseluruh\\nseluruhnya\\nsemacam\\nsemakin\\nsemampu\\nsemampunya\\nsemasa\\nsemasih\\nsemata\\nsemata-mata\\nsemaunya\\nsementara\\nsemisal\\nsemisalnya\\nsempat\\nsemua\\nsemuanya\\nsemula\\nsendiri\\nsendirian\\nsendirinya\\nseolah\\nseolah-olah\\nseorang\\nsepanjang\\nsepantasnya\\nsepantasnyalah\\nseperlunya\\nseperti\\nsepertinya\\nsepihak\\nsering\\nseringnya\\nserta\\nserupa\\nsesaat\\nsesama\\nsesampai\\nsesegera\\nsesekali\\nseseorang\\nsesuatu\\nsesuatunya\\nsesudah\\nsesudahnya\\nsetelah\\nsetempat\\nsetengah\\nseterusnya\\nsetiap\\nsetiba\\nsetibanya\\nsetidak-tidaknya\\nsetidaknya\\nsetinggi\\nseusai\\nsewaktu\\nsiap\\nsiapa\\nsiapakah\\nsiapapun\\nsini\\nsinilah\\nsoal\\nsoalnya\\nsuatu\\nsudah\\nsudahkah\\nsudahlah\\nsupaya\\ntadi\\ntadinya\\ntahu\\ntahun\\ntak\\ntambah\\ntambahnya\\ntampak\\ntampaknya\\ntandas\\ntandasnya\\ntanpa\\ntanya\\ntanyakan\\ntanyanya\\ntapi\\ntegas\\ntegasnya\\ntelah\\ntempat\\ntengah\\ntentang\\ntentu\\ntentulah\\ntentunya\\ntepat\\nterakhir\\nterasa\\nterbanyak\\nterdahulu\\nterdapat\\nterdiri\\nterhadap\\nterhadapnya\\nteringat\\nteringat-ingat\\nterjadi\\nterjadilah\\nterjadinya\\nterkira\\nterlalu\\nterlebih\\nterlihat\\ntermasuk\\nternyata\\ntersampaikan\\ntersebut\\ntersebutlah\\ntertentu\\ntertuju\\nterus\\nterutama\\ntetap\\ntetapi\\ntiap\\ntiba\\ntiba-tiba\\ntidak\\ntidakkah\\ntidaklah\\ntiga\\ntinggi\\ntoh\\ntunjuk\\nturut\\ntutur\\ntuturnya\\nucap\\nucapnya\\nujar\\nujarnya\\numum\\numumnya\\nungkap\\nungkapnya\\nuntuk\\nusah\\nusai\\nwaduh\\nwah\\nwahai\\nwaktu\\nwaktunya\\nwalau\\nwalaupun\\nwong\\nyaitu\\nyakin\\nyakni\\nyangad\\nal\\nallo\\nai\\nagli\\nall\\nagl\\nalla\\nalle\\ncon\\ncol\\ncoi\\nda\\ndal\\ndallo\\ndai\\ndagli\\ndall\\ndagl\\ndalla\\ndalle\\ndi\\ndel\\ndello\\ndei\\ndegli\\ndell\\ndegl\\ndella\\ndelle\\nin\\nnel\\nnello\\nnei\\nnegli\\nnell\\nnegl\\nnella\\nnelle\\nsu\\nsul\\nsullo\\nsui\\nsugli\\nsull\\nsugl\\nsulla\\nsulle\\nper\\ntra\\ncontro\\nio\\ntu\\nlui\\nlei\\nnoi\\nvoi\\nloro\\nmio\\nmia\\nmiei\\nmie\\ntuo\\ntua\\ntuoi\\ntue\\nsuo\\nsua\\nsuoi\\nsue\\nnostro\\nnostra\\nnostri\\nnostre\\nvostro\\nvostra\\nvostri\\nvostre\\nmi\\nti\\nci\\nvi\\nlo\\nla\\nli\\nle\\ngli\\nne\\nil\\nun\\nuno\\nuna\\nma\\ned\\nse\\nperché\\nanche\\ncome\\ndov\\ndove\\nche\\nchi\\ncui\\nnon\\npiù\\nquale\\nquanto\\nquanti\\nquanta\\nquante\\nquello\\nquelli\\nquella\\nquelle\\nquesto\\nquesti\\nquesta\\nqueste\\nsi\\ntutto\\ntutti\\na\\nc\\ne\\ni\\nl\\no\\nho\\nhai\\nha\\nabbiamo\\navete\\nhanno\\nabbia\\nabbiate\\nabbiano\\navrò\\navrai\\navrà\\navremo\\navrete\\navranno\\navrei\\navresti\\navrebbe\\navremmo\\navreste\\navrebbero\\navevo\\navevi\\naveva\\navevamo\\navevate\\navevano\\nebbi\\navesti\\nebbe\\navemmo\\naveste\\nebbero\\navessi\\navesse\\navessimo\\navessero\\navendo\\navuto\\navuta\\navuti\\navute\\nsono\\nsei\\nè\\nsiamo\\nsiete\\nsia\\nsiate\\nsiano\\nsarò\\nsarai\\nsarà\\nsaremo\\nsarete\\nsaranno\\nsarei\\nsaresti\\nsarebbe\\nsaremmo\\nsareste\\nsarebbero\\nero\\neri\\nera\\neravamo\\neravate\\nerano\\nfui\\nfosti\\nfu\\nfummo\\nfoste\\nfurono\\nfossi\\nfosse\\nfossimo\\nfossero\\nessendo\\nfaccio\\nfai\\nfacciamo\\nfanno\\nfaccia\\nfacciate\\nfacciano\\nfarò\\nfarai\\nfarà\\nfaremo\\nfarete\\nfaranno\\nfarei\\nfaresti\\nfarebbe\\nfaremmo\\nfareste\\nfarebbero\\nfacevo\\nfacevi\\nfaceva\\nfacevamo\\nfacevate\\nfacevano\\nfeci\\nfacesti\\nfece\\nfacemmo\\nfaceste\\nfecero\\nfacessi\\nfacesse\\nfacessimo\\nfacessero\\nfacendo\\nsto\\nstai\\nsta\\nstiamo\\nstanno\\nstia\\nstiate\\nstiano\\nstarò\\nstarai\\nstarà\\nstaremo\\nstarete\\nstaranno\\nstarei\\nstaresti\\nstarebbe\\nstaremmo\\nstareste\\nstarebbero\\nstavo\\nstavi\\nstava\\nstavamo\\nstavate\\nstavano\\nstetti\\nstesti\\nstette\\nstemmo\\nsteste\\nstettero\\nstessi\\nstesse\\nstessimo\\nstessero\\nstando\\nах\\nох\\nэх\\nай\\nэй\\nой\\nтағы\\nтағыда\\nәрине\\nжоқ\\nсондай\\nосындай\\nосылай\\nсолай\\nмұндай\\nбұндай\\nмен\\nсен\\nол\\nбіз\\nбіздер\\nолар\\nсіз\\nсіздер\\nмаған\\nоған\\nсаған\\nбіздің\\nсіздің\\nоның\\nбізге\\nсізге\\nоларға\\nбіздерге\\nсіздерге\\nоларға\\nменімен\\nсенімен\\nонымен\\nбізбен\\nсізбен\\nолармен\\nбіздермен\\nсіздермен\\nменің\\nсенің\\nбіздің\\nсіздің\\nоның\\nбіздердің\\nсіздердің\\nолардың\\nмаған\\nсаған\\nоған\\nменен\\nсенен\\nодан\\nбізден\\nсізден\\nолардан\\nбіздерден\\nсіздерден\\nолардан\\nайтпақшы\\nсонымен\\nсондықтан\\nбұл\\nосы\\nсол\\nанау\\nмынау\\nсонау\\nосынау\\nана\\nмына\\nсона\\nәні\\nміне\\nөй\\nүйт\\nбүйт\\nбіреу\\nкейбіреу\\nкейбір\\nқайсыбір\\nәрбір\\nбірнеше\\nбірдеме\\nбірнеше\\nәркім\\nәрне\\nәрқайсы\\nәрқалай\\nәлдекім\\nәлдене\\nәлдеқайдан\\nәлденеше\\nәлдеқалай\\nәлдеқашан\\nалдақашан\\nеш\\nешкім\\nешбір\\nештеме\\nдәнеңе\\nешқашан\\nешқандай\\nешқайсы\\nемес\\nбәрі\\nбарлық\\nбарша\\nбар\\nкүллі\\nбүкіл\\nтүгел\\nөз\\nөзім\\nөзің\\nөзінің\\nөзіме\\nөзіне\\nөзімнің\\nөзі\\nөзге\\nменде\\nсенде\\nонда\\nменен\\nсенен\\tонан\\nодан\\nау\\nпа\\nей\\nәй\\nе\\nуа\\nуау\\nуай\\nя\\nпай\\nә\\nо\\nоһо\\nой\\nие\\nаһа\\nау\\nбеу\\nмәссаған\\nбәрекелді\\nәттегенай\\nжаракімалла\\nмасқарай\\nастапыралла\\nяпырмай\\nойпырмай\\nкәне\\nкәнеки\\nал\\nәйда\\nкәні\\nміне\\nәні\\nсорап\\nқош-қош\\nпфша\\nпішә\\nқұрау-құрау\\nшәйт\\nшек\\nмоһ\\nтәк\\nқұрау\\nқұр\\nкә\\nкәһ\\nкүшім\\nкүшім\\nмышы\\nпырс\\nәукім\\nалақай\\nпаһ-паһ\\nбәрекелді\\nура\\nәттең\\nәттеген-ай\\nқап\\nтүге\\nпішту\\nшіркін\\nалатау\\nпай-пай\\nүшін\\nсайын\\nсияқты\\nтуралы\\nарқылы\\nбойы\\nбойымен\\nшамалы\\nшақты\\nқаралы\\nғұрлы\\nғұрлым\\nшейін\\nдейін\\nқарай\\nтаман\\nсалым\\nтарта\\nжуық\\nтаяу\\nгөрі\\nбері\\nкейін\\nсоң\\nбұрын\\nбетер\\nқатар\\nбірге\\nқоса\\nарс\\n\\nгүрс\\n\\nдүрс\\n\\nқорс\\n\\nтарс\\n\\nтырс\\n\\nырс\\n\\nбарқ\\n\\nборт\\n\\nкүрт\\n\\nкірт\\n\\nморт\\n\\nсарт\\n\\nшырт\\n\\nдүңк\\n\\nкүңк\\n\\nқыңқ\\n\\nмыңқ\\n\\nмаңқ\\n\\nсаңқ\\n\\nшаңқ\\n\\nшіңк\\n\\nсыңқ\\n\\nтаңқ\\n\\nтыңқ\\n\\nыңқ\\n\\nболп\\n\\nбылп\\n\\nжалп\\n\\nжелп\\n\\nқолп\\n\\nірк\\n\\nырқ\\n\\nсарт-сұрт\\n\\nтарс-тұрс\\n\\nарс-ұрс\\n\\nжалт-жалт\\n\\nжалт-жұлт\\n\\nқалт-қалт\\n\\nқалт-құлт\\n\\nқаңқ-қаңқ\\n\\nқаңқ-құңқ\\n\\nшаңқ-шаңқ\\n\\nшаңқ-шұңқ\\n\\nарбаң-арбаң\\n\\nбүгжең-бүгжең\\n\\nарсалаң-арсалаң\\n\\nербелең-ербелең\\n\\nбатыр-бұтыр\\n\\nдалаң-далаң\\n\\nтарбаң-тарбаң\\n\\nқызараң-қызараң\\n\\nқаңғыр-күңгір\\n\\nқайқаң-құйқаң\\n\\nмитың-митың\\n\\nсалаң-сұлаң\\n\\nыржың-тыржың\\nбірақ\\nалайда\\nдегенмен\\nәйтпесе\\nәйткенмен\\nсебебі\\nөйткені\\nсондықтан\\nүшін\\nсайын\\nсияқты\\nтуралы\\nарқылы\\nбойы\\nбойымен\\nшамалы\\nшақты\\nқаралы\\nғұрлы\\nғұрлым\\nгөрі\\nбері\\nкейін\\nсоң\\nбұрын\\nбетер\\nқатар\\nбірге\\nқоса\\nшейін\\nдейін\\nқарай\\nтаман\\nсалым\\nтарта\\nжуық\\nтаяу\\nарнайы\\nосындай\\nғана\\nқана\\nтек\\nәншейін\\nछ\\nर\\nपनि\\nछन्\\nलागि\\nभएको\\nगरेको\\nभने\\nगर्न\\nगर्ने\\nहो\\nतथा\\nयो\\nरहेको\\nउनले\\nथियो\\nहुने\\nगरेका\\nथिए\\nगर्दै\\nतर\\nनै\\nको\\nमा\\nहुन्\\nभन्ने\\nहुन\\nगरी\\nत\\nहुन्छ\\nअब\\nके\\nरहेका\\nगरेर\\nछैन\\nदिए\\nभए\\nयस\\nले\\nगर्नु\\nऔं\\nसो\\nत्यो\\nकि\\nजुन\\nयी\\nका\\nगरि\\nती\\nन\\nछु\\nछौं\\nलाई\\nनि\\nउप\\nअक्सर\\nआदि\\nकसरी\\nक्रमशः\\nचाले\\nअगाडी\\nअझै\\nअनुसार\\nअन्तर्गत\\nअन्य\\nअन्यत्र\\nअन्यथा\\nअरु\\nअरुलाई\\nअर्को\\nअर्थात\\nअर्थात्\\nअलग\\nआए\\nआजको\\nओठ\\nआत्म\\nआफू\\nआफूलाई\\nआफ्नै\\nआफ्नो\\nआयो\\nउदाहरण\\nउनको\\nउहालाई\\nएउटै\\nएक\\nएकदम\\nकतै\\nकम से कम\\nकसै\\nकसैले\\nकहाँबाट\\nकहिलेकाहीं\\nका\\nकिन\\nकिनभने\\nकुनै\\nकुरा\\nकृपया\\nकेही\\nकोही\\nगए\\nगरौं\\nगर्छ\\nगर्छु\\nगर्नुपर्छ\\nगयौ\\nगैर\\nचार\\nचाहनुहुन्छ\\nचाहन्छु\\nचाहिए\\nछू\\nजताततै\\nजब\\nजबकि\\nजसको\\nजसबाट\\nजसमा\\nजसलाई\\nजसले\\nजस्तै\\nजस्तो\\nजस्तोसुकै\\nजहाँ\\nजान\\nजाहिर\\nजे\\nजो\\nठीक\\nतत्काल\\nतदनुसार\\nतपाईको\\nतपाई\\nपर्याप्त\\nपहिले\\nपहिलो\\nपहिल्यै\\nपाँच\\nपाँचौं\\nतल\\nतापनी\\nतिनी\\nतिनीहरू\\nतिनीहरुको\\nतिनिहरुलाई\\nतिमी\\nतिर\\nतीन\\nतुरुन्तै\\nतेस्रो\\nतेस्कारण\\nपूर्व\\nप्रति\\nप्रतेक\\nप्लस\\nफेरी\\nबने\\nत्सपछि\\nत्सैले\\nत्यहाँ\\nथिएन\\nदिनुभएको\\nदिनुहुन्छ\\nदुई\\nदेखि\\nबरु\\nबारे\\nबाहिर\\nदेखिन्छ\\nदेखियो\\nदेखे\\nदेखेको\\nदेखेर\\nदोस्रो\\nधेरै\\nनजिकै\\nनत्र\\nनयाँ\\nनिम्ति\\nबाहेक\\nबीच\\nबीचमा\\nभन\\nनिम्न\\nनिम्नानुसार\\nनिर्दिष्ट\\nनौ\\nपक्का\\nपक्कै\\nपछि\\nपछिल्लो\\nपटक\\nपर्छ\\nपर्थ्यो\\nभन्छन्\\nभन्\\nभन्छु\\nभन्दा\\nभन्नुभयो\\nभर\\nभित्र\\nभित्री\\nम\\nमलाई\\nमात्र\\nमाथि\\nमुख्य\\nमेरो\\nयति\\nयथोचित\\nयदि\\nयद्यपि\\nयसको\\nयसपछि\\nयसबाहेक\\nयसरी\\nयसो\\nयस्तो\\nयहाँ\\nयहाँसम्म\\nया\\nरही\\nराखे\\nराख्छ\\nराम्रो\\nरूप\\nलगभग\\nवरीपरी\\nवास्तवमा\\nबिरुद्ध\\nबिशेष\\nसायद\\nशायद\\nसंग\\nसंगै\\nसक्छ\\nसट्टा\\nसधै\\nसबै\\nसबैलाई\\nसमय\\nसम्भव\\nसम्म\\nसही\\nसाँच्चै\\nसात\\nसाथ\\nसाथै\\nसारा\\nसोही\\nस्पष्ट\\nहरे\\nहरेकog\\ni\\njeg\\ndet\\nat\\nen\\net\\nden\\ntil\\ner\\nsom\\npå\\nde\\nmed\\nhan\\nav\\nikke\\nikkje\\nder\\nså\\nvar\\nmeg\\nseg\\nmen\\nett\\nhar\\nom\\nvi\\nmin\\nmitt\\nha\\nhadde\\nhun\\nnå\\nover\\nda\\nved\\nfra\\ndu\\nut\\nsin\\ndem\\noss\\nopp\\nman\\nkan\\nhans\\nhvor\\neller\\nhva\\nskal\\nselv\\nsjøl\\nher\\nalle\\nvil\\nbli\\nble\\nblei\\nblitt\\nkunne\\ninn\\nnår\\nvære\\nkom\\nnoen\\nnoe\\nville\\ndere\\nsom\\nderes\\nkun\\nja\\netter\\nned\\nskulle\\ndenne\\nfor\\ndeg\\nsi\\nsine\\nsitt\\nmot\\nå\\nmeget\\nhvorfor\\ndette\\ndisse\\nuten\\nhvordan\\ningen\\ndin\\nditt\\nblir\\nsamme\\nhvilken\\nhvilke\\nsånn\\ninni\\nmellom\\nvår\\nhver\\nhvem\\nvors\\nhvis\\nbåde\\nbare\\nenn\\nfordi\\nfør\\nmange\\nogså\\nslik\\nvært\\nvære\\nbåe\\nbegge\\nsiden\\ndykk\\ndykkar\\ndei\\ndeira\\ndeires\\ndeim\\ndi\\ndå\\neg\\nein\\neit\\neitt\\nelles\\nhonom\\nhjå\\nho\\nhoe\\nhenne\\nhennar\\nhennes\\nhoss\\nhossen\\nikkje\\ningi\\ninkje\\nkorleis\\nkorso\\nkva\\nkvar\\nkvarhelst\\nkven\\nkvi\\nkvifor\\nme\\nmedan\\nmi\\nmine\\nmykje\\nno\\nnokon\\nnoka\\nnokor\\nnoko\\nnokre\\nsi\\nsia\\nsidan\\nso\\nsomt\\nsomme\\num\\nupp\\nvere\\nvore\\nverte\\nvort\\nvarte\\nvart\\nde\\na\\no\\nque\\ne\\né\\ndo\\nda\\nem\\num\\npara\\ncom\\nnão\\numa\\nos\\nno\\nse\\nna\\npor\\nmais\\nas\\ndos\\ncomo\\nmas\\nao\\nele\\ndas\\nà\\nseu\\nsua\\nou\\nquando\\nmuito\\nnos\\njá\\neu\\ntambém\\nsó\\npelo\\npela\\naté\\nisso\\nela\\nentre\\ndepois\\nsem\\nmesmo\\naos\\nseus\\nquem\\nnas\\nme\\nesse\\neles\\nvocê\\nessa\\nnum\\nnem\\nsuas\\nmeu\\nàs\\nminha\\nnuma\\npelos\\nelas\\nqual\\nnós\\nlhe\\ndeles\\nessas\\nesses\\npelas\\neste\\ndele\\ntu\\nte\\nvocês\\nvos\\nlhes\\nmeus\\nminhas\\nteu\\ntua\\nteus\\ntuas\\nnosso\\nnossa\\nnossos\\nnossas\\ndela\\ndelas\\nesta\\nestes\\nestas\\naquele\\naquela\\naqueles\\naquelas\\nisto\\naquilo\\nestou\\nestá\\nestamos\\nestão\\nestive\\nesteve\\nestivemos\\nestiveram\\nestava\\nestávamos\\nestavam\\nestivera\\nestivéramos\\nesteja\\nestejamos\\nestejam\\nestivesse\\nestivéssemos\\nestivessem\\nestiver\\nestivermos\\nestiverem\\nhei\\nhá\\nhavemos\\nhão\\nhouve\\nhouvemos\\nhouveram\\nhouvera\\nhouvéramos\\nhaja\\nhajamos\\nhajam\\nhouvesse\\nhouvéssemos\\nhouvessem\\nhouver\\nhouvermos\\nhouverem\\nhouverei\\nhouverá\\nhouveremos\\nhouverão\\nhouveria\\nhouveríamos\\nhouveriam\\nsou\\nsomos\\nsão\\nera\\néramos\\neram\\nfui\\nfoi\\nfomos\\nforam\\nfora\\nfôramos\\nseja\\nsejamos\\nsejam\\nfosse\\nfôssemos\\nfossem\\nfor\\nformos\\nforem\\nserei\\nserá\\nseremos\\nserão\\nseria\\nseríamos\\nseriam\\ntenho\\ntem\\ntemos\\ntém\\ntinha\\ntínhamos\\ntinham\\ntive\\nteve\\ntivemos\\ntiveram\\ntivera\\ntivéramos\\ntenha\\ntenhamos\\ntenham\\ntivesse\\ntivéssemos\\ntivessem\\ntiver\\ntivermos\\ntiverem\\nterei\\nterá\\nteremos\\nterão\\nteria\\nteríamos\\nteriam\\na\\nabia\\nacea\\naceasta\\naceastă\\naceea\\naceeasi\\nacei\\naceia\\nacel\\nacela\\nacelasi\\nacele\\nacelea\\nacest\\nacesta\\naceste\\nacestea\\nacestei\\nacestia\\nacestui\\naceşti\\naceştia\\nadica\\nai\\naia\\naibă\\naici\\nal\\nala\\nale\\nalea\\nalt\\nalta\\naltceva\\naltcineva\\nalte\\naltfel\\nalti\\naltii\\naltul\\nam\\nanume\\napoi\\nar\\nare\\nas\\nasa\\nasta\\nastea\\nastfel\\nasupra\\natare\\natat\\natata\\natatea\\natatia\\nati\\natit\\natita\\natitea\\natitia\\natunci\\nau\\navea\\navem\\naveţi\\navut\\naş\\naţi\\nba\\nca\\ncam\\ncand\\ncare\\ncareia\\ncarora\\ncaruia\\ncat\\ncatre\\nce\\ncea\\nceea\\ncei\\nceilalti\\ncel\\ncele\\ncelor\\nceva\\nchiar\\nci\\ncind\\ncine\\ncineva\\ncit\\ncita\\ncite\\nciteva\\nciti\\ncitiva\\ncu\\ncui\\ncum\\ncumva\\ncât\\ncâte\\ncâtva\\ncâţi\\ncînd\\ncît\\ncîte\\ncîtva\\ncîţi\\ncă\\ncăci\\ncărei\\ncăror\\ncărui\\ncătre\\nda\\ndaca\\ndacă\\ndar\\ndat\\ndată\\ndau\\nde\\ndeasupra\\ndeci\\ndecit\\ndeja\\ndesi\\ndespre\\ndeşi\\ndin\\ndintr\\ndintr-\\ndintre\\ndoar\\ndoi\\ndoilea\\ndouă\\ndrept\\ndupa\\ndupă\\ndă\\ne\\nea\\nei\\nel\\nele\\nera\\neram\\neste\\neu\\neşti\\nface\\nfara\\nfata\\nfel\\nfi\\nfie\\nfiecare\\nfii\\nfim\\nfiu\\nfiţi\\nfoarte\\nfost\\nfără\\ni\\nia\\niar\\nii\\nil\\nimi\\nin\\ninainte\\ninapoi\\ninca\\nincit\\ninsa\\nintr\\nintre\\nisi\\niti\\nla\\nle\\nli\\nlor\\nlui\\nlângă\\nlîngă\\nm\\nma\\nmai\\nmea\\nmei\\nmele\\nmereu\\nmeu\\nmi\\nmie\\nmine\\nmod\\nmult\\nmulta\\nmulte\\nmulti\\nmultă\\nmulţi\\nmâine\\nmîine\\nmă\\nne\\nni\\nnici\\nnimeni\\nnimic\\nniste\\nnişte\\nnoastre\\nnoastră\\nnoi\\nnostri\\nnostru\\nnou\\nnoua\\nnouă\\nnoştri\\nnu\\nnumai\\no\\nor\\nori\\noricare\\norice\\noricine\\noricum\\noricând\\noricât\\noricînd\\noricît\\noriunde\\npai\\nparca\\npatra\\npatru\\npe\\npentru\\npeste\\npic\\npina\\npoate\\npot\\nprea\\nprima\\nprimul\\nprin\\nprintr-\\nputini\\npuţin\\npuţina\\npuţină\\npână\\npînă\\nsa\\nsa-mi\\nsa-ti\\nsai\\nsale\\nsau\\nse\\nsi\\nsint\\nsintem\\nspate\\nspre\\nsub\\nsunt\\nsuntem\\nsunteţi\\nsus\\nsă\\nsăi\\nsău\\nt\\nta\\ntale\\nte\\nti\\ntine\\ntoata\\ntoate\\ntoată\\ntocmai\\ntot\\ntoti\\ntotul\\ntotusi\\ntotuşi\\ntoţi\\ntrei\\ntreia\\ntreilea\\ntu\\ntuturor\\ntăi\\ntău\\nu\\nul\\nului\\nun\\nuna\\nunde\\nundeva\\nunei\\nuneia\\nunele\\nuneori\\nunii\\nunor\\nunora\\nunu\\nunui\\nunuia\\nunul\\nv\\nva\\nvi\\nvoastre\\nvoastră\\nvoi\\nvom\\nvor\\nvostru\\nvouă\\nvoştri\\nvreo\\nvreun\\nvă\\nzi\\nzice\\nîi\\nîl\\nîmi\\nîn\\nîţi\\năla\\nălea\\năsta\\năstea\\năştia\\nşi\\nţi\\nţieи\\nв\\nво\\nне\\nчто\\nон\\nна\\nя\\nс\\nсо\\nкак\\nа\\nто\\nвсе\\nона\\nтак\\nего\\nно\\nда\\nты\\nк\\nу\\nже\\nвы\\nза\\nбы\\nпо\\nтолько\\nее\\nмне\\nбыло\\nвот\\nот\\nменя\\nеще\\nнет\\nо\\nиз\\nему\\nтеперь\\nкогда\\nдаже\\nну\\nвдруг\\nли\\nесли\\nуже\\nили\\nни\\nбыть\\nбыл\\nнего\\nдо\\nвас\\nнибудь\\nопять\\nуж\\nвам\\nведь\\nтам\\nпотом\\nсебя\\nничего\\nей\\nможет\\nони\\nтут\\nгде\\nесть\\nнадо\\nней\\nдля\\nмы\\nтебя\\nих\\nчем\\nбыла\\nсам\\nчтоб\\nбез\\nбудто\\nчего\\nраз\\nтоже\\nсебе\\nпод\\nбудет\\nж\\nтогда\\nкто\\nэтот\\nтого\\nпотому\\nэтого\\nкакой\\nсовсем\\nним\\nздесь\\nэтом\\nодин\\nпочти\\nмой\\nтем\\nчтобы\\nнее\\nсейчас\\nбыли\\nкуда\\nзачем\\nвсех\\nникогда\\nможно\\nпри\\nнаконец\\nдва\\nоб\\nдругой\\nхоть\\nпосле\\nнад\\nбольше\\nтот\\nчерез\\nэти\\nнас\\nпро\\nвсего\\nних\\nкакая\\nмного\\nразве\\nтри\\nэту\\nмоя\\nвпрочем\\nхорошо\\nсвою\\nэтой\\nперед\\nиногда\\nлучше\\nчуть\\nтом\\nнельзя\\nтакой\\nим\\nболее\\nвсегда\\nконечно\\nвсю\\nмежду\\nali\\nampak\\nbodisi\\nin\\nkajti\\nmarveč\\nnamreč\\nne\\nniti\\noziroma\\npa\\nsaj\\nsicer\\ntemveč\\nter\\ntoda\\ntorej\\nvendar\\nvendarle\\nzakaj\\nče\\nčeprav\\nčeravno\\nčetudi\\nčim\\nda\\nkadar\\nkakor\\nker\\nki\\nko\\nkot\\nnaj\\nnajsi\\nodkar\\npreden\\ndve\\ndvema\\ndveh\\nšest\\nšestdeset\\nšestindvajset\\nšestintrideset\\nšestnajst\\nšeststo\\nštiri\\nštirideset\\nštiriindvajset\\nštirinajst\\nštiristo\\ndeset\\ndevet\\ndevetdeset\\ndevetintrideset\\ndevetnajst\\ndevetsto\\ndvainšestdeset\\ndvaindvajset\\ndvajset\\ndvanajst\\ndvesto\\nenaindvajset\\nenaintrideset\\nenajst\\nnič\\nosem\\nosemdeset\\noseminštirideset\\nosemindevetdeset\\nosemnajst\\npet\\npetdeset\\npetinštirideset\\npetindevetdeset\\npetindvajset\\npetinosemdeset\\npetinpetdeset\\npetinsedemdeset\\npetintrideset\\npetnajst\\npetsto\\nsedem\\nsedemdeset\\nsedeminšestdeset\\nsedemindvajset\\nsedeminpetdeset\\nsedemnajst\\nsedemsto\\nsto\\ntisoč\\ntri\\ntrideset\\ntriinšestdeset\\ntriindvajset\\ntriinpetdeset\\ntrinajst\\ntristo\\nšestdesetim\\nšestim\\nšestindvajsetim\\nšestintridesetim\\nšestnajstim\\nšeststotim\\nštiridesetim\\nštiriindvajsetim\\nštirim\\nštirinajstim\\nštiristotim\\ndesetim\\ndevetdesetim\\ndevetim\\ndevetintridesetim\\ndevetnajstim\\ndevetstotim\\ndvainšestdesetim\\ndvaindvajsetim\\ndvajsetim\\ndvanajstim\\ndvestotim\\nenaindvajsetim\\nenaintridesetim\\nenajstim\\nosemdesetim\\noseminštiridesetim\\nosemindevetdesetim\\nosemnajstim\\nosmim\\npetdesetim\\npetim\\npetinštiridesetim\\npetindevetdesetim\\npetindvajsetim\\npetinosemdesetim\\npetinpetdesetim\\npetinsedemdesetim\\npetintridesetim\\npetnajstim\\npetstotim\\nsedemdesetim\\nsedeminšestdesetim\\nsedemindvajsetim\\nsedeminpetdesetim\\nsedemnajstim\\nsedemstotim\\nsedmim\\nstotim\\ntisočim\\ntrem\\ntridesetim\\ntriinšestdesetim\\ntriindvajsetim\\ntriinpetdesetim\\ntrinajstim\\ntristotim\\nšestdesetih\\nšestih\\nšestindvajsetih\\nšestintridesetih\\nšestnajstih\\nšeststotih\\nštiridesetih\\nštirih\\nštiriindvajsetih\\nštirinajstih\\nštiristotih\\ndesetih\\ndevetdesetih\\ndevetih\\ndevetintridesetih\\ndevetnajstih\\ndevetstotih\\ndvainšestdesetih\\ndvaindvajsetih\\ndvajsetih\\ndvanajstih\\ndvestotih\\nenaindvajsetih\\nenaintridesetih\\nenajstih\\nosemdesetih\\noseminštiridesetih\\nosemindevetdesetih\\nosemnajstih\\nosmih\\npetdesetih\\npetih\\npetinštiridesetih\\npetindevetdesetih\\npetindvajsetih\\npetinosemdesetih\\npetinpetdesetih\\npetinsedemdesetih\\npetintridesetih\\npetnajstih\\npetstotih\\nsedemdesetih\\nsedeminšestdesetih\\nsedemindvajsetih\\nsedeminpetdesetih\\nsedemnajstih\\nsedemstotih\\nsedmih\\nstotih\\ntisočih\\ntreh\\ntridesetih\\ntriinšestdesetih\\ntriindvajsetih\\ntriinpetdesetih\\ntrinajstih\\ntristotih\\nšestdesetimi\\nšestimi\\nšestindvajsetimi\\nšestintridesetimi\\nšestnajstimi\\nšeststotimi\\nštiridesetimi\\nštiriindvajsetimi\\nštirimi\\nštirinajstimi\\nštiristotimi\\ndesetimi\\ndevetdesetimi\\ndevetimi\\ndevetintridesetimi\\ndevetnajstimi\\ndevetstotimi\\ndvainšestdesetimi\\ndvaindvajsetimi\\ndvajsetimi\\ndvanajstimi\\ndvestotimi\\nenaindvajsetimi\\nenaintridesetimi\\nenajstimi\\nosemdesetimi\\noseminštiridesetimi\\nosemindevetdesetimi\\nosemnajstimi\\nosmimi\\npetdesetimi\\npetimi\\npetinštiridesetimi\\npetindevetdesetimi\\npetindvajsetimi\\npetinosemdesetimi\\npetinpetdesetimi\\npetinsedemdesetimi\\npetintridesetimi\\npetnajstimi\\npetstotimi\\nsedemdesetimi\\nsedeminšestdesetimi\\nsedemindvajsetimi\\nsedeminpetdesetimi\\nsedemnajstimi\\nsedemstotimi\\nsedmimi\\nstotimi\\ntisočimi\\ntremi\\ntridesetimi\\ntriinšestdesetimi\\ntriindvajsetimi\\ntriinpetdesetimi\\ntrinajstimi\\ntristotimi\\neno\\neni\\nene\\nena\\ndva\\nštirje\\ntrije\\nen\\nenega\\nenemu\\nenim\\nenem\\neden\\ndvojni\\ntrojni\\ndvojnima\\ntrojnima\\ndvojnih\\ntrojnih\\ndvojne\\ntrojne\\ndvojnim\\ntrojnim\\ndvojnimi\\ntrojnimi\\ndvojno\\ntrojno\\ndvojna\\ntrojna\\ndvojnega\\ntrojnega\\ndvojen\\ntrojen\\ndvojnemu\\ntrojnemu\\ndvojnem\\ntrojnem\\nčetrti\\nšestdeseti\\nšesti\\nšestnajsti\\nštirideseti\\nštiriindvajseti\\nštirinajsti\\ndeseti\\ndevetdeseti\\ndeveti\\ndevetnajsti\\ndrugi\\ndvaindevetdeseti\\ndvajseti\\ndvanajsti\\ndvestoti\\nenaindvajseti\\nenajsti\\nosemdeseti\\nosemnajsti\\nosmi\\npetdeseti\\npeti\\npetinštirideseti\\npetindvajseti\\npetinosemdeseti\\npetintrideseti\\npetnajsti\\nprvi\\nsedemdeseti\\nsedemindvajseti\\nsedemnajsti\\nsedmi\\nstoti\\ntisoči\\ntretji\\ntrideseti\\ntriindvajseti\\ntriintrideseti\\ntrinajsti\\ntristoti\\nčetrtima\\nšestdesetima\\nšestima\\nšestnajstima\\nštiridesetima\\nštiriindvajsetima\\nštirinajstima\\ndesetima\\ndevetdesetima\\ndevetima\\ndevetnajstima\\ndrugima\\ndvaindevetdesetima\\ndvajsetima\\ndvanajstima\\ndvestotima\\nenaindvajsetima\\nenajstima\\nosemdesetima\\nosemnajstima\\nosmima\\npetdesetima\\npetima\\npetinštiridesetima\\npetindvajsetima\\npetinosemdesetima\\npetintridesetima\\npetnajstima\\nprvima\\nsedemdesetima\\nsedemindvajsetima\\nsedemnajstima\\nsedmima\\nstotima\\ntisočima\\ntretjima\\ntridesetima\\ntriindvajsetima\\ntriintridesetima\\ntrinajstima\\ntristotima\\nčetrtih\\ndrugih\\ndvaindevetdesetih\\nprvih\\ntretjih\\ntriintridesetih\\nčetrte\\nšestdesete\\nšeste\\nšestnajste\\nštiridesete\\nštiriindvajsete\\nštirinajste\\ndesete\\ndevetdesete\\ndevete\\ndevetnajste\\ndruge\\ndvaindevetdesete\\ndvajsete\\ndvanajste\\ndvestote\\nenaindvajsete\\nenajste\\nosemdesete\\nosemnajste\\nosme\\npetdesete\\npete\\npetinštiridesete\\npetindvajsete\\npetinosemdesete\\npetintridesete\\npetnajste\\nprve\\nsedemdesete\\nsedemindvajsete\\nsedemnajste\\nsedme\\nstote\\ntisoče\\ntretje\\ntridesete\\ntriindvajsete\\ntriintridesete\\ntrinajste\\ntristote\\nčetrtim\\ndrugim\\ndvaindevetdesetim\\nprvim\\ntretjim\\ntriintridesetim\\nčetrtimi\\ndrugimi\\ndvaindevetdesetimi\\nprvimi\\ntretjimi\\ntriintridesetimi\\nčetrto\\nšestdeseto\\nšestnajsto\\nšesto\\nštirideseto\\nštiriindvajseto\\nštirinajsto\\ndeseto\\ndevetdeseto\\ndevetnajsto\\ndeveto\\ndrugo\\ndvaindevetdeseto\\ndvajseto\\ndvanajsto\\ndvestoto\\nenaindvajseto\\nenajsto\\nosemdeseto\\nosemnajsto\\nosmo\\npetdeseto\\npetinštirideseto\\npetindvajseto\\npetinosemdeseto\\npetintrideseto\\npetnajsto\\npeto\\nprvo\\nsedemdeseto\\nsedemindvajseto\\nsedemnajsto\\nsedmo\\nstoto\\ntisočo\\ntretjo\\ntrideseto\\ntriindvajseto\\ntriintrideseto\\ntrinajsto\\ntristoto\\nčetrta\\nšesta\\nšestdeseta\\nšestnajsta\\nštirideseta\\nštiriindvajseta\\nštirinajsta\\ndeseta\\ndeveta\\ndevetdeseta\\ndevetnajsta\\ndruga\\ndvaindevetdeseta\\ndvajseta\\ndvanajsta\\ndvestota\\nenaindvajseta\\nenajsta\\nosemdeseta\\nosemnajsta\\nosma\\npeta\\npetdeseta\\npetinštirideseta\\npetindvajseta\\npetinosemdeseta\\npetintrideseta\\npetnajsta\\nprva\\nsedemdeseta\\nsedemindvajseta\\nsedemnajsta\\nsedma\\nstota\\ntisoča\\ntretja\\ntrideseta\\ntriindvajseta\\ntriintrideseta\\ntrinajsta\\ntristota\\nčetrtega\\nšestdesetega\\nšestega\\nšestnajstega\\nštiridesetega\\nštiriindvajsetega\\nštirinajstega\\ndesetega\\ndevetdesetega\\ndevetega\\ndevetnajstega\\ndrugega\\ndvaindevetdesetega\\ndvajsetega\\ndvanajstega\\ndvestotega\\nenaindvajsetega\\nenajstega\\nosemdesetega\\nosemnajstega\\nosmega\\npetdesetega\\npetega\\npetinštiridesetega\\npetindvajsetega\\npetinosemdesetega\\npetintridesetega\\npetnajstega\\nprvega\\nsedemdesetega\\nsedemindvajsetega\\nsedemnajstega\\nsedmega\\nstotega\\ntisočega\\ntretjega\\ntridesetega\\ntriindvajsetega\\ntriintridesetega\\ntrinajstega\\ntristotega\\nčetrtemu\\nšestdesetemu\\nšestemu\\nšestnajstemu\\nštiridesetemu\\nštiriindvajsetemu\\nštirinajstemu\\ndesetemu\\ndevetdesetemu\\ndevetemu\\ndevetnajstemu\\ndrugemu\\ndvaindevetdesetemu\\ndvajsetemu\\ndvanajstemu\\ndvestotemu\\nenaindvajsetemu\\nenajstemu\\nosemdesetemu\\nosemnajstemu\\nosmemu\\npetdesetemu\\npetemu\\npetinštiridesetemu\\npetindvajsetemu\\npetinosemdesetemu\\npetintridesetemu\\npetnajstemu\\nprvemu\\nsedemdesetemu\\nsedemindvajsetemu\\nsedemnajstemu\\nsedmemu\\nstotemu\\ntisočemu\\ntretjemu\\ntridesetemu\\ntriindvajsetemu\\ntriintridesetemu\\ntrinajstemu\\ntristotemu\\nčetrtem\\nšestdesetem\\nšestem\\nšestnajstem\\nštiridesetem\\nštiriindvajsetem\\nštirinajstem\\ndesetem\\ndevetdesetem\\ndevetem\\ndevetnajstem\\ndrugem\\ndvaindevetdesetem\\ndvajsetem\\ndvanajstem\\ndvestotem\\nenaindvajsetem\\nenajstem\\nosemdesetem\\nosemnajstem\\nosmem\\npetdesetem\\npetem\\npetinštiridesetem\\npetindvajsetem\\npetinosemdesetem\\npetintridesetem\\npetnajstem\\nprvem\\nsedemdesetem\\nsedemindvajsetem\\nsedemnajstem\\nsedmem\\nstotem\\ntisočem\\ntretjem\\ntridesetem\\ntriindvajsetem\\ntriintridesetem\\ntrinajstem\\ntristotem\\ndeseteri\\ndvakratni\\ndvoji\\nenkratni\\npeteri\\nstoteri\\ntisočeri\\ntrikratni\\ntroji\\ndeseterima\\ndvakratnima\\ndvojima\\nenkratnima\\npeterima\\nstoterima\\ntisočerima\\ntrikratnima\\ntrojima\\ndeseterih\\ndvakratnih\\ndvojih\\nenkratnih\\npeterih\\nstoterih\\ntisočerih\\ntrikratnih\\ntrojih\\ndesetere\\ndvakratne\\ndvoje\\nenkratne\\npetere\\nstotere\\ntisočere\\ntrikratne\\ntroje\\ndeseterim\\ndvakratnim\\ndvojim\\nenkratnim\\npeterim\\nstoterim\\ntisočerim\\ntrikratnim\\ntrojim\\ndeseterimi\\ndvakratnimi\\ndvojimi\\nenkratnimi\\npeterimi\\nstoterimi\\ntisočerimi\\ntrikratnimi\\ntrojimi\\ndesetero\\ndvakratno\\ndvojo\\nenkratno\\npetero\\nstotero\\ntisočero\\ntrikratno\\ntrojo\\ndesetera\\ndvakratna\\ndvoja\\nenkratna\\npetera\\nstotera\\ntisočera\\ntrikratna\\ntroja\\ndeseterega\\ndvakratnega\\ndvojega\\nenkratnega\\npeterega\\nstoterega\\ntisočerega\\ntrikratnega\\ntrojega\\ndeseter\\ndvakraten\\ndvoj\\nenkraten\\npeter\\nstoter\\ntisočer\\ntrikraten\\ntroj\\ndeseteremu\\ndvakratnemu\\ndvojemu\\nenkratnemu\\npeteremu\\nstoteremu\\ntisočeremu\\ntrikratnemu\\ntrojemu\\ndeseterem\\ndvakratnem\\ndvojem\\nenkratnem\\npeterem\\nstoterem\\ntisočerem\\ntrikratnem\\ntrojem\\nle-onega\\nle-tega\\nle-tistega\\nle-toliko\\nonega\\ntega\\ntistega\\ntoliko\\nle-oni\\nle-takšni\\nle-taki\\nle-te\\nle-ti\\nle-tisti\\noni\\ntakšni\\ntaki\\nte\\nti\\ntisti\\nle-onima\\nle-takšnima\\nle-takima\\nle-tema\\nle-tistima\\nonima\\ntakšnima\\ntakima\\ntema\\ntistima\\nle-onih\\nle-takšnih\\nle-takih\\nle-teh\\nle-tistih\\nonih\\ntakšnih\\ntakih\\nteh\\ntistih\\nle-one\\nle-takšne\\nle-take\\nle-tiste\\none\\ntakšne\\ntake\\ntiste\\nle-onim\\nle-takšnim\\nle-takim\\nle-tem\\nle-tistim\\nonim\\ntakšnim\\ntakim\\ntem\\ntistim\\nle-onimi\\nle-takšnimi\\nle-takimi\\nle-temi\\nle-tistimi\\nonimi\\ntakšnimi\\ntakimi\\ntemi\\ntistimi\\nle-ono\\nle-takšno\\nle-tako\\nle-tisto\\nle-to\\nono\\ntakšno\\ntako\\ntisto\\nto\\nle-tej\\ntej\\nle-ona\\nle-ta\\nle-takšna\\nle-taka\\nle-tista\\nona\\nta\\ntakšna\\ntaka\\ntista\\nle-tak\\nle-takšen\\ntak\\ntakšen\\nle-takšnega\\nle-takega\\ntakšnega\\ntakega\\nle-onemu\\nle-takšnemu\\nle-takemu\\nle-temu\\nle-tistemu\\nonemu\\ntakšnemu\\ntakemu\\ntemu\\ntemuintemu\\ntistemu\\nle-onem\\nle-takšnem\\nle-takem\\nle-tistem\\nonem\\ntakšnem\\ntakem\\ntistem\\nvsakogar\\nvsakomur\\nvsakomer\\nvsakdo\\nobe\\nvsaki\\nvsakršni\\nvsi\\nobema\\nvsakima\\nvsakršnima\\nvsema\\nobeh\\nvsakih\\nvsakršnih\\nvseh\\nvsake\\nvsakršne\\nvse\\nvsakim\\nvsakršnim\\nvsem\\nvsakimi\\nvsakršnimi\\nvsemi\\nvsako\\nvsakršno\\nvso\\nvsej\\nvsa\\nvsaka\\nvsakršna\\noba\\nves\\nvsak\\nvsakršen\\nvsakega\\nvsakršnega\\nvsega\\nvsakemu\\nvsakršnemu\\nvsemu\\nvsakem\\nvsakršnem\\nenako\\nistega\\nkoliko\\nmnogo\\nnekoga\\nnekoliko\\nprecej\\nkaj\\nkoga\\nmarsikaj\\nmarsikoga\\nnekaj\\nčemu\\nkomu\\nmarsičemu\\nmarsikomu\\nnečemu\\nnekomu\\nčesa\\nmarsičesa\\nnečesa\\nkom\\nmarsičim\\nmarsikom\\nnečim\\nnekom\\nčem\\nmarsičem\\nnečem\\nkdo\\nmarsikdo\\nnekdo\\nčigavi\\ndrugačni\\nenaki\\nisti\\nkakšni\\nkaki\\nkakršnikoli\\nkateri\\nkaterikoli\\nkolikšni\\nkoliki\\nmarsikateri\\nnekakšni\\nnekaki\\nnekateri\\nneki\\ntakile\\ntele\\ntile\\ntolikšni\\ntoliki\\nčigavima\\ndrugačnima\\nenakima\\nenima\\nistima\\nkakšnima\\nkakima\\nkakršnimakoli\\nkaterima\\nkaterimakoli\\nkolikšnima\\nkolikima\\nmarsikaterima\\nnekakšnima\\nnekakima\\nnekaterima\\nnekima\\ntakimale\\ntemale\\ntolikšnima\\ntolikima\\nčigavih\\ndrugačnih\\nenakih\\nenih\\nistih\\nkakšnih\\nkakih\\nkakršnihkoli\\nkaterih\\nkaterihkoli\\nkolikšnih\\nkolikih\\nmarsikaterih\\nnekakšnih\\nnekakih\\nnekaterih\\nnekih\\ntakihle\\ntehle\\ntolikšnih\\ntolikih\\nčigave\\ndrugačne\\nenake\\niste\\nkakšne\\nkake\\nkakršnekoli\\nkatere\\nkaterekoli\\nkolikšne\\nkolike\\nmarsikatere\\nnekakšne\\nnekake\\nnekatere\\nneke\\ntakele\\ntolikšne\\ntolike\\nčigavim\\ndrugačnim\\nenakim\\nistim\\nkakšnim\\nkakim\\nkakršnimkoli\\nkaterim\\nkaterimkoli\\nkolikšnim\\nkolikim\\nmarsikaterim\\nnekakšnim\\nnekakim\\nnekaterim\\nnekim\\ntakimle\\ntemle\\ntolikšnim\\ntolikim\\nčigavimi\\ndrugačnimi\\nenakimi\\nenimi\\nistimi\\nkakšnimi\\nkakimi\\nkakršnimikoli\\nkaterimi\\nkaterimikoli\\nkolikšnimi\\nkolikimi\\nmarsikaterimi\\nnekakšnimi\\nnekakimi\\nnekaterimi\\nnekimi\\ntakimile\\ntemile\\ntolikšnimi\\ntolikimi\\nčigavo\\ndrugačno\\nisto\\nkakšno\\nkako\\nkakršnokoli\\nkatero\\nkaterokoli\\nkolikšno\\nmarsikatero\\nnekakšno\\nnekako\\nnekatero\\nneko\\ntakole\\ntole\\ntolikšno\\ntejle\\nčigava\\ndrugačna\\nenaka\\nista\\nkakšna\\nkaka\\nkakršnakoli\\nkatera\\nkaterakoli\\nkolikšna\\nkolika\\nmarsikatera\\nneka\\nnekakšna\\nnekaka\\nnekatera\\ntakale\\ntale\\ntolikšna\\ntolika\\nčigav\\ndrug\\ndrugačen\\nenak\\nkak\\nkakšen\\nkakršenkoli\\nkakršnegakoli\\nkateregakoli\\nkolik\\nkolikšen\\nnek\\nnekak\\nnekakšen\\ntakegale\\ntakle\\ntegale\\ntolik\\ntolikšen\\nčigavega\\ndrugačnega\\nenakega\\nkakšnega\\nkakega\\nkaterega\\nkolikšnega\\nkolikega\\nmarsikaterega\\nnekakšnega\\nnekakega\\nnekaterega\\nnekega\\ntolikšnega\\ntolikega\\nčigavemu\\ndrugačnemu\\nenakemu\\nistemu\\nkakšnemu\\nkakemu\\nkakršnemukoli\\nkateremu\\nkateremukoli\\nkolikšnemu\\nkolikemu\\nmarsikateremu\\nnekakšnemu\\nnekakemu\\nnekateremu\\nnekemu\\ntakemule\\ntemule\\ntolikšnemu\\ntolikemu\\nčigavem\\ndrugačnem\\nenakem\\nistem\\nkakšnem\\nkakem\\nkakršnemkoli\\nkaterem\\nkateremkoli\\nkolikšnem\\nkolikem\\nmarsikaterem\\nnekakšnem\\nnekakem\\nnekaterem\\nnekem\\ntakemle\\ntolikšnem\\ntolikem\\nnaju\\nnama\\nmidva\\nnas\\nnam\\nnami\\nmi\\nmene\\nme\\nmeni\\nmano\\nmenoj\\njaz\\nvaju\\nvama\\nvidva\\nvas\\nvam\\nvami\\nvi\\ntebe\\ntebi\\ntabo\\nteboj\\nnjiju\\njih\\nju\\nnjima\\njima\\nonedve\\nonidve\\nnje\\nnjih\\nnjim\\njim\\nnjimi\\nnjo\\njo\\nnjej\\nnji\\nji\\nje\\nonadva\\nnjega\\nga\\nnjemu\\nmu\\nnjem\\non\\nčigar\\nkolikor\\nkar\\nkarkoli\\nkogar\\nkogarkoli\\nčemur\\nčemurkoli\\nkomur\\nkomurkoli\\nčesar\\nčesarkoli\\nčimer\\nčimerkoli\\nkomer\\nkomerkoli\\nčemer\\nčemerkoli\\nkdor\\nkdorkoli\\nkakršni\\nkakršnima\\nkakršnih\\nkakršne\\nkakršnim\\nkakršnimi\\nkakršno\\nkakršna\\nkakršen\\nkakršnega\\nkakršnemu\\nkakršnem\\nnajini\\nnaši\\nmoji\\nnajinima\\nnašima\\nmojima\\nnajinih\\nnaših\\nmojih\\nnajine\\nnaše\\nmoje\\nnajinim\\nnašim\\nmojim\\nnajinimi\\nnašimi\\nmojimi\\nnajino\\nnašo\\nmojo\\nnajina\\nnaša\\nmoja\\nnajin\\nnajinega\\nnaš\\nnašega\\nmoj\\nmojega\\nnajinemu\\nnašemu\\nmojemu\\nnajinem\\nnašem\\nmojem\\nvajini\\nvaši\\ntvoji\\nvajinima\\nvašima\\ntvojima\\nvajinih\\nvaših\\ntvojih\\nvajine\\nvaše\\ntvoje\\nvajinim\\nvašim\\ntvojim\\nvajinimi\\nvašimi\\ntvojimi\\nvajino\\nvašo\\ntvojo\\nvajina\\nvaša\\ntvoja\\nvajin\\nvajinega\\nvaš\\nvašega\\ntvoj\\ntvojega\\nvajinemu\\nvašemu\\ntvojemu\\nvajinem\\nvašem\\ntvojem\\nnjuni\\nnjihovi\\nnjeni\\nnjegovi\\nnjunima\\nnjihovima\\nnjenima\\nnjegovima\\nnjunih\\nnjihovih\\nnjenih\\nnjegovih\\nnjune\\nnjihove\\nnjene\\nnjegove\\nnjunim\\nnjihovim\\nnjenim\\nnjegovim\\nnjunimi\\nnjihovimi\\nnjenimi\\nnjegovimi\\nnjuno\\nnjihovo\\nnjeno\\nnjegovo\\nnjuna\\nnjihova\\nnjena\\nnjegova\\nnjun\\nnjunega\\nnjihov\\nnjihovega\\nnjen\\nnjenega\\nnjegov\\nnjegovega\\nnjunemu\\nnjihovemu\\nnjenemu\\nnjegovemu\\nnjunem\\nnjihovem\\nnjenem\\nnjegovem\\nse\\nsi\\nsebe\\nsebi\\nsabo\\nseboj\\nsvoji\\nsvojima\\nsvojih\\nsvoje\\nsvojim\\nsvojimi\\nsvojo\\nsvoja\\nsvoj\\nsvojega\\nsvojemu\\nsvojem\\nnikogar\\nnoben\\nničemur\\nnikomur\\nničesar\\nničimer\\nnikomer\\nničemer\\nnihče\\nnikakršni\\nnobeni\\nnikakršnima\\nnobenima\\nnikakršnih\\nnobenih\\nnikakršne\\nnobene\\nnikakršnim\\nnobenim\\nnikakršnimi\\nnobenimi\\nnikakršno\\nnobeno\\nnikakršna\\nnobena\\nnikakršen\\nnikakršnega\\nnobenega\\nnikakršnemu\\nnobenemu\\nnikakršnem\\nnobenem\\nše\\nšele\\nžal\\nže\\nbaje\\nbojda\\nbržčas\\nbržkone\\ncelo\\ndobesedno\\ndomala\\nedinole\\ngotovo\\nitak\\nja\\nkajne\\nkajpada\\nkajpak\\nkoli\\nkomaj\\nle\\nmalone\\nmar\\nmenda\\nmorda\\nmorebiti\\nnadvse\\nnajbrž\\nnemara\\nnerad\\nneradi\\nnikar\\npač\\npogodu\\nprav\\npravzaprav\\npredvsem\\npreprosto\\nrad\\nrada\\nrade\\nradi\\nravno\\nres\\nresda\\nsamo\\nseveda\\nskoraj\\nskorajda\\nspet\\nsploh\\ntudi\\nvšeč\\nverjetno\\nvnovič\\nvred\\nvsaj\\nzadosti\\nzapored\\nzares\\nzgolj\\nzlasti\\nzopet\\nčezenj\\nčeznje\\nmednje\\nmednju\\nmedse\\nnadenj\\nnadme\\nnadnje\\nname\\nnanj\\nnanje\\nnanjo\\nnanju\\nnase\\nnate\\nobenj\\npodnjo\\npome\\nponj\\nponje\\nponjo\\npote\\npredenj\\npredme\\nprednje\\npredse\\nskozenj\\nskoznje\\nskoznjo\\nskozte\\nvame\\nvanj\\nvanje\\nvanjo\\nvanju\\nvase\\nvate\\nzame\\nzanj\\nzanje\\nzanjo\\nzanju\\nzase\\nzate\\nčez\\nmed\\nna\\nnad\\nob\\npo\\npod\\npred\\nraz\\nskoz\\nskozi\\nv\\nza\\nzoper\\nh\\nk\\nkljub\\nnasproti\\nnavkljub\\nnavzlic\\nproti\\nž\\nblizu\\nbrez\\ndno\\ndo\\niz\\nizmed\\niznad\\nizpod\\nizpred\\nizven\\nizza\\nkrog\\nmimo\\nnamesto\\nnaokoli\\nnaproti\\nod\\nokoli\\nokrog\\nonkraj\\nonstran\\npoleg\\npovrh\\npovrhu\\nprek\\npreko\\nrazen\\ns\\nspod\\nspričo\\nsredi\\nvštric\\nvpričo\\nvrh\\nvrhu\\nvzdolž\\nz\\nzaradi\\nzavoljo\\nzraven\\nzunaj\\no\\npri\\nbi\\nbova\\nbomo\\nbom\\nbosta\\nboste\\nboš\\nbodo\\nbojo\\nbo\\nsva\\nnisva\\nsmo\\nnismo\\nsem\\nnisem\\nsta\\nnista\\nste\\nniste\\nnisi\\nso\\nniso\\nni\\nbodiva\\nbodimo\\nbodita\\nbodite\\nbodi\\nbiti\\nbili\\nbila\\nbile\\nbil\\nbilo\\nželiva\\ndovoliva\\nhočeva\\nmarava\\nmorava\\nmoreva\\nsmeva\\nzmoreva\\nnočeva\\nželimo\\ndovolimo\\nhočemo\\nmaramo\\nmoramo\\nmoremo\\nsmemo\\nzmoremo\\nnočemo\\nželim\\ndovolim\\nhočem\\nmaram\\nmoram\\nmorem\\nsmem\\nzmorem\\nnočem\\nželita\\ndovolita\\nhočeta\\nmarata\\nmorata\\nmoreta\\nsmeta\\nzmoreta\\nnočeta\\nželite\\ndovolite\\nhočete\\nmarate\\nmorate\\nmorete\\nsmete\\nzmorete\\nnočete\\nželiš\\ndovoliš\\nhočeš\\nmaraš\\nmoraš\\nmoreš\\nsmeš\\nzmoreš\\nnočeš\\nželijo\\ndovolijo\\nhočejo\\nmarajo\\nmorajo\\nmorejo\\nsmejo\\nzmorejo\\nnočejo\\nželi\\ndovoli\\nhoče\\nmara\\nmora\\nmore\\nsme\\nzmore\\nnoče\\nhotiva\\nmarajva\\nhotimo\\nmarajmo\\nhotita\\nmarajta\\nhotite\\nmarajte\\nhoti\\nmaraj\\nželeti\\ndovoliti\\nhoteti\\nmarati\\nmoči\\nmorati\\nsmeti\\nzmoči\\nželeni\\ndovoljeni\\nželena\\ndovoljena\\nželene\\ndovoljene\\nželen\\ndovoljen\\nželeno\\ndovoljeno\\nželeli\\ndovolili\\nhoteli\\nmarali\\nmogli\\nmorali\\nsmeli\\nzmogli\\nželela\\ndovolila\\nhotela\\nmarala\\nmogla\\nmorala\\nsmela\\nzmogla\\nželele\\ndovolile\\nhotele\\nmarale\\nmogle\\nmorale\\nsmele\\nzmogle\\nželel\\ndovolil\\nhotel\\nmaral\\nmogel\\nmoral\\nsmel\\nzmogel\\nželelo\\ndovolilo\\nhotelo\\nmaralo\\nmoglo\\nmoralo\\nsmelo\\nzmogl\\nde\\nla\\nque\\nel\\nen\\ny\\na\\nlos\\ndel\\nse\\nlas\\npor\\nun\\npara\\ncon\\nno\\nuna\\nsu\\nal\\nlo\\ncomo\\nmás\\npero\\nsus\\nle\\nya\\no\\neste\\nsí\\nporque\\nesta\\nentre\\ncuando\\nmuy\\nsin\\nsobre\\ntambién\\nme\\nhasta\\nhay\\ndonde\\nquien\\ndesde\\ntodo\\nnos\\ndurante\\ntodos\\nuno\\nles\\nni\\ncontra\\notros\\nese\\neso\\nante\\nellos\\ne\\nesto\\nmí\\nantes\\nalgunos\\nqué\\nunos\\nyo\\notro\\notras\\notra\\nél\\ntanto\\nesa\\nestos\\nmucho\\nquienes\\nnada\\nmuchos\\ncual\\npoco\\nella\\nestar\\nestas\\nalgunas\\nalgo\\nnosotros\\nmi\\nmis\\ntú\\nte\\nti\\ntu\\ntus\\nellas\\nnosotras\\nvosotros\\nvosotras\\nos\\nmío\\nmía\\nmíos\\nmías\\ntuyo\\ntuya\\ntuyos\\ntuyas\\nsuyo\\nsuya\\nsuyos\\nsuyas\\nnuestro\\nnuestra\\nnuestros\\nnuestras\\nvuestro\\nvuestra\\nvuestros\\nvuestras\\nesos\\nesas\\nestoy\\nestás\\nestá\\nestamos\\nestáis\\nestán\\nesté\\nestés\\nestemos\\nestéis\\nestén\\nestaré\\nestarás\\nestará\\nestaremos\\nestaréis\\nestarán\\nestaría\\nestarías\\nestaríamos\\nestaríais\\nestarían\\nestaba\\nestabas\\nestábamos\\nestabais\\nestaban\\nestuve\\nestuviste\\nestuvo\\nestuvimos\\nestuvisteis\\nestuvieron\\nestuviera\\nestuvieras\\nestuviéramos\\nestuvierais\\nestuvieran\\nestuviese\\nestuvieses\\nestuviésemos\\nestuvieseis\\nestuviesen\\nestando\\nestado\\nestada\\nestados\\nestadas\\nestad\\nhe\\nhas\\nha\\nhemos\\nhabéis\\nhan\\nhaya\\nhayas\\nhayamos\\nhayáis\\nhayan\\nhabré\\nhabrás\\nhabrá\\nhabremos\\nhabréis\\nhabrán\\nhabría\\nhabrías\\nhabríamos\\nhabríais\\nhabrían\\nhabía\\nhabías\\nhabíamos\\nhabíais\\nhabían\\nhube\\nhubiste\\nhubo\\nhubimos\\nhubisteis\\nhubieron\\nhubiera\\nhubieras\\nhubiéramos\\nhubierais\\nhubieran\\nhubiese\\nhubieses\\nhubiésemos\\nhubieseis\\nhubiesen\\nhabiendo\\nhabido\\nhabida\\nhabidos\\nhabidas\\nsoy\\neres\\nes\\nsomos\\nsois\\nson\\nsea\\nseas\\nseamos\\nseáis\\nsean\\nseré\\nserás\\nserá\\nseremos\\nseréis\\nserán\\nsería\\nserías\\nseríamos\\nseríais\\nserían\\nera\\neras\\néramos\\nerais\\neran\\nfui\\nfuiste\\nfue\\nfuimos\\nfuisteis\\nfueron\\nfuera\\nfueras\\nfuéramos\\nfuerais\\nfueran\\nfuese\\nfueses\\nfuésemos\\nfueseis\\nfuesen\\nsintiendo\\nsentido\\nsentida\\nsentidos\\nsentidas\\nsiente\\nsentid\\ntengo\\ntienes\\ntiene\\ntenemos\\ntenéis\\ntienen\\ntenga\\ntengas\\ntengamos\\ntengáis\\ntengan\\ntendré\\ntendrás\\ntendrá\\ntendremos\\ntendréis\\ntendrán\\ntendría\\ntendrías\\ntendríamos\\ntendríais\\ntendrían\\ntenía\\ntenías\\nteníamos\\nteníais\\ntenían\\ntuve\\ntuviste\\ntuvo\\ntuvimos\\ntuvisteis\\ntuvieron\\ntuviera\\ntuvieras\\ntuviéramos\\ntuvierais\\ntuvieran\\ntuviese\\ntuvieses\\ntuviésemos\\ntuvieseis\\ntuviesen\\nteniendo\\ntenido\\ntenida\\ntenidos\\ntenidas\\ntened\\noch\\ndet\\natt\\ni\\nen\\njag\\nhon\\nsom\\nhan\\npå\\nden\\nmed\\nvar\\nsig\\nför\\nså\\ntill\\när\\nmen\\nett\\nom\\nhade\\nde\\nav\\nicke\\nmig\\ndu\\nhenne\\ndå\\nsin\\nnu\\nhar\\ninte\\nhans\\nhonom\\nskulle\\nhennes\\ndär\\nmin\\nman\\nej\\nvid\\nkunde\\nnågot\\nfrån\\nut\\nnär\\nefter\\nupp\\nvi\\ndem\\nvara\\nvad\\növer\\nän\\ndig\\nkan\\nsina\\nhär\\nha\\nmot\\nalla\\nunder\\nnågon\\neller\\nallt\\nmycket\\nsedan\\nju\\ndenna\\nsjälv\\ndetta\\nåt\\nutan\\nvarit\\nhur\\ningen\\nmitt\\nni\\nbli\\nblev\\noss\\ndin\\ndessa\\nnågra\\nderas\\nblir\\nmina\\nsamma\\nvilken\\ner\\nsådan\\nvår\\nblivit\\ndess\\ninom\\nmellan\\nsådant\\nvarför\\nvarje\\nvilka\\nditt\\nvem\\nvilket\\nsitta\\nsådana\\nvart\\ndina\\nvars\\nvårt\\nvåra\\nert\\nera\\nvilkas\\nаз\\nдар\\nба\\nбо\\nбарои\\nбе\\nто\\nҷуз\\nпеши\\nназди\\nрӯйи\\nболои \\nпаси\\nғайри\\nҳамон\\nҳамоно\\nинҷониб\\nзамон\\nзамоно\\nэътиборан\\nпеш\\nқабл\\nдида\\nсар карда\\nагар \\nагар ки\\nвалекин \\nки\\nлекин\\nаммо\\nвале\\nбалки\\nва\\nҳарчанд\\nчунки\\nзеро\\nзеро ки\\nвақте ки\\nто вақте ки\\nбарои он ки\\nбо нияти он ки\\nлекин ва ҳол он ки\\nё\\nё ин ки  \\nбе он ки \\nдар ҳолате ки\\nто даме ки \\nбаъд аз он ки\\nдаме ки\\nба тразе ки \\nаз баҳри он ки\\nгар \\nар\\nба шарте\\nазбаски \\nмодоме ки\\nагар чи\\nгарчанде ки \\nбо вуҷуди он ки\\nгӯё\\nаз-баски \\nчун-ки\\nагар-чанд\\nагар-чи \\nгар-чи\\nто ки\\nчунон ки\\nто даме ки\\nҳар қадар ки\\nмагар \\nоё\\nнаход\\nҳатто \\nҳам \\nбале \\nоре \\nхуб \\nхуш\\nхайр\\nне\\nна\\nмана\\nэ\\nфақат\\nтанҳо\\nкошки \\nмабодо\\nҳтимол\\nана ҳамин\\nнаход ки\\nҳатто ки\\nаз афташ\\nмайлаш куя\\nана\\nҳа\\nканӣ\\nгӯё ки\\nҳо ана\\nна ин ки\\nваҳ\\nҳой\\nи\\nа\\nо\\nэҳ\\nҳе\\nҳу\\nаҳа\\nоҳе\\nуҳа\\nҳм\\nнм\\nоббо\\nӯббо\\nҳой-ҳой \\nвой-вой\\nту-ту\\nҳмм\\nэҳа\\nтавба\\nӯҳӯ\\nаҷабо\\nало\\nаё\\nой\\nӯим \\nором\\nхом?ш\\nҳай-ҳай \\nбай-бай\\nаз \\nон\\nбаъд\\nазбаски\\nӯ\\nҳангоми\\nчӣ\\nкадом\\nин\\nҷо\\nҳам\\nё ки\\nбояд\\nаст\\nчанд\\nҳар\\nбар\\nчаро ки\\nагар\\nто кӣ\\nбинобар\\nбинобар ин\\nҳаргиз\\nасло\\nнахот\\nнахот ки\\nкошкӣ\\nшояд\\nшояд ки\\nохир\\nаз рӯи\\nаз рӯйи \\nрӯacaba\\nama\\naslında\\naz\\nbazı\\nbelki\\nbiri\\nbirkaç\\nbirşey\\nbiz\\nbu\\nçok\\nçünkü\\nda\\ndaha\\nde\\ndefa\\ndiye\\neğer\\nen\\ngibi\\nhem\\nhep\\nhepsi\\nher\\nhiç\\niçin\\nile\\nise\\nkez\\nki\\nkim\\nmı\\nmu\\nmü\\nnasıl\\nne\\nneden\\nnerde\\nnerede\\nnereye\\nniçin\\nniye\\no\\nsanki\\nşey\\nsiz\\nşu\\ntüm\\nve\\nveya\\nya\\nyani\\n\""
            ],
            "application/vnd.google.colaboratory.intrinsic+json": {
              "type": "string"
            }
          },
          "metadata": {},
          "execution_count": 15
        }
      ]
    },
    {
      "cell_type": "code",
      "source": [
        "stopwords.fileids()"
      ],
      "metadata": {
        "colab": {
          "base_uri": "https://localhost:8080/"
        },
        "id": "tTpYmM8-Y7fm",
        "outputId": "4f699b78-a486-49fa-b6f4-28ba6bd50438"
      },
      "execution_count": 16,
      "outputs": [
        {
          "output_type": "execute_result",
          "data": {
            "text/plain": [
              "['arabic',\n",
              " 'azerbaijani',\n",
              " 'bengali',\n",
              " 'danish',\n",
              " 'dutch',\n",
              " 'english',\n",
              " 'finnish',\n",
              " 'french',\n",
              " 'german',\n",
              " 'greek',\n",
              " 'hungarian',\n",
              " 'indonesian',\n",
              " 'italian',\n",
              " 'kazakh',\n",
              " 'nepali',\n",
              " 'norwegian',\n",
              " 'portuguese',\n",
              " 'romanian',\n",
              " 'russian',\n",
              " 'slovene',\n",
              " 'spanish',\n",
              " 'swedish',\n",
              " 'tajik',\n",
              " 'turkish']"
            ]
          },
          "metadata": {},
          "execution_count": 16
        }
      ]
    },
    {
      "cell_type": "code",
      "source": [
        "stopwords"
      ],
      "metadata": {
        "colab": {
          "base_uri": "https://localhost:8080/"
        },
        "id": "3TsszFEvauib",
        "outputId": "0075b1d9-8eb1-4e67-d7e7-6579350692ae"
      },
      "execution_count": 17,
      "outputs": [
        {
          "output_type": "execute_result",
          "data": {
            "text/plain": [
              "<WordListCorpusReader in '/root/nltk_data/corpora/stopwords'>"
            ]
          },
          "metadata": {},
          "execution_count": 17
        }
      ]
    },
    {
      "cell_type": "code",
      "source": [
        "print(stopwords.words('english'))"
      ],
      "metadata": {
        "colab": {
          "base_uri": "https://localhost:8080/"
        },
        "id": "tijuhVJvV6Ga",
        "outputId": "f6824cad-4dee-457d-8c34-62daa7a464a2"
      },
      "execution_count": 18,
      "outputs": [
        {
          "output_type": "stream",
          "name": "stdout",
          "text": [
            "['i', 'me', 'my', 'myself', 'we', 'our', 'ours', 'ourselves', 'you', \"you're\", \"you've\", \"you'll\", \"you'd\", 'your', 'yours', 'yourself', 'yourselves', 'he', 'him', 'his', 'himself', 'she', \"she's\", 'her', 'hers', 'herself', 'it', \"it's\", 'its', 'itself', 'they', 'them', 'their', 'theirs', 'themselves', 'what', 'which', 'who', 'whom', 'this', 'that', \"that'll\", 'these', 'those', 'am', 'is', 'are', 'was', 'were', 'be', 'been', 'being', 'have', 'has', 'had', 'having', 'do', 'does', 'did', 'doing', 'a', 'an', 'the', 'and', 'but', 'if', 'or', 'because', 'as', 'until', 'while', 'of', 'at', 'by', 'for', 'with', 'about', 'against', 'between', 'into', 'through', 'during', 'before', 'after', 'above', 'below', 'to', 'from', 'up', 'down', 'in', 'out', 'on', 'off', 'over', 'under', 'again', 'further', 'then', 'once', 'here', 'there', 'when', 'where', 'why', 'how', 'all', 'any', 'both', 'each', 'few', 'more', 'most', 'other', 'some', 'such', 'no', 'nor', 'not', 'only', 'own', 'same', 'so', 'than', 'too', 'very', 's', 't', 'can', 'will', 'just', 'don', \"don't\", 'should', \"should've\", 'now', 'd', 'll', 'm', 'o', 're', 've', 'y', 'ain', 'aren', \"aren't\", 'couldn', \"couldn't\", 'didn', \"didn't\", 'doesn', \"doesn't\", 'hadn', \"hadn't\", 'hasn', \"hasn't\", 'haven', \"haven't\", 'isn', \"isn't\", 'ma', 'mightn', \"mightn't\", 'mustn', \"mustn't\", 'needn', \"needn't\", 'shan', \"shan't\", 'shouldn', \"shouldn't\", 'wasn', \"wasn't\", 'weren', \"weren't\", 'won', \"won't\", 'wouldn', \"wouldn't\"]\n"
          ]
        }
      ]
    },
    {
      "cell_type": "code",
      "source": [
        "len(stopwords.words('english'))"
      ],
      "metadata": {
        "colab": {
          "base_uri": "https://localhost:8080/"
        },
        "id": "_Ig1LGbRb6fK",
        "outputId": "0ab99146-e1ff-4f43-b5a0-0e191ffc9a96"
      },
      "execution_count": 23,
      "outputs": [
        {
          "output_type": "execute_result",
          "data": {
            "text/plain": [
              "179"
            ]
          },
          "metadata": {},
          "execution_count": 23
        }
      ]
    },
    {
      "cell_type": "code",
      "source": [
        "print(stopwords.words('turkish'))"
      ],
      "metadata": {
        "colab": {
          "base_uri": "https://localhost:8080/"
        },
        "id": "gbxe0OP1bYGX",
        "outputId": "7ac9c1fc-fe99-4009-c84e-572ca48c4819"
      },
      "execution_count": 20,
      "outputs": [
        {
          "output_type": "stream",
          "name": "stdout",
          "text": [
            "['acaba', 'ama', 'aslında', 'az', 'bazı', 'belki', 'biri', 'birkaç', 'birşey', 'biz', 'bu', 'çok', 'çünkü', 'da', 'daha', 'de', 'defa', 'diye', 'eğer', 'en', 'gibi', 'hem', 'hep', 'hepsi', 'her', 'hiç', 'için', 'ile', 'ise', 'kez', 'ki', 'kim', 'mı', 'mu', 'mü', 'nasıl', 'ne', 'neden', 'nerde', 'nerede', 'nereye', 'niçin', 'niye', 'o', 'sanki', 'şey', 'siz', 'şu', 'tüm', 've', 'veya', 'ya', 'yani']\n"
          ]
        }
      ]
    },
    {
      "cell_type": "code",
      "source": [
        "pandas.DataFrame(stopwords.words('english')).to_csv('nltk_stopwords.csv')"
      ],
      "metadata": {
        "id": "i44At8QLgqBL"
      },
      "execution_count": 37,
      "outputs": []
    },
    {
      "cell_type": "markdown",
      "source": [
        "Stopwords in Spacy"
      ],
      "metadata": {
        "id": "wMhN7m6Sbh-9"
      }
    },
    {
      "cell_type": "code",
      "source": [
        "import spacy"
      ],
      "metadata": {
        "id": "pZCbfJctbkYi"
      },
      "execution_count": 21,
      "outputs": []
    },
    {
      "cell_type": "code",
      "source": [
        "en_model = spacy.load('en_core_web_sm')"
      ],
      "metadata": {
        "id": "ambzjYw5bvEf"
      },
      "execution_count": 22,
      "outputs": []
    },
    {
      "cell_type": "code",
      "source": [
        "stopwords = en_model.Defaults.stop_words"
      ],
      "metadata": {
        "id": "tmjqa88yb_aU"
      },
      "execution_count": 24,
      "outputs": []
    },
    {
      "cell_type": "code",
      "source": [
        "print(stopwords)"
      ],
      "metadata": {
        "colab": {
          "base_uri": "https://localhost:8080/"
        },
        "id": "-73bWuUgfISb",
        "outputId": "aeac08e5-eb97-4446-96ca-21b17d0cd5db"
      },
      "execution_count": 25,
      "outputs": [
        {
          "output_type": "stream",
          "name": "stdout",
          "text": [
            "{'why', 'from', 'eight', 'too', 'be', 'under', 'besides', 'throughout', 'first', 'everywhere', 'n‘t', 'her', 'i', 'along', 'whereas', 'give', 'full', 'really', 'among', 'being', 'several', 'us', 'ever', 'are', 'those', 'though', 'as', 'make', 'just', 'part', 'sixty', 'mine', 'take', 'would', 'yourself', 'empty', \"'ve\", 'whereupon', 'back', 'toward', 'amongst', 'often', 'had', 'thence', 'say', 'a', 'your', \"'ll\", 'to', 'side', 'anyway', 'onto', 'for', 'former', 'above', \"n't\", 'about', 'on', 'where', 'both', 'before', 'so', 'did', 'somehow', 'neither', 'over', 'less', 'when', 'yet', 'itself', 'quite', 'because', 'somewhere', 'afterwards', '’s', 'than', 'themselves', 'once', 'became', 'beside', 'something', 'however', 'whom', 'after', 'latterly', 'n’t', 'elsewhere', 'while', '’m', '’re', 'towards', 'hereupon', 'very', 'there', 'no', 'whether', 'made', 'must', '‘s', 'sometime', 'fifteen', 'been', 'many', 'moreover', 'himself', 'its', 'noone', 'few', 'otherwise', 'seem', 'was', 'whoever', 'still', 'rather', 'call', 'various', 'whose', 'never', 'meanwhile', 'anyone', 're', 'next', 'although', 'anyhow', 'until', 'yours', 'please', 'should', 'becoming', 'we', 'thereafter', 'whereafter', 'keep', 'am', '‘re', 'ourselves', 'bottom', 'eleven', 'were', 'indeed', 'what', 'four', 'via', 'but', 'top', 'per', 'them', 'they', 'using', 'put', 'every', 'his', 'together', 'one', 'whereby', 'same', 'beforehand', 'might', 'can', 'twelve', 'third', 'all', 'who', 'across', 'thru', 'here', 'with', 'nowhere', 'seeming', 'that', 'has', 'another', 'everything', 'him', 'sometimes', 'around', 'last', 'does', 'hers', 'it', 'seemed', 'twenty', 'could', 'my', 'have', 'by', 'other', 'cannot', 'such', 'ca', 'during', 'through', 'yourselves', 'nine', 'even', 'front', 'unless', 'three', 'hundred', 'seems', '’ve', 'well', 'except', 'up', 'ours', 'some', 'off', 'serious', \"'s\", 'alone', 'already', 'or', 'forty', 'more', 'nothing', 'in', 'two', 'this', 'their', '‘ve', '‘ll', 'hence', 'amount', 'whence', 'anything', 'may', 'most', 'between', 'nobody', 'much', 'whole', 'further', 'six', 'thus', 'down', \"'re\", 'me', 'of', 'hereby', 'myself', 'therein', '’d', 'these', \"'d\", 'again', 'within', 'own', 'herself', 'against', 'formerly', 'beyond', '‘d', 'either', 'each', 'becomes', 'someone', 'always', 'least', 'everyone', 'thereby', 'not', 'then', 'mostly', 'out', 'an', 'nevertheless', 'get', 'is', 'whatever', 'ten', '‘m', 'regarding', 'enough', 'also', 'since', 'now', 'herein', 'used', 'into', 'done', 'due', 'see', 'none', '’ll', 'will', 'therefore', 'and', 'only', 'go', 'wherever', 'at', 'she', \"'m\", 'which', 'without', 'behind', 'whither', 'almost', 'namely', 'five', 'he', 'move', 'show', 'else', 'upon', 'do', 'how', 'you', 'whenever', 'the', 'perhaps', 'name', 'fifty', 'anywhere', 'if', 'others', 'hereafter', 'wherein', 'our', 'any', 'doing', 'nor', 'become', 'below', 'latter', 'thereupon'}\n"
          ]
        }
      ]
    },
    {
      "cell_type": "code",
      "source": [
        "pandas.DataFrame(stopwords).to_csv('spacy_stopwords.csv')"
      ],
      "metadata": {
        "id": "Ftj7B1nRgX9G"
      },
      "execution_count": 31,
      "outputs": []
    },
    {
      "cell_type": "markdown",
      "source": [
        "Stopwords in Gensim"
      ],
      "metadata": {
        "id": "HUnkKvZJfMnP"
      }
    },
    {
      "cell_type": "code",
      "source": [
        "import gensim \n",
        "from gensim.parsing.preprocessing import STOPWORDS"
      ],
      "metadata": {
        "id": "0JeVnIXUfP2S"
      },
      "execution_count": 26,
      "outputs": []
    },
    {
      "cell_type": "code",
      "source": [
        "print(STOPWORDS)"
      ],
      "metadata": {
        "colab": {
          "base_uri": "https://localhost:8080/"
        },
        "id": "vpheSS8CfnSA",
        "outputId": "bdcd57a7-cd3b-4ff0-89de-a84a0fd2a992"
      },
      "execution_count": 27,
      "outputs": [
        {
          "output_type": "stream",
          "name": "stdout",
          "text": [
            "frozenset({'why', 'from', 'eight', 'too', 'be', 'under', 'besides', 'throughout', 'first', 'everywhere', 'her', 'i', 'along', 'whereas', 'con', 'give', 'full', 'really', 'de', 'among', 'being', 'find', 'several', 'us', 'ever', 'are', 'those', 'though', 'as', 'make', 'just', 'part', 'sixty', 'mine', 'take', 'would', 'mill', 'yourself', 'empty', 'kg', 'whereupon', 'back', 'toward', 'amongst', 'often', 'had', 'thence', 'say', 'a', 'detail', 'your', 'to', 'eg', 'side', 'anyway', 'onto', 'for', 'former', 'above', 'about', 'on', 'where', 'both', 'before', 'so', 'did', 'somehow', 'neither', 'over', 'less', 'when', 'yet', 'itself', 'quite', 'because', 'somewhere', 'afterwards', 'than', 'themselves', 'once', 'became', 'beside', 'something', 'however', 'whom', 'after', 'latterly', 'while', 'system', 'elsewhere', 'km', 'towards', 'hereupon', 'very', 'there', 'describe', 'no', 'whether', 'made', 'computer', 'must', 'sometime', 'fifteen', 'been', 'bill', 'many', 'moreover', 'himself', 'its', 'noone', 'interest', 'few', 'otherwise', 'was', 'seem', 'whoever', 'still', 'rather', 'call', 'various', 'whose', 'never', 'meanwhile', 'anyone', 're', 'next', 'although', 'anyhow', 'until', 'yours', 'please', 'should', 'becoming', 'we', 'thereafter', 'whereafter', 'keep', 'am', 'ourselves', 'didn', 'bottom', 'were', 'eleven', 'indeed', 'what', 'hasnt', 'four', 'via', 'but', 'top', 'per', 'using', 'them', 'they', 'put', 'his', 'every', 'together', 'one', 'whereby', 'same', 'beforehand', 'might', 'co', 'can', 'twelve', 'third', 'all', 'who', 'across', 'thru', 'here', 'with', 'nowhere', 'seeming', 'cant', 'that', 'has', 'another', 'everything', 'him', 'sometimes', 'around', 'ie', 'last', 'does', 'thin', 'hers', 'it', 'seemed', 'twenty', 'could', 'don', 'my', 'have', 'by', 'other', 'fify', 'cannot', 'such', 'during', 'through', 'yourselves', 'nine', 'even', 'front', 'unless', 'three', 'found', 'hundred', 'seems', 'well', 'up', 'except', 'amoungst', 'sincere', 'ours', 'some', 'off', 'fire', 'serious', 'alone', 'or', 'already', 'forty', 'more', 'nothing', 'in', 'two', 'this', 'their', 'thick', 'hence', 'amount', 'whence', 'anything', 'may', 'most', 'between', 'nobody', 'much', 'whole', 'further', 'six', 'thus', 'un', 'down', 'me', 'of', 'hereby', 'myself', 'therein', 'these', 'again', 'within', 'own', 'herself', 'against', 'formerly', 'beyond', 'either', 'each', 'becomes', 'someone', 'always', 'cry', 'least', 'everyone', 'thereby', 'not', 'then', 'out', 'mostly', 'an', 'nevertheless', 'get', 'is', 'whatever', 'ten', 'regarding', 'etc', 'enough', 'also', 'since', 'now', 'herein', 'used', 'into', 'done', 'due', 'see', 'none', 'will', 'therefore', 'doesn', 'and', 'only', 'go', 'wherever', 'at', 'she', 'which', 'without', 'behind', 'whither', 'almost', 'namely', 'he', 'five', 'move', 'ltd', 'show', 'inc', 'else', 'couldnt', 'upon', 'do', 'fill', 'how', 'you', 'whenever', 'the', 'perhaps', 'name', 'anywhere', 'if', 'others', 'hereafter', 'wherein', 'our', 'doing', 'any', 'nor', 'become', 'below', 'latter', 'thereupon'})\n"
          ]
        }
      ]
    },
    {
      "cell_type": "code",
      "source": [
        "import pandas \n",
        "pandas.DataFrame(STOPWORDS).to_csv('gensim_stopwords.csv')"
      ],
      "metadata": {
        "id": "QK1sAdtXf9xv"
      },
      "execution_count": 30,
      "outputs": []
    }
  ]
}