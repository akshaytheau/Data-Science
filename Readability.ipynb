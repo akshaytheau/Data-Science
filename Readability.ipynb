{
 "cells": [
  {
   "cell_type": "code",
   "execution_count": 1,
   "metadata": {},
   "outputs": [
    {
     "name": "stdout",
     "output_type": "stream",
     "text": [
      "Collecting readability\n",
      "  Downloading https://files.pythonhosted.org/packages/26/70/6f8750066255d4d2b82b813dd2550e0bd2bee99d026d14088a7b977cd0fc/readability-0.3.1.tar.gz\n",
      "Building wheels for collected packages: readability\n",
      "  Building wheel for readability (setup.py) ... \u001b[?25ldone\n",
      "\u001b[?25h  Created wheel for readability: filename=readability-0.3.1-cp37-none-any.whl size=35464 sha256=b432dd772e5a327736e14ea876f8fe36914ef541eba12aed8baf35cb92581908\n",
      "  Stored in directory: /home/akshay/.cache/pip/wheels/36/3f/65/bc327f4cdd5bff9ff510834e07522f94389e28858311b33b41\n",
      "Successfully built readability\n",
      "Installing collected packages: readability\n",
      "Successfully installed readability-0.3.1\n"
     ]
    }
   ],
   "source": [
    "! pip install readability"
   ]
  },
  {
   "cell_type": "code",
   "execution_count": 2,
   "metadata": {},
   "outputs": [],
   "source": [
    "import readability"
   ]
  },
  {
   "cell_type": "code",
   "execution_count": 14,
   "metadata": {},
   "outputs": [],
   "source": [
    "text = ('Ram is eating mango')"
   ]
  },
  {
   "cell_type": "code",
   "execution_count": 15,
   "metadata": {},
   "outputs": [],
   "source": [
    "results = readability.getmeasures(text, lang='en')"
   ]
  },
  {
   "cell_type": "code",
   "execution_count": 16,
   "metadata": {},
   "outputs": [
    {
     "name": "stdout",
     "output_type": "stream",
     "text": [
      "75.87500000000001\n"
     ]
    }
   ],
   "source": [
    "print(results['readability grades']['FleschReadingEase'])"
   ]
  },
  {
   "cell_type": "code",
   "execution_count": 17,
   "metadata": {},
   "outputs": [
    {
     "data": {
      "text/plain": [
       "OrderedDict([('readability grades',\n",
       "              OrderedDict([('Kincaid', 3.6700000000000017),\n",
       "                           ('ARI', -0.5899999999999999),\n",
       "                           ('Coleman-Liau', 0.32178000000000395),\n",
       "                           ('FleschReadingEase', 75.87500000000001),\n",
       "                           ('GunningFogIndex', 1.6),\n",
       "                           ('LIX', 4.0),\n",
       "                           ('SMOGIndex', 3.0),\n",
       "                           ('RIX', 0.0),\n",
       "                           ('DaleChallIndex', 11.7299)])),\n",
       "             ('sentence info',\n",
       "              OrderedDict([('characters_per_word', 4.0),\n",
       "                           ('syll_per_word', 1.5),\n",
       "                           ('words_per_sentence', 4.0),\n",
       "                           ('sentences_per_paragraph', 1.0),\n",
       "                           ('type_token_ratio', 1.0),\n",
       "                           ('characters', 16),\n",
       "                           ('syllables', 6),\n",
       "                           ('words', 4),\n",
       "                           ('wordtypes', 4),\n",
       "                           ('sentences', 1),\n",
       "                           ('paragraphs', 1),\n",
       "                           ('long_words', 0),\n",
       "                           ('complex_words', 0),\n",
       "                           ('complex_words_dc', 2)])),\n",
       "             ('word usage',\n",
       "              OrderedDict([('tobeverb', 1),\n",
       "                           ('auxverb', 0),\n",
       "                           ('conjunction', 0),\n",
       "                           ('pronoun', 0),\n",
       "                           ('preposition', 0),\n",
       "                           ('nominalization', 0)])),\n",
       "             ('sentence beginnings',\n",
       "              OrderedDict([('pronoun', 0),\n",
       "                           ('interrogative', 0),\n",
       "                           ('article', 0),\n",
       "                           ('subordination', 0),\n",
       "                           ('conjunction', 0),\n",
       "                           ('preposition', 0)]))])"
      ]
     },
     "execution_count": 17,
     "metadata": {},
     "output_type": "execute_result"
    }
   ],
   "source": [
    "results"
   ]
  },
  {
   "cell_type": "code",
   "execution_count": 18,
   "metadata": {},
   "outputs": [
    {
     "name": "stdout",
     "output_type": "stream",
     "text": [
      "-47.979999999999976\n"
     ]
    }
   ],
   "source": [
    "text2 = ('Asasadas')\n",
    "results = readability.getmeasures(text2, lang='en')\n",
    "print(results['readability grades']['FleschReadingEase'])"
   ]
  }
 ],
 "metadata": {
  "kernelspec": {
   "display_name": "Python 3",
   "language": "python",
   "name": "python3"
  },
  "language_info": {
   "codemirror_mode": {
    "name": "ipython",
    "version": 3
   },
   "file_extension": ".py",
   "mimetype": "text/x-python",
   "name": "python",
   "nbconvert_exporter": "python",
   "pygments_lexer": "ipython3",
   "version": "3.7.4"
  }
 },
 "nbformat": 4,
 "nbformat_minor": 2
}
