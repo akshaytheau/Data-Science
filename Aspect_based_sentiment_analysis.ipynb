{
  "nbformat": 4,
  "nbformat_minor": 0,
  "metadata": {
    "colab": {
      "provenance": []
    },
    "kernelspec": {
      "name": "python3",
      "display_name": "Python 3"
    },
    "language_info": {
      "name": "python"
    }
  },
  "cells": [
    {
      "cell_type": "code",
      "execution_count": 2,
      "metadata": {
        "colab": {
          "base_uri": "https://localhost:8080/",
          "height": 1000
        },
        "id": "lEZm_fBk1xeh",
        "outputId": "a9b91548-deee-4cb3-f979-3f225231a253"
      },
      "outputs": [
        {
          "output_type": "stream",
          "name": "stdout",
          "text": [
            "Looking in indexes: https://pypi.org/simple, https://us-python.pkg.dev/colab-wheels/public/simple/\n",
            "Collecting aspect-based-sentiment-analysis\n",
            "  Downloading aspect_based_sentiment_analysis-2.0.3-py3-none-any.whl (35 kB)\n",
            "Requirement already satisfied: spacy in /usr/local/lib/python3.7/dist-packages (from aspect-based-sentiment-analysis) (3.4.2)\n",
            "Collecting tensorflow==2.5\n",
            "  Downloading tensorflow-2.5.0-cp37-cp37m-manylinux2010_x86_64.whl (454.3 MB)\n",
            "\u001b[K     |████████████████████████████████| 454.3 MB 21 kB/s \n",
            "\u001b[?25hRequirement already satisfied: google-cloud-storage in /usr/local/lib/python3.7/dist-packages (from aspect-based-sentiment-analysis) (2.5.0)\n",
            "Requirement already satisfied: ipython in /usr/local/lib/python3.7/dist-packages (from aspect-based-sentiment-analysis) (7.9.0)\n",
            "Collecting transformers==4.8\n",
            "  Downloading transformers-4.8.0-py3-none-any.whl (2.5 MB)\n",
            "\u001b[K     |████████████████████████████████| 2.5 MB 64.6 MB/s \n",
            "\u001b[?25hRequirement already satisfied: scikit-learn in /usr/local/lib/python3.7/dist-packages (from aspect-based-sentiment-analysis) (1.0.2)\n",
            "Collecting optuna\n",
            "  Downloading optuna-3.0.3-py3-none-any.whl (348 kB)\n",
            "\u001b[K     |████████████████████████████████| 348 kB 74.3 MB/s \n",
            "\u001b[?25hCollecting testfixtures\n",
            "  Downloading testfixtures-7.0.3-py3-none-any.whl (98 kB)\n",
            "\u001b[K     |████████████████████████████████| 98 kB 7.3 MB/s \n",
            "\u001b[?25hRequirement already satisfied: pytest in /usr/local/lib/python3.7/dist-packages (from aspect-based-sentiment-analysis) (3.6.4)\n",
            "Requirement already satisfied: opt-einsum~=3.3.0 in /usr/local/lib/python3.7/dist-packages (from tensorflow==2.5->aspect-based-sentiment-analysis) (3.3.0)\n",
            "Collecting grpcio~=1.34.0\n",
            "  Downloading grpcio-1.34.1-cp37-cp37m-manylinux2014_x86_64.whl (4.0 MB)\n",
            "\u001b[K     |████████████████████████████████| 4.0 MB 62.4 MB/s \n",
            "\u001b[?25hCollecting absl-py~=0.10\n",
            "  Downloading absl_py-0.15.0-py3-none-any.whl (132 kB)\n",
            "\u001b[K     |████████████████████████████████| 132 kB 71.2 MB/s \n",
            "\u001b[?25hCollecting typing-extensions~=3.7.4\n",
            "  Downloading typing_extensions-3.7.4.3-py3-none-any.whl (22 kB)\n",
            "Requirement already satisfied: tensorboard~=2.5 in /usr/local/lib/python3.7/dist-packages (from tensorflow==2.5->aspect-based-sentiment-analysis) (2.9.1)\n",
            "Requirement already satisfied: six~=1.15.0 in /usr/local/lib/python3.7/dist-packages (from tensorflow==2.5->aspect-based-sentiment-analysis) (1.15.0)\n",
            "Collecting numpy~=1.19.2\n",
            "  Downloading numpy-1.19.5-cp37-cp37m-manylinux2010_x86_64.whl (14.8 MB)\n",
            "\u001b[K     |████████████████████████████████| 14.8 MB 54.8 MB/s \n",
            "\u001b[?25hRequirement already satisfied: h5py~=3.1.0 in /usr/local/lib/python3.7/dist-packages (from tensorflow==2.5->aspect-based-sentiment-analysis) (3.1.0)\n",
            "Requirement already satisfied: google-pasta~=0.2 in /usr/local/lib/python3.7/dist-packages (from tensorflow==2.5->aspect-based-sentiment-analysis) (0.2.0)\n",
            "Requirement already satisfied: wheel~=0.35 in /usr/local/lib/python3.7/dist-packages (from tensorflow==2.5->aspect-based-sentiment-analysis) (0.38.3)\n",
            "Requirement already satisfied: keras-preprocessing~=1.1.2 in /usr/local/lib/python3.7/dist-packages (from tensorflow==2.5->aspect-based-sentiment-analysis) (1.1.2)\n",
            "Requirement already satisfied: protobuf>=3.9.2 in /usr/local/lib/python3.7/dist-packages (from tensorflow==2.5->aspect-based-sentiment-analysis) (3.19.6)\n",
            "Requirement already satisfied: astunparse~=1.6.3 in /usr/local/lib/python3.7/dist-packages (from tensorflow==2.5->aspect-based-sentiment-analysis) (1.6.3)\n",
            "Collecting termcolor~=1.1.0\n",
            "  Downloading termcolor-1.1.0.tar.gz (3.9 kB)\n",
            "Collecting keras-nightly~=2.5.0.dev\n",
            "  Downloading keras_nightly-2.5.0.dev2021032900-py2.py3-none-any.whl (1.2 MB)\n",
            "\u001b[K     |████████████████████████████████| 1.2 MB 56.1 MB/s \n",
            "\u001b[?25hRequirement already satisfied: flatbuffers~=1.12.0 in /usr/local/lib/python3.7/dist-packages (from tensorflow==2.5->aspect-based-sentiment-analysis) (1.12)\n",
            "Collecting wrapt~=1.12.1\n",
            "  Downloading wrapt-1.12.1.tar.gz (27 kB)\n",
            "Collecting tensorflow-estimator<2.6.0,>=2.5.0rc0\n",
            "  Downloading tensorflow_estimator-2.5.0-py2.py3-none-any.whl (462 kB)\n",
            "\u001b[K     |████████████████████████████████| 462 kB 64.8 MB/s \n",
            "\u001b[?25hRequirement already satisfied: gast==0.4.0 in /usr/local/lib/python3.7/dist-packages (from tensorflow==2.5->aspect-based-sentiment-analysis) (0.4.0)\n",
            "Collecting sacremoses\n",
            "  Downloading sacremoses-0.0.53.tar.gz (880 kB)\n",
            "\u001b[K     |████████████████████████████████| 880 kB 39.3 MB/s \n",
            "\u001b[?25hRequirement already satisfied: importlib-metadata in /usr/local/lib/python3.7/dist-packages (from transformers==4.8->aspect-based-sentiment-analysis) (4.13.0)\n",
            "Requirement already satisfied: tqdm>=4.27 in /usr/local/lib/python3.7/dist-packages (from transformers==4.8->aspect-based-sentiment-analysis) (4.64.1)\n",
            "Collecting huggingface-hub==0.0.12\n",
            "  Downloading huggingface_hub-0.0.12-py3-none-any.whl (37 kB)\n",
            "Requirement already satisfied: filelock in /usr/local/lib/python3.7/dist-packages (from transformers==4.8->aspect-based-sentiment-analysis) (3.8.0)\n",
            "Requirement already satisfied: requests in /usr/local/lib/python3.7/dist-packages (from transformers==4.8->aspect-based-sentiment-analysis) (2.23.0)\n",
            "Requirement already satisfied: packaging in /usr/local/lib/python3.7/dist-packages (from transformers==4.8->aspect-based-sentiment-analysis) (21.3)\n",
            "Requirement already satisfied: pyyaml in /usr/local/lib/python3.7/dist-packages (from transformers==4.8->aspect-based-sentiment-analysis) (6.0)\n",
            "Collecting tokenizers<0.11,>=0.10.1\n",
            "  Downloading tokenizers-0.10.3-cp37-cp37m-manylinux_2_5_x86_64.manylinux1_x86_64.manylinux_2_12_x86_64.manylinux2010_x86_64.whl (3.3 MB)\n",
            "\u001b[K     |████████████████████████████████| 3.3 MB 42.1 MB/s \n",
            "\u001b[?25hRequirement already satisfied: regex!=2019.12.17 in /usr/local/lib/python3.7/dist-packages (from transformers==4.8->aspect-based-sentiment-analysis) (2022.6.2)\n",
            "Requirement already satisfied: cached-property in /usr/local/lib/python3.7/dist-packages (from h5py~=3.1.0->tensorflow==2.5->aspect-based-sentiment-analysis) (1.5.2)\n",
            "Requirement already satisfied: pyparsing!=3.0.5,>=2.0.2 in /usr/local/lib/python3.7/dist-packages (from packaging->transformers==4.8->aspect-based-sentiment-analysis) (3.0.9)\n",
            "Requirement already satisfied: tensorboard-plugin-wit>=1.6.0 in /usr/local/lib/python3.7/dist-packages (from tensorboard~=2.5->tensorflow==2.5->aspect-based-sentiment-analysis) (1.8.1)\n",
            "Requirement already satisfied: werkzeug>=1.0.1 in /usr/local/lib/python3.7/dist-packages (from tensorboard~=2.5->tensorflow==2.5->aspect-based-sentiment-analysis) (1.0.1)\n",
            "Requirement already satisfied: google-auth<3,>=1.6.3 in /usr/local/lib/python3.7/dist-packages (from tensorboard~=2.5->tensorflow==2.5->aspect-based-sentiment-analysis) (2.14.1)\n",
            "Requirement already satisfied: tensorboard-data-server<0.7.0,>=0.6.0 in /usr/local/lib/python3.7/dist-packages (from tensorboard~=2.5->tensorflow==2.5->aspect-based-sentiment-analysis) (0.6.1)\n",
            "Requirement already satisfied: google-auth-oauthlib<0.5,>=0.4.1 in /usr/local/lib/python3.7/dist-packages (from tensorboard~=2.5->tensorflow==2.5->aspect-based-sentiment-analysis) (0.4.6)\n",
            "Requirement already satisfied: setuptools>=41.0.0 in /usr/local/lib/python3.7/dist-packages (from tensorboard~=2.5->tensorflow==2.5->aspect-based-sentiment-analysis) (57.4.0)\n",
            "Requirement already satisfied: markdown>=2.6.8 in /usr/local/lib/python3.7/dist-packages (from tensorboard~=2.5->tensorflow==2.5->aspect-based-sentiment-analysis) (3.4.1)\n",
            "Requirement already satisfied: rsa<5,>=3.1.4 in /usr/local/lib/python3.7/dist-packages (from google-auth<3,>=1.6.3->tensorboard~=2.5->tensorflow==2.5->aspect-based-sentiment-analysis) (4.9)\n",
            "Requirement already satisfied: pyasn1-modules>=0.2.1 in /usr/local/lib/python3.7/dist-packages (from google-auth<3,>=1.6.3->tensorboard~=2.5->tensorflow==2.5->aspect-based-sentiment-analysis) (0.2.8)\n",
            "Requirement already satisfied: cachetools<6.0,>=2.0.0 in /usr/local/lib/python3.7/dist-packages (from google-auth<3,>=1.6.3->tensorboard~=2.5->tensorflow==2.5->aspect-based-sentiment-analysis) (5.2.0)\n",
            "Requirement already satisfied: requests-oauthlib>=0.7.0 in /usr/local/lib/python3.7/dist-packages (from google-auth-oauthlib<0.5,>=0.4.1->tensorboard~=2.5->tensorflow==2.5->aspect-based-sentiment-analysis) (1.3.1)\n",
            "Requirement already satisfied: zipp>=0.5 in /usr/local/lib/python3.7/dist-packages (from importlib-metadata->transformers==4.8->aspect-based-sentiment-analysis) (3.10.0)\n",
            "Requirement already satisfied: pyasn1<0.5.0,>=0.4.6 in /usr/local/lib/python3.7/dist-packages (from pyasn1-modules>=0.2.1->google-auth<3,>=1.6.3->tensorboard~=2.5->tensorflow==2.5->aspect-based-sentiment-analysis) (0.4.8)\n",
            "Requirement already satisfied: certifi>=2017.4.17 in /usr/local/lib/python3.7/dist-packages (from requests->transformers==4.8->aspect-based-sentiment-analysis) (2022.9.24)\n",
            "Requirement already satisfied: urllib3!=1.25.0,!=1.25.1,<1.26,>=1.21.1 in /usr/local/lib/python3.7/dist-packages (from requests->transformers==4.8->aspect-based-sentiment-analysis) (1.24.3)\n",
            "Requirement already satisfied: chardet<4,>=3.0.2 in /usr/local/lib/python3.7/dist-packages (from requests->transformers==4.8->aspect-based-sentiment-analysis) (3.0.4)\n",
            "Requirement already satisfied: idna<3,>=2.5 in /usr/local/lib/python3.7/dist-packages (from requests->transformers==4.8->aspect-based-sentiment-analysis) (2.10)\n",
            "Requirement already satisfied: oauthlib>=3.0.0 in /usr/local/lib/python3.7/dist-packages (from requests-oauthlib>=0.7.0->google-auth-oauthlib<0.5,>=0.4.1->tensorboard~=2.5->tensorflow==2.5->aspect-based-sentiment-analysis) (3.2.2)\n",
            "Requirement already satisfied: google-api-core!=2.0.*,!=2.1.*,!=2.2.*,!=2.3.0,<3.0.0dev,>=1.31.5 in /usr/local/lib/python3.7/dist-packages (from google-cloud-storage->aspect-based-sentiment-analysis) (2.8.2)\n",
            "Requirement already satisfied: google-resumable-media>=2.3.2 in /usr/local/lib/python3.7/dist-packages (from google-cloud-storage->aspect-based-sentiment-analysis) (2.4.0)\n",
            "Requirement already satisfied: google-cloud-core<3.0dev,>=2.3.0 in /usr/local/lib/python3.7/dist-packages (from google-cloud-storage->aspect-based-sentiment-analysis) (2.3.2)\n",
            "Requirement already satisfied: googleapis-common-protos<2.0dev,>=1.56.2 in /usr/local/lib/python3.7/dist-packages (from google-api-core!=2.0.*,!=2.1.*,!=2.2.*,!=2.3.0,<3.0.0dev,>=1.31.5->google-cloud-storage->aspect-based-sentiment-analysis) (1.56.4)\n",
            "Requirement already satisfied: google-crc32c<2.0dev,>=1.0 in /usr/local/lib/python3.7/dist-packages (from google-resumable-media>=2.3.2->google-cloud-storage->aspect-based-sentiment-analysis) (1.5.0)\n",
            "Requirement already satisfied: backcall in /usr/local/lib/python3.7/dist-packages (from ipython->aspect-based-sentiment-analysis) (0.2.0)\n",
            "Requirement already satisfied: decorator in /usr/local/lib/python3.7/dist-packages (from ipython->aspect-based-sentiment-analysis) (4.4.2)\n",
            "Collecting jedi>=0.10\n",
            "  Downloading jedi-0.18.1-py2.py3-none-any.whl (1.6 MB)\n",
            "\u001b[K     |████████████████████████████████| 1.6 MB 52.8 MB/s \n",
            "\u001b[?25hRequirement already satisfied: prompt-toolkit<2.1.0,>=2.0.0 in /usr/local/lib/python3.7/dist-packages (from ipython->aspect-based-sentiment-analysis) (2.0.10)\n",
            "Requirement already satisfied: pexpect in /usr/local/lib/python3.7/dist-packages (from ipython->aspect-based-sentiment-analysis) (4.8.0)\n",
            "Requirement already satisfied: pickleshare in /usr/local/lib/python3.7/dist-packages (from ipython->aspect-based-sentiment-analysis) (0.7.5)\n",
            "Requirement already satisfied: pygments in /usr/local/lib/python3.7/dist-packages (from ipython->aspect-based-sentiment-analysis) (2.6.1)\n",
            "Requirement already satisfied: traitlets>=4.2 in /usr/local/lib/python3.7/dist-packages (from ipython->aspect-based-sentiment-analysis) (5.1.1)\n",
            "Requirement already satisfied: parso<0.9.0,>=0.8.0 in /usr/local/lib/python3.7/dist-packages (from jedi>=0.10->ipython->aspect-based-sentiment-analysis) (0.8.3)\n",
            "Requirement already satisfied: wcwidth in /usr/local/lib/python3.7/dist-packages (from prompt-toolkit<2.1.0,>=2.0.0->ipython->aspect-based-sentiment-analysis) (0.2.5)\n",
            "Collecting alembic>=1.5.0\n",
            "  Downloading alembic-1.8.1-py3-none-any.whl (209 kB)\n",
            "\u001b[K     |████████████████████████████████| 209 kB 75.8 MB/s \n",
            "\u001b[?25hCollecting cmaes>=0.8.2\n",
            "  Downloading cmaes-0.9.0-py3-none-any.whl (23 kB)\n",
            "Collecting colorlog\n",
            "  Downloading colorlog-6.7.0-py2.py3-none-any.whl (11 kB)\n",
            "Requirement already satisfied: sqlalchemy>=1.3.0 in /usr/local/lib/python3.7/dist-packages (from optuna->aspect-based-sentiment-analysis) (1.4.43)\n",
            "Requirement already satisfied: scipy<1.9.0,>=1.7.0 in /usr/local/lib/python3.7/dist-packages (from optuna->aspect-based-sentiment-analysis) (1.7.3)\n",
            "Collecting cliff\n",
            "  Downloading cliff-3.10.1-py3-none-any.whl (81 kB)\n",
            "\u001b[K     |████████████████████████████████| 81 kB 10.7 MB/s \n",
            "\u001b[?25hRequirement already satisfied: importlib-resources in /usr/local/lib/python3.7/dist-packages (from alembic>=1.5.0->optuna->aspect-based-sentiment-analysis) (5.10.0)\n",
            "Collecting Mako\n",
            "  Downloading Mako-1.2.4-py3-none-any.whl (78 kB)\n",
            "\u001b[K     |████████████████████████████████| 78 kB 9.3 MB/s \n",
            "\u001b[?25hRequirement already satisfied: greenlet!=0.4.17 in /usr/local/lib/python3.7/dist-packages (from sqlalchemy>=1.3.0->optuna->aspect-based-sentiment-analysis) (2.0.1)\n",
            "Collecting cmd2>=1.0.0\n",
            "  Downloading cmd2-2.4.2-py3-none-any.whl (147 kB)\n",
            "\u001b[K     |████████████████████████████████| 147 kB 59.7 MB/s \n",
            "\u001b[?25hCollecting autopage>=0.4.0\n",
            "  Downloading autopage-0.5.1-py3-none-any.whl (29 kB)\n",
            "Collecting stevedore>=2.0.1\n",
            "  Downloading stevedore-3.5.2-py3-none-any.whl (50 kB)\n",
            "\u001b[K     |████████████████████████████████| 50 kB 7.8 MB/s \n",
            "\u001b[?25hCollecting pbr!=2.1.0,>=2.0.0\n",
            "  Downloading pbr-5.11.0-py2.py3-none-any.whl (112 kB)\n",
            "\u001b[K     |████████████████████████████████| 112 kB 79.0 MB/s \n",
            "\u001b[?25hRequirement already satisfied: PrettyTable>=0.7.2 in /usr/local/lib/python3.7/dist-packages (from cliff->optuna->aspect-based-sentiment-analysis) (3.5.0)\n",
            "Requirement already satisfied: attrs>=16.3.0 in /usr/local/lib/python3.7/dist-packages (from cmd2>=1.0.0->cliff->optuna->aspect-based-sentiment-analysis) (22.1.0)\n",
            "Collecting pyperclip>=1.6\n",
            "  Downloading pyperclip-1.8.2.tar.gz (20 kB)\n",
            "Requirement already satisfied: MarkupSafe>=0.9.2 in /usr/local/lib/python3.7/dist-packages (from Mako->alembic>=1.5.0->optuna->aspect-based-sentiment-analysis) (2.0.1)\n",
            "Requirement already satisfied: ptyprocess>=0.5 in /usr/local/lib/python3.7/dist-packages (from pexpect->ipython->aspect-based-sentiment-analysis) (0.7.0)\n",
            "Requirement already satisfied: py>=1.5.0 in /usr/local/lib/python3.7/dist-packages (from pytest->aspect-based-sentiment-analysis) (1.11.0)\n",
            "Requirement already satisfied: pluggy<0.8,>=0.5 in /usr/local/lib/python3.7/dist-packages (from pytest->aspect-based-sentiment-analysis) (0.7.1)\n",
            "Requirement already satisfied: more-itertools>=4.0.0 in /usr/local/lib/python3.7/dist-packages (from pytest->aspect-based-sentiment-analysis) (9.0.0)\n",
            "Requirement already satisfied: atomicwrites>=1.0 in /usr/local/lib/python3.7/dist-packages (from pytest->aspect-based-sentiment-analysis) (1.4.1)\n",
            "Requirement already satisfied: click in /usr/local/lib/python3.7/dist-packages (from sacremoses->transformers==4.8->aspect-based-sentiment-analysis) (7.1.2)\n",
            "Requirement already satisfied: joblib in /usr/local/lib/python3.7/dist-packages (from sacremoses->transformers==4.8->aspect-based-sentiment-analysis) (1.2.0)\n",
            "Requirement already satisfied: threadpoolctl>=2.0.0 in /usr/local/lib/python3.7/dist-packages (from scikit-learn->aspect-based-sentiment-analysis) (3.1.0)\n",
            "Requirement already satisfied: spacy-loggers<2.0.0,>=1.0.0 in /usr/local/lib/python3.7/dist-packages (from spacy->aspect-based-sentiment-analysis) (1.0.3)\n",
            "Requirement already satisfied: spacy-legacy<3.1.0,>=3.0.10 in /usr/local/lib/python3.7/dist-packages (from spacy->aspect-based-sentiment-analysis) (3.0.10)\n",
            "Requirement already satisfied: murmurhash<1.1.0,>=0.28.0 in /usr/local/lib/python3.7/dist-packages (from spacy->aspect-based-sentiment-analysis) (1.0.9)\n",
            "Requirement already satisfied: pathy>=0.3.5 in /usr/local/lib/python3.7/dist-packages (from spacy->aspect-based-sentiment-analysis) (0.6.2)\n",
            "Requirement already satisfied: jinja2 in /usr/local/lib/python3.7/dist-packages (from spacy->aspect-based-sentiment-analysis) (2.11.3)\n",
            "Requirement already satisfied: langcodes<4.0.0,>=3.2.0 in /usr/local/lib/python3.7/dist-packages (from spacy->aspect-based-sentiment-analysis) (3.3.0)\n",
            "Requirement already satisfied: srsly<3.0.0,>=2.4.3 in /usr/local/lib/python3.7/dist-packages (from spacy->aspect-based-sentiment-analysis) (2.4.5)\n",
            "Requirement already satisfied: cymem<2.1.0,>=2.0.2 in /usr/local/lib/python3.7/dist-packages (from spacy->aspect-based-sentiment-analysis) (2.0.7)\n",
            "Requirement already satisfied: wasabi<1.1.0,>=0.9.1 in /usr/local/lib/python3.7/dist-packages (from spacy->aspect-based-sentiment-analysis) (0.10.1)\n",
            "Requirement already satisfied: preshed<3.1.0,>=3.0.2 in /usr/local/lib/python3.7/dist-packages (from spacy->aspect-based-sentiment-analysis) (3.0.8)\n",
            "Requirement already satisfied: catalogue<2.1.0,>=2.0.6 in /usr/local/lib/python3.7/dist-packages (from spacy->aspect-based-sentiment-analysis) (2.0.8)\n",
            "Requirement already satisfied: thinc<8.2.0,>=8.1.0 in /usr/local/lib/python3.7/dist-packages (from spacy->aspect-based-sentiment-analysis) (8.1.5)\n",
            "Requirement already satisfied: pydantic!=1.8,!=1.8.1,<1.11.0,>=1.7.4 in /usr/local/lib/python3.7/dist-packages (from spacy->aspect-based-sentiment-analysis) (1.10.2)\n",
            "Requirement already satisfied: typer<0.5.0,>=0.3.0 in /usr/local/lib/python3.7/dist-packages (from spacy->aspect-based-sentiment-analysis) (0.4.2)\n",
            "Requirement already satisfied: smart-open<6.0.0,>=5.2.1 in /usr/local/lib/python3.7/dist-packages (from pathy>=0.3.5->spacy->aspect-based-sentiment-analysis) (5.2.1)\n",
            "Collecting pydantic!=1.8,!=1.8.1,<1.11.0,>=1.7.4\n",
            "  Downloading pydantic-1.10.1-cp37-cp37m-manylinux_2_17_x86_64.manylinux2014_x86_64.whl (11.8 MB)\n",
            "\u001b[K     |████████████████████████████████| 11.8 MB 63.1 MB/s \n",
            "\u001b[?25h  Downloading pydantic-1.10.0-cp37-cp37m-manylinux_2_17_x86_64.manylinux2014_x86_64.whl (11.8 MB)\n",
            "\u001b[K     |████████████████████████████████| 11.8 MB 67.6 MB/s \n",
            "\u001b[?25h  Downloading pydantic-1.9.2-cp37-cp37m-manylinux_2_17_x86_64.manylinux2014_x86_64.whl (11.1 MB)\n",
            "\u001b[K     |████████████████████████████████| 11.1 MB 60.7 MB/s \n",
            "\u001b[?25hRequirement already satisfied: blis<0.8.0,>=0.7.8 in /usr/local/lib/python3.7/dist-packages (from thinc<8.2.0,>=8.1.0->spacy->aspect-based-sentiment-analysis) (0.7.9)\n",
            "Requirement already satisfied: confection<1.0.0,>=0.0.1 in /usr/local/lib/python3.7/dist-packages (from thinc<8.2.0,>=8.1.0->spacy->aspect-based-sentiment-analysis) (0.0.3)\n",
            "Building wheels for collected packages: termcolor, wrapt, pyperclip, sacremoses\n",
            "  Building wheel for termcolor (setup.py) ... \u001b[?25l\u001b[?25hdone\n",
            "  Created wheel for termcolor: filename=termcolor-1.1.0-py3-none-any.whl size=4849 sha256=bb527c5035d80cde3597bc3828dfa1d9c0ae9bdb17e0b5f884e2325d6e5c9b91\n",
            "  Stored in directory: /root/.cache/pip/wheels/3f/e3/ec/8a8336ff196023622fbcb36de0c5a5c218cbb24111d1d4c7f2\n",
            "  Building wheel for wrapt (setup.py) ... \u001b[?25l\u001b[?25hdone\n",
            "  Created wheel for wrapt: filename=wrapt-1.12.1-cp37-cp37m-linux_x86_64.whl size=68722 sha256=40f836a21a5fd0146da1007bb4636e25ff1efa4dae9af6f1f639eacd56ca2566\n",
            "  Stored in directory: /root/.cache/pip/wheels/62/76/4c/aa25851149f3f6d9785f6c869387ad82b3fd37582fa8147ac6\n",
            "  Building wheel for pyperclip (setup.py) ... \u001b[?25l\u001b[?25hdone\n",
            "  Created wheel for pyperclip: filename=pyperclip-1.8.2-py3-none-any.whl size=11137 sha256=ab99c4f735a89e5f2657732d561fd14a570367086ff4cdd580872a6e508bda38\n",
            "  Stored in directory: /root/.cache/pip/wheels/9f/18/84/8f69f8b08169c7bae2dde6bd7daf0c19fca8c8e500ee620a28\n",
            "  Building wheel for sacremoses (setup.py) ... \u001b[?25l\u001b[?25hdone\n",
            "  Created wheel for sacremoses: filename=sacremoses-0.0.53-py3-none-any.whl size=895259 sha256=82eedec21141e6dc0ea35717f6800d43eb4241674668dd4f28cc7d8285b8dd60\n",
            "  Stored in directory: /root/.cache/pip/wheels/87/39/dd/a83eeef36d0bf98e7a4d1933a4ad2d660295a40613079bafc9\n",
            "Successfully built termcolor wrapt pyperclip sacremoses\n",
            "Installing collected packages: typing-extensions, pyperclip, pydantic, pbr, numpy, stevedore, Mako, grpcio, cmd2, autopage, absl-py, wrapt, tokenizers, termcolor, tensorflow-estimator, sacremoses, keras-nightly, jedi, huggingface-hub, colorlog, cmaes, cliff, alembic, transformers, testfixtures, tensorflow, optuna, aspect-based-sentiment-analysis\n",
            "  Attempting uninstall: typing-extensions\n",
            "    Found existing installation: typing-extensions 4.1.1\n",
            "    Uninstalling typing-extensions-4.1.1:\n",
            "      Successfully uninstalled typing-extensions-4.1.1\n",
            "  Attempting uninstall: pydantic\n",
            "    Found existing installation: pydantic 1.10.2\n",
            "    Uninstalling pydantic-1.10.2:\n",
            "      Successfully uninstalled pydantic-1.10.2\n",
            "  Attempting uninstall: numpy\n",
            "    Found existing installation: numpy 1.21.6\n",
            "    Uninstalling numpy-1.21.6:\n",
            "      Successfully uninstalled numpy-1.21.6\n",
            "  Attempting uninstall: grpcio\n",
            "    Found existing installation: grpcio 1.50.0\n",
            "    Uninstalling grpcio-1.50.0:\n",
            "      Successfully uninstalled grpcio-1.50.0\n",
            "  Attempting uninstall: absl-py\n",
            "    Found existing installation: absl-py 1.3.0\n",
            "    Uninstalling absl-py-1.3.0:\n",
            "      Successfully uninstalled absl-py-1.3.0\n",
            "  Attempting uninstall: wrapt\n",
            "    Found existing installation: wrapt 1.14.1\n",
            "    Uninstalling wrapt-1.14.1:\n",
            "      Successfully uninstalled wrapt-1.14.1\n",
            "  Attempting uninstall: termcolor\n",
            "    Found existing installation: termcolor 2.1.0\n",
            "    Uninstalling termcolor-2.1.0:\n",
            "      Successfully uninstalled termcolor-2.1.0\n",
            "  Attempting uninstall: tensorflow-estimator\n",
            "    Found existing installation: tensorflow-estimator 2.9.0\n",
            "    Uninstalling tensorflow-estimator-2.9.0:\n",
            "      Successfully uninstalled tensorflow-estimator-2.9.0\n",
            "  Attempting uninstall: tensorflow\n",
            "    Found existing installation: tensorflow 2.9.2\n",
            "    Uninstalling tensorflow-2.9.2:\n",
            "      Successfully uninstalled tensorflow-2.9.2\n",
            "\u001b[31mERROR: pip's dependency resolver does not currently take into account all the packages that are installed. This behaviour is the source of the following dependency conflicts.\n",
            "xarray-einstats 0.2.2 requires numpy>=1.21, but you have numpy 1.19.5 which is incompatible.\n",
            "jaxlib 0.3.22+cuda11.cudnn805 requires numpy>=1.20, but you have numpy 1.19.5 which is incompatible.\n",
            "jax 0.3.23 requires numpy>=1.20, but you have numpy 1.19.5 which is incompatible.\n",
            "grpcio-status 1.48.2 requires grpcio>=1.48.2, but you have grpcio 1.34.1 which is incompatible.\n",
            "google-cloud-bigquery 3.3.6 requires grpcio<2.0dev,>=1.47.0, but you have grpcio 1.34.1 which is incompatible.\n",
            "cmdstanpy 1.0.8 requires numpy>=1.21, but you have numpy 1.19.5 which is incompatible.\u001b[0m\n",
            "Successfully installed Mako-1.2.4 absl-py-0.15.0 alembic-1.8.1 aspect-based-sentiment-analysis-2.0.3 autopage-0.5.1 cliff-3.10.1 cmaes-0.9.0 cmd2-2.4.2 colorlog-6.7.0 grpcio-1.34.1 huggingface-hub-0.0.12 jedi-0.18.1 keras-nightly-2.5.0.dev2021032900 numpy-1.19.5 optuna-3.0.3 pbr-5.11.0 pydantic-1.9.2 pyperclip-1.8.2 sacremoses-0.0.53 stevedore-3.5.2 tensorflow-2.5.0 tensorflow-estimator-2.5.0 termcolor-1.1.0 testfixtures-7.0.3 tokenizers-0.10.3 transformers-4.8.0 typing-extensions-3.7.4.3 wrapt-1.12.1\n"
          ]
        },
        {
          "output_type": "display_data",
          "data": {
            "application/vnd.colab-display-data+json": {
              "pip_warning": {
                "packages": [
                  "numpy",
                  "typing_extensions"
                ]
              }
            }
          },
          "metadata": {}
        }
      ],
      "source": [
        "! pip install aspect-based-sentiment-analysis"
      ]
    },
    {
      "cell_type": "code",
      "source": [
        "import aspect_based_sentiment_analysis as absa\n",
        "\n",
        "nlp = absa.load()\n",
        "text = (\"Delhi is a wonderful city to live but it has very bad pollution.\")\n",
        "\n",
        "Delhi, pollution = nlp(text, aspects=['Delhi', 'pollution'])\n",
        "print(Delhi.sentiment)\n",
        "print(pollution.sentiment)"
      ],
      "metadata": {
        "colab": {
          "base_uri": "https://localhost:8080/"
        },
        "id": "58irKZTr23jq",
        "outputId": "062a8443-1070-481f-f68c-8da1ac35295e"
      },
      "execution_count": 11,
      "outputs": [
        {
          "output_type": "stream",
          "name": "stderr",
          "text": [
            "Some layers from the model checkpoint at absa/classifier-rest-0.2 were not used when initializing BertABSClassifier: ['dropout_379']\n",
            "- This IS expected if you are initializing BertABSClassifier from the checkpoint of a model trained on another task or with another architecture (e.g. initializing a BertForSequenceClassification model from a BertForPreTraining model).\n",
            "- This IS NOT expected if you are initializing BertABSClassifier from the checkpoint of a model that you expect to be exactly identical (initializing a BertForSequenceClassification model from a BertForSequenceClassification model).\n",
            "Some layers of BertABSClassifier were not initialized from the model checkpoint at absa/classifier-rest-0.2 and are newly initialized: ['dropout_341']\n",
            "You should probably TRAIN this model on a down-stream task to be able to use it for predictions and inference.\n"
          ]
        },
        {
          "output_type": "stream",
          "name": "stdout",
          "text": [
            "Sentiment.positive\n",
            "Sentiment.negative\n"
          ]
        }
      ]
    },
    {
      "cell_type": "code",
      "source": [
        "recognizer = absa.aux_models.BasicPatternRecognizer()\n",
        "nlp = absa.load(pattern_recognizer=recognizer)\n",
        "completed_task = nlp(text=text, aspects=['Delhi', 'pollution'])\n",
        "Delhi, pollution = completed_task.examples\n",
        "\n",
        "absa.summary(Delhi)\n",
        "absa.display(Delhi.review)\n",
        "\n",
        "absa.summary(pollution)\n",
        "absa.display(pollution.review)"
      ],
      "metadata": {
        "colab": {
          "base_uri": "https://localhost:8080/",
          "height": 371
        },
        "id": "_Ep33kvv3IAc",
        "outputId": "a460fb8c-07aa-4c19-a99c-49f7926c6d29"
      },
      "execution_count": 10,
      "outputs": [
        {
          "output_type": "stream",
          "name": "stderr",
          "text": [
            "Some layers from the model checkpoint at absa/classifier-rest-0.2 were not used when initializing BertABSClassifier: ['dropout_379']\n",
            "- This IS expected if you are initializing BertABSClassifier from the checkpoint of a model trained on another task or with another architecture (e.g. initializing a BertForSequenceClassification model from a BertForPreTraining model).\n",
            "- This IS NOT expected if you are initializing BertABSClassifier from the checkpoint of a model that you expect to be exactly identical (initializing a BertForSequenceClassification model from a BertForSequenceClassification model).\n",
            "Some layers of BertABSClassifier were not initialized from the model checkpoint at absa/classifier-rest-0.2 and are newly initialized: ['dropout_303']\n",
            "You should probably TRAIN this model on a down-stream task to be able to use it for predictions and inference.\n"
          ]
        },
        {
          "output_type": "stream",
          "name": "stdout",
          "text": [
            "Sentiment.positive for \"Delhi\"\n",
            "Scores (neutral/negative/positive): [0.001 0.002 0.997]\n"
          ]
        },
        {
          "output_type": "display_data",
          "data": {
            "text/plain": [
              "<IPython.core.display.HTML object>"
            ],
            "text/html": [
              "<span style=\"background-color:rgba(180,180,180,1.1111111111111112);\">Importance 1.00</span> <span style=\"background-color:rgba(135,206,250,1.25);\">delhi</span> <span style=\"background-color:rgba(135,206,250,0.2375);\">is</span> <span style=\"background-color:rgba(135,206,250,0.3);\">a</span> <span style=\"background-color:rgba(135,206,250,1.25);\">wonderful</span> <span style=\"background-color:rgba(135,206,250,0.5125);\">city</span> <span style=\"background-color:rgba(135,206,250,0.27499999999999997);\">to</span> <span style=\"background-color:rgba(135,206,250,0.3125);\">live</span> <span style=\"background-color:rgba(135,206,250,0.5375);\">but</span> <span style=\"background-color:rgba(135,206,250,0.08750000000000001);\">it</span> <span style=\"background-color:rgba(135,206,250,0.125);\">has</span> <span style=\"background-color:rgba(135,206,250,0.075);\">very</span> <span style=\"background-color:rgba(135,206,250,0.2375);\">bad</span> <span style=\"background-color:rgba(135,206,250,0.15);\">pollution</span> <span style=\"background-color:rgba(135,206,250,0.1625);\">.</span><br> <span style=\"background-color:rgba(180,180,180,0.6888888888888889);\">Importance 0.62</span> <span style=\"background-color:rgba(135,206,250,0.7749999999999999);\">delhi</span> <span style=\"background-color:rgba(135,206,250,0.46249999999999997);\">is</span> <span style=\"background-color:rgba(135,206,250,0.2125);\">a</span> <span style=\"background-color:rgba(135,206,250,0.5);\">wonderful</span> <span style=\"background-color:rgba(135,206,250,0.7249999999999999);\">city</span> <span style=\"background-color:rgba(135,206,250,0.13749999999999998);\">to</span> <span style=\"background-color:rgba(135,206,250,0.37499999999999994);\">live</span> <span style=\"background-color:rgba(135,206,250,0.2375);\">but</span> <span style=\"background-color:rgba(135,206,250,0.22499999999999998);\">it</span> <span style=\"background-color:rgba(135,206,250,0.11249999999999999);\">has</span> <span style=\"background-color:rgba(135,206,250,0.0375);\">very</span> <span style=\"background-color:rgba(135,206,250,0.125);\">bad</span> <span style=\"background-color:rgba(135,206,250,0.13749999999999998);\">pollution</span> <span style=\"background-color:rgba(135,206,250,0.18749999999999997);\">.</span><br> <span style=\"background-color:rgba(180,180,180,0.3666666666666667);\">Importance 0.33</span> <span style=\"background-color:rgba(135,206,250,0.13749999999999998);\">delhi</span> <span style=\"background-color:rgba(135,206,250,0.049999999999999996);\">is</span> <span style=\"background-color:rgba(135,206,250,0.0375);\">a</span> <span style=\"background-color:rgba(135,206,250,0.15);\">wonderful</span> <span style=\"background-color:rgba(135,206,250,0.049999999999999996);\">city</span> <span style=\"background-color:rgba(135,206,250,0.049999999999999996);\">to</span> <span style=\"background-color:rgba(135,206,250,0.075);\">live</span> <span style=\"background-color:rgba(135,206,250,0.1625);\">but</span> <span style=\"background-color:rgba(135,206,250,0.09999999999999999);\">it</span> <span style=\"background-color:rgba(135,206,250,0.18749999999999997);\">has</span> <span style=\"background-color:rgba(135,206,250,0.15);\">very</span> <span style=\"background-color:rgba(135,206,250,0.4125);\">bad</span> <span style=\"background-color:rgba(135,206,250,0.4125);\">pollution</span> <span style=\"background-color:rgba(135,206,250,0.19999999999999998);\">.</span><br> <span style=\"background-color:rgba(180,180,180,0.3111111111111111);\">Importance 0.28</span> <span style=\"background-color:rgba(135,206,250,0.35000000000000003);\">delhi</span> <span style=\"background-color:rgba(135,206,250,0.35000000000000003);\">is</span> <span style=\"background-color:rgba(135,206,250,0.08750000000000001);\">a</span> <span style=\"background-color:rgba(135,206,250,0.35000000000000003);\">wonderful</span> <span style=\"background-color:rgba(135,206,250,0.2125);\">city</span> <span style=\"background-color:rgba(135,206,250,0.0375);\">to</span> <span style=\"background-color:rgba(135,206,250,0.075);\">live</span> <span style=\"background-color:rgba(135,206,250,0.075);\">but</span> <span style=\"background-color:rgba(135,206,250,0.0375);\">it</span> <span style=\"background-color:rgba(135,206,250,0.049999999999999996);\">has</span> <span style=\"background-color:rgba(135,206,250,0.024999999999999998);\">very</span> <span style=\"background-color:rgba(135,206,250,0.0625);\">bad</span> <span style=\"background-color:rgba(135,206,250,0.024999999999999998);\">pollution</span> <span style=\"background-color:rgba(135,206,250,0.049999999999999996);\">.</span><br> <span style=\"background-color:rgba(180,180,180,0.3111111111111111);\">Importance 0.28</span> <span style=\"background-color:rgba(135,206,250,0.22499999999999998);\">delhi</span> <span style=\"background-color:rgba(135,206,250,0.075);\">is</span> <span style=\"background-color:rgba(135,206,250,0.075);\">a</span> <span style=\"background-color:rgba(135,206,250,0.3125);\">wonderful</span> <span style=\"background-color:rgba(135,206,250,0.11249999999999999);\">city</span> <span style=\"background-color:rgba(135,206,250,0.09999999999999999);\">to</span> <span style=\"background-color:rgba(135,206,250,0.2125);\">live</span> <span style=\"background-color:rgba(135,206,250,0.35000000000000003);\">but</span> <span style=\"background-color:rgba(135,206,250,0.18749999999999997);\">it</span> <span style=\"background-color:rgba(135,206,250,0.15);\">has</span> <span style=\"background-color:rgba(135,206,250,0.125);\">very</span> <span style=\"background-color:rgba(135,206,250,0.2125);\">bad</span> <span style=\"background-color:rgba(135,206,250,0.17500000000000002);\">pollution</span> <span style=\"background-color:rgba(135,206,250,0.11249999999999999);\">.</span><br>"
            ]
          },
          "metadata": {}
        },
        {
          "output_type": "stream",
          "name": "stdout",
          "text": [
            "Sentiment.negative for \"pollution\"\n",
            "Scores (neutral/negative/positive): [0.002 0.515 0.483]\n"
          ]
        },
        {
          "output_type": "display_data",
          "data": {
            "text/plain": [
              "<IPython.core.display.HTML object>"
            ],
            "text/html": [
              "<span style=\"background-color:rgba(180,180,180,1.1111111111111112);\">Importance 1.00</span> <span style=\"background-color:rgba(135,206,250,0.08750000000000001);\">delhi</span> <span style=\"background-color:rgba(135,206,250,0.0625);\">is</span> <span style=\"background-color:rgba(135,206,250,0.08750000000000001);\">a</span> <span style=\"background-color:rgba(135,206,250,0.18749999999999997);\">wonderful</span> <span style=\"background-color:rgba(135,206,250,0.075);\">city</span> <span style=\"background-color:rgba(135,206,250,0.049999999999999996);\">to</span> <span style=\"background-color:rgba(135,206,250,0.075);\">live</span> <span style=\"background-color:rgba(135,206,250,0.2375);\">but</span> <span style=\"background-color:rgba(135,206,250,0.18749999999999997);\">it</span> <span style=\"background-color:rgba(135,206,250,0.36249999999999993);\">has</span> <span style=\"background-color:rgba(135,206,250,0.37499999999999994);\">very</span> <span style=\"background-color:rgba(135,206,250,1.25);\">bad</span> <span style=\"background-color:rgba(135,206,250,1.25);\">pollution</span> <span style=\"background-color:rgba(135,206,250,0.2375);\">.</span><br> <span style=\"background-color:rgba(180,180,180,0.8444444444444444);\">Importance 0.76</span> <span style=\"background-color:rgba(135,206,250,0.38749999999999996);\">delhi</span> <span style=\"background-color:rgba(135,206,250,0.15);\">is</span> <span style=\"background-color:rgba(135,206,250,0.11249999999999999);\">a</span> <span style=\"background-color:rgba(135,206,250,0.5249999999999999);\">wonderful</span> <span style=\"background-color:rgba(135,206,250,0.39999999999999997);\">city</span> <span style=\"background-color:rgba(135,206,250,0.15);\">to</span> <span style=\"background-color:rgba(135,206,250,0.3125);\">live</span> <span style=\"background-color:rgba(135,206,250,0.6625);\">but</span> <span style=\"background-color:rgba(135,206,250,0.325);\">it</span> <span style=\"background-color:rgba(135,206,250,0.5125);\">has</span> <span style=\"background-color:rgba(135,206,250,0.3375);\">very</span> <span style=\"background-color:rgba(135,206,250,0.95);\">bad</span> <span style=\"background-color:rgba(135,206,250,0.95);\">pollution</span> <span style=\"background-color:rgba(135,206,250,0.7249999999999999);\">.</span><br> <span style=\"background-color:rgba(180,180,180,0.7666666666666666);\">Importance 0.69</span> <span style=\"background-color:rgba(135,206,250,0.0625);\">delhi</span> <span style=\"background-color:rgba(135,206,250,0.049999999999999996);\">is</span> <span style=\"background-color:rgba(135,206,250,0.049999999999999996);\">a</span> <span style=\"background-color:rgba(135,206,250,0.19999999999999998);\">wonderful</span> <span style=\"background-color:rgba(135,206,250,0.0625);\">city</span> <span style=\"background-color:rgba(135,206,250,0.0375);\">to</span> <span style=\"background-color:rgba(135,206,250,0.049999999999999996);\">live</span> <span style=\"background-color:rgba(135,206,250,0.3375);\">but</span> <span style=\"background-color:rgba(135,206,250,0.25);\">it</span> <span style=\"background-color:rgba(135,206,250,0.36249999999999993);\">has</span> <span style=\"background-color:rgba(135,206,250,0.8624999999999999);\">very</span> <span style=\"background-color:rgba(135,206,250,0.8624999999999999);\">bad</span> <span style=\"background-color:rgba(135,206,250,0.8125);\">pollution</span> <span style=\"background-color:rgba(135,206,250,0.19999999999999998);\">.</span><br> <span style=\"background-color:rgba(180,180,180,0.6);\">Importance 0.54</span> <span style=\"background-color:rgba(135,206,250,0.075);\">delhi</span> <span style=\"background-color:rgba(135,206,250,0.11249999999999999);\">is</span> <span style=\"background-color:rgba(135,206,250,0.0625);\">a</span> <span style=\"background-color:rgba(135,206,250,0.475);\">wonderful</span> <span style=\"background-color:rgba(135,206,250,0.11249999999999999);\">city</span> <span style=\"background-color:rgba(135,206,250,0.11249999999999999);\">to</span> <span style=\"background-color:rgba(135,206,250,0.17500000000000002);\">live</span> <span style=\"background-color:rgba(135,206,250,0.675);\">but</span> <span style=\"background-color:rgba(135,206,250,0.3125);\">it</span> <span style=\"background-color:rgba(135,206,250,0.36249999999999993);\">has</span> <span style=\"background-color:rgba(135,206,250,0.2875);\">very</span> <span style=\"background-color:rgba(135,206,250,0.675);\">bad</span> <span style=\"background-color:rgba(135,206,250,0.43749999999999994);\">pollution</span> <span style=\"background-color:rgba(135,206,250,0.17500000000000002);\">.</span><br> <span style=\"background-color:rgba(180,180,180,0.4888888888888889);\">Importance 0.44</span> <span style=\"background-color:rgba(135,206,250,0.075);\">delhi</span> <span style=\"background-color:rgba(135,206,250,0.075);\">is</span> <span style=\"background-color:rgba(135,206,250,0.049999999999999996);\">a</span> <span style=\"background-color:rgba(135,206,250,0.075);\">wonderful</span> <span style=\"background-color:rgba(135,206,250,0.09999999999999999);\">city</span> <span style=\"background-color:rgba(135,206,250,0.049999999999999996);\">to</span> <span style=\"background-color:rgba(135,206,250,0.049999999999999996);\">live</span> <span style=\"background-color:rgba(135,206,250,0.19999999999999998);\">but</span> <span style=\"background-color:rgba(135,206,250,0.1625);\">it</span> <span style=\"background-color:rgba(135,206,250,0.5499999999999999);\">has</span> <span style=\"background-color:rgba(135,206,250,0.2125);\">very</span> <span style=\"background-color:rgba(135,206,250,0.325);\">bad</span> <span style=\"background-color:rgba(135,206,250,0.5499999999999999);\">pollution</span> <span style=\"background-color:rgba(135,206,250,0.09999999999999999);\">.</span><br>"
            ]
          },
          "metadata": {}
        }
      ]
    }
  ]
}