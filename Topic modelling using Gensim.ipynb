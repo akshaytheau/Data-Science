{
 "cells": [
  {
   "cell_type": "markdown",
   "metadata": {},
   "source": [
    "# Topic modelling using LDA"
   ]
  },
  {
   "cell_type": "code",
   "execution_count": 47,
   "metadata": {},
   "outputs": [],
   "source": [
    "import gensim"
   ]
  },
  {
   "cell_type": "code",
   "execution_count": 50,
   "metadata": {},
   "outputs": [],
   "source": [
    "corpus = \"In terms of unforgettable looks, and enduring desire from enthusiasts who may have grown up gluing together the AMT 3-in-1 model kit that it inspired, the 1940 models stand today as some of the most iconic, instantly recognizable automobiles that the Ford Motor Company ever produced. That year, Fords were produced in two series: Standard and Deluxe. The easiest way to tell them apart is to look for a cleaner one-piece grille on Standard models, while the Deluxe version has a three-piece grille assembly. Both cars also had slightly different pieces of hood trim. This 1940 Ford Standard Tudor sedan was a very popular model that year–around 151,000 of them were built and sold. This Standard has been under the same California ownership since 1994, after the seller bought it from an owner in Texas. The seller describes the car as being entirely original, though the age of the finish and status of any restoration or refresh are unknown.\""
   ]
  },
  {
   "cell_type": "code",
   "execution_count": 51,
   "metadata": {},
   "outputs": [],
   "source": [
    "from nltk import sent_tokenize"
   ]
  },
  {
   "cell_type": "code",
   "execution_count": 52,
   "metadata": {},
   "outputs": [],
   "source": [
    "list_of_sentence = sent_tokenize(corpus)"
   ]
  },
  {
   "cell_type": "code",
   "execution_count": 53,
   "metadata": {},
   "outputs": [
    {
     "data": {
      "text/plain": [
       "['In terms of unforgettable looks, and enduring desire from enthusiasts who may have grown up gluing together the AMT 3-in-1 model kit that it inspired, the 1940 models stand today as some of the most iconic, instantly recognizable automobiles that the Ford Motor Company ever produced.',\n",
       " 'That year, Fords were produced in two series: Standard and Deluxe.',\n",
       " 'The easiest way to tell them apart is to look for a cleaner one-piece grille on Standard models, while the Deluxe version has a three-piece grille assembly.',\n",
       " 'Both cars also had slightly different pieces of hood trim.',\n",
       " 'This 1940 Ford Standard Tudor sedan was a very popular model that year–around 151,000 of them were built and sold.',\n",
       " 'This Standard has been under the same California ownership since 1994, after the seller bought it from an owner in Texas.',\n",
       " 'The seller describes the car as being entirely original, though the age of the finish and status of any restoration or refresh are unknown.']"
      ]
     },
     "execution_count": 53,
     "metadata": {},
     "output_type": "execute_result"
    }
   ],
   "source": [
    "list_of_sentence"
   ]
  },
  {
   "cell_type": "code",
   "execution_count": 54,
   "metadata": {},
   "outputs": [],
   "source": [
    "list_of_simple_preprocess_data = []\n",
    "for i in list_of_sentence:\n",
    "    list_of_simple_preprocess_data.append(gensim.utils.simple_preprocess(i, deacc=True, min_len=3))"
   ]
  },
  {
   "cell_type": "code",
   "execution_count": 55,
   "metadata": {},
   "outputs": [],
   "source": [
    "texts = list_of_simple_preprocess_data"
   ]
  },
  {
   "cell_type": "code",
   "execution_count": 56,
   "metadata": {},
   "outputs": [
    {
     "data": {
      "text/plain": [
       "[['terms',\n",
       "  'unforgettable',\n",
       "  'looks',\n",
       "  'and',\n",
       "  'enduring',\n",
       "  'desire',\n",
       "  'from',\n",
       "  'enthusiasts',\n",
       "  'who',\n",
       "  'may',\n",
       "  'have',\n",
       "  'grown',\n",
       "  'gluing',\n",
       "  'together',\n",
       "  'the',\n",
       "  'amt',\n",
       "  'model',\n",
       "  'kit',\n",
       "  'that',\n",
       "  'inspired',\n",
       "  'the',\n",
       "  'models',\n",
       "  'stand',\n",
       "  'today',\n",
       "  'some',\n",
       "  'the',\n",
       "  'most',\n",
       "  'iconic',\n",
       "  'instantly',\n",
       "  'recognizable',\n",
       "  'automobiles',\n",
       "  'that',\n",
       "  'the',\n",
       "  'ford',\n",
       "  'motor',\n",
       "  'company',\n",
       "  'ever',\n",
       "  'produced'],\n",
       " ['that',\n",
       "  'year',\n",
       "  'fords',\n",
       "  'were',\n",
       "  'produced',\n",
       "  'two',\n",
       "  'series',\n",
       "  'standard',\n",
       "  'and',\n",
       "  'deluxe'],\n",
       " ['the',\n",
       "  'easiest',\n",
       "  'way',\n",
       "  'tell',\n",
       "  'them',\n",
       "  'apart',\n",
       "  'look',\n",
       "  'for',\n",
       "  'cleaner',\n",
       "  'one',\n",
       "  'piece',\n",
       "  'grille',\n",
       "  'standard',\n",
       "  'models',\n",
       "  'while',\n",
       "  'the',\n",
       "  'deluxe',\n",
       "  'version',\n",
       "  'has',\n",
       "  'three',\n",
       "  'piece',\n",
       "  'grille',\n",
       "  'assembly'],\n",
       " ['both',\n",
       "  'cars',\n",
       "  'also',\n",
       "  'had',\n",
       "  'slightly',\n",
       "  'different',\n",
       "  'pieces',\n",
       "  'hood',\n",
       "  'trim'],\n",
       " ['this',\n",
       "  'ford',\n",
       "  'standard',\n",
       "  'tudor',\n",
       "  'sedan',\n",
       "  'was',\n",
       "  'very',\n",
       "  'popular',\n",
       "  'model',\n",
       "  'that',\n",
       "  'year',\n",
       "  'around',\n",
       "  'them',\n",
       "  'were',\n",
       "  'built',\n",
       "  'and',\n",
       "  'sold'],\n",
       " ['this',\n",
       "  'standard',\n",
       "  'has',\n",
       "  'been',\n",
       "  'under',\n",
       "  'the',\n",
       "  'same',\n",
       "  'california',\n",
       "  'ownership',\n",
       "  'since',\n",
       "  'after',\n",
       "  'the',\n",
       "  'seller',\n",
       "  'bought',\n",
       "  'from',\n",
       "  'owner',\n",
       "  'texas'],\n",
       " ['the',\n",
       "  'seller',\n",
       "  'describes',\n",
       "  'the',\n",
       "  'car',\n",
       "  'being',\n",
       "  'entirely',\n",
       "  'original',\n",
       "  'though',\n",
       "  'the',\n",
       "  'age',\n",
       "  'the',\n",
       "  'finish',\n",
       "  'and',\n",
       "  'status',\n",
       "  'any',\n",
       "  'restoration',\n",
       "  'refresh',\n",
       "  'are',\n",
       "  'unknown']]"
      ]
     },
     "execution_count": 56,
     "metadata": {},
     "output_type": "execute_result"
    }
   ],
   "source": [
    "texts"
   ]
  },
  {
   "cell_type": "code",
   "execution_count": 57,
   "metadata": {},
   "outputs": [],
   "source": [
    "bigram = gensim.models.Phrases(list_of_simple_preprocess_data) "
   ]
  },
  {
   "cell_type": "code",
   "execution_count": 9,
   "metadata": {},
   "outputs": [
    {
     "data": {
      "text/plain": [
       "<gensim.models.phrases.Phrases at 0x7ffb13d92990>"
      ]
     },
     "execution_count": 9,
     "metadata": {},
     "output_type": "execute_result"
    }
   ],
   "source": [
    "bigram"
   ]
  },
  {
   "cell_type": "code",
   "execution_count": 58,
   "metadata": {},
   "outputs": [],
   "source": [
    "from gensim.utils import lemmatize\n",
    "from nltk.corpus import stopwords"
   ]
  },
  {
   "cell_type": "code",
   "execution_count": 59,
   "metadata": {},
   "outputs": [],
   "source": [
    "stops = set(stopwords.words('english')) "
   ]
  },
  {
   "cell_type": "code",
   "execution_count": 60,
   "metadata": {},
   "outputs": [],
   "source": [
    "def process_texts(texts):\n",
    "    texts = [[word for word in line if word not in stops] for line in texts]\n",
    "    texts = [bigram[line] for line in texts]\n",
    "    texts = [[word.decode(\"utf-8\").split('/')[0] for word in lemmatize(' '.join(line), allowed_tags=re.compile('(NN)'), min_length=5)] for line in texts]\n",
    "    return texts"
   ]
  },
  {
   "cell_type": "code",
   "execution_count": 61,
   "metadata": {},
   "outputs": [],
   "source": [
    "import re\n",
    "train_texts = process_texts(list_of_simple_preprocess_data)"
   ]
  },
  {
   "cell_type": "code",
   "execution_count": 62,
   "metadata": {},
   "outputs": [],
   "source": [
    "from gensim.models import LdaModel\n",
    "from gensim.models.wrappers import LdaMallet\n",
    "from gensim.corpora import Dictionary"
   ]
  },
  {
   "cell_type": "code",
   "execution_count": 63,
   "metadata": {},
   "outputs": [
    {
     "data": {
      "text/plain": [
       "[['desire',\n",
       "  'enthusiast',\n",
       "  'model',\n",
       "  'model',\n",
       "  'today',\n",
       "  'iconic',\n",
       "  'automobile',\n",
       "  'motor',\n",
       "  'company'],\n",
       " ['series', 'standard'],\n",
       " ['piece',\n",
       "  'grille',\n",
       "  'standard',\n",
       "  'model',\n",
       "  'version',\n",
       "  'piece',\n",
       "  'grille',\n",
       "  'assembly'],\n",
       " ['piece'],\n",
       " ['standard', 'tudor', 'sedan', 'model'],\n",
       " ['standard', 'california', 'ownership', 'seller', 'owner', 'texas'],\n",
       " ['seller', 'though', 'status', 'restoration']]"
      ]
     },
     "execution_count": 63,
     "metadata": {},
     "output_type": "execute_result"
    }
   ],
   "source": [
    "train_texts"
   ]
  },
  {
   "cell_type": "code",
   "execution_count": 67,
   "metadata": {},
   "outputs": [],
   "source": [
    "#dictionary = Dictionary(train_texts)\n",
    "corpus = [dictionary.doc2bow(text) for text in train_texts]"
   ]
  },
  {
   "cell_type": "code",
   "execution_count": 66,
   "metadata": {},
   "outputs": [
    {
     "name": "stdout",
     "output_type": "stream",
     "text": [
      "Dictionary(24 unique tokens: ['automobile', 'company', 'desire', 'enthusiast', 'iconic']...)\n"
     ]
    }
   ],
   "source": [
    "print(dictionary)"
   ]
  },
  {
   "cell_type": "code",
   "execution_count": 46,
   "metadata": {},
   "outputs": [
    {
     "name": "stdout",
     "output_type": "stream",
     "text": [
      "[[(0, 1), (1, 1), (2, 1), (3, 1), (4, 1), (5, 2), (6, 1), (7, 1)], [(8, 1), (9, 1)], [(5, 1), (9, 1), (10, 1), (11, 2), (12, 2), (13, 1)], [(12, 1)], [(5, 1), (9, 1), (14, 1), (15, 1)], [(9, 1), (16, 1), (17, 1), (18, 1), (19, 1), (20, 1)], [(19, 1), (21, 1), (22, 1), (23, 1)]]\n"
     ]
    }
   ],
   "source": [
    "print(corpus)"
   ]
  },
  {
   "cell_type": "code",
   "execution_count": 68,
   "metadata": {},
   "outputs": [],
   "source": [
    "ldamodel = LdaModel(corpus=corpus, num_topics=2, id2word=dictionary)"
   ]
  },
  {
   "cell_type": "code",
   "execution_count": 69,
   "metadata": {},
   "outputs": [
    {
     "data": {
      "text/plain": [
       "[(0,\n",
       "  '0.120*\"model\" + 0.094*\"standard\" + 0.086*\"piece\" + 0.070*\"grille\" + 0.042*\"iconic\" + 0.041*\"version\" + 0.041*\"company\" + 0.041*\"assembly\" + 0.041*\"today\" + 0.041*\"automobile\"'),\n",
       " (1,\n",
       "  '0.098*\"seller\" + 0.074*\"standard\" + 0.061*\"texas\" + 0.061*\"california\" + 0.061*\"ownership\" + 0.060*\"owner\" + 0.058*\"restoration\" + 0.057*\"though\" + 0.056*\"status\" + 0.043*\"piece\"')]"
      ]
     },
     "execution_count": 69,
     "metadata": {},
     "output_type": "execute_result"
    }
   ],
   "source": [
    "ldamodel.show_topics()"
   ]
  },
  {
   "cell_type": "code",
   "execution_count": 70,
   "metadata": {},
   "outputs": [],
   "source": [
    "import pyLDAvis.gensim\n",
    "pyLDAvis.enable_notebook()"
   ]
  },
  {
   "cell_type": "code",
   "execution_count": 71,
   "metadata": {},
   "outputs": [
    {
     "name": "stderr",
     "output_type": "stream",
     "text": [
      "/home/akshay/anaconda3/lib/python3.7/site-packages/pyLDAvis/_prepare.py:257: FutureWarning: Sorting because non-concatenation axis is not aligned. A future version\n",
      "of pandas will change to not sort by default.\n",
      "\n",
      "To accept the future behavior, pass 'sort=False'.\n",
      "\n",
      "To retain the current behavior and silence the warning, pass 'sort=True'.\n",
      "\n",
      "  return pd.concat([default_term_info] + list(topic_dfs))\n"
     ]
    },
    {
     "data": {
      "text/html": [
       "\n",
       "<link rel=\"stylesheet\" type=\"text/css\" href=\"https://cdn.rawgit.com/bmabey/pyLDAvis/files/ldavis.v1.0.0.css\">\n",
       "\n",
       "\n",
       "<div id=\"ldavis_el34971402066321663524432150092\"></div>\n",
       "<script type=\"text/javascript\">\n",
       "\n",
       "var ldavis_el34971402066321663524432150092_data = {\"mdsDat\": {\"x\": [0.04328002035617828, -0.04328002035617828], \"y\": [0.0, 0.0], \"topics\": [1, 2], \"cluster\": [1, 1], \"Freq\": [66.88907623291016, 33.11091995239258]}, \"tinfo\": {\"Category\": [\"Default\", \"Default\", \"Default\", \"Default\", \"Default\", \"Default\", \"Default\", \"Default\", \"Default\", \"Default\", \"Default\", \"Default\", \"Default\", \"Default\", \"Default\", \"Default\", \"Default\", \"Default\", \"Default\", \"Default\", \"Default\", \"Default\", \"Default\", \"Default\", \"Topic1\", \"Topic1\", \"Topic1\", \"Topic1\", \"Topic1\", \"Topic1\", \"Topic1\", \"Topic1\", \"Topic1\", \"Topic1\", \"Topic1\", \"Topic1\", \"Topic1\", \"Topic1\", \"Topic1\", \"Topic1\", \"Topic1\", \"Topic1\", \"Topic1\", \"Topic1\", \"Topic1\", \"Topic1\", \"Topic1\", \"Topic1\", \"Topic2\", \"Topic2\", \"Topic2\", \"Topic2\", \"Topic2\", \"Topic2\", \"Topic2\", \"Topic2\", \"Topic2\", \"Topic2\", \"Topic2\", \"Topic2\", \"Topic2\", \"Topic2\", \"Topic2\", \"Topic2\", \"Topic2\", \"Topic2\", \"Topic2\", \"Topic2\", \"Topic2\", \"Topic2\", \"Topic2\", \"Topic2\"], \"Freq\": [1.0, 1.0, 1.0, 1.0, 1.0, 1.0, 1.0, 1.0, 3.0, 2.0, 1.0, 1.0, 1.0, 1.0, 1.0, 1.0, 1.0, 1.0, 1.0, 1.0, 1.0, 1.0, 1.0, 2.0, 2.737298011779785, 1.5852739810943604, 1.9670501947402954, 0.9449020624160767, 0.9357979893684387, 0.9351913928985596, 0.9331285953521729, 0.9306173324584961, 0.9293241500854492, 0.9278714060783386, 0.9195016026496887, 0.919291079044342, 0.8984209299087524, 0.87455153465271, 2.147171974182129, 0.8341243267059326, 0.45653533935546875, 0.4426163136959076, 0.42630255222320557, 0.39804935455322266, 0.38521718978881836, 0.37771883606910706, 0.37467536330223083, 0.46165311336517334, 1.1076079607009888, 0.689227819442749, 0.6869904398918152, 0.6814790368080139, 0.6720470786094666, 0.6512790322303772, 0.639288067817688, 0.6290568709373474, 0.351513147354126, 0.8333052396774292, 0.32179737091064453, 0.30425310134887695, 0.28891196846961975, 0.2887570559978485, 0.28260543942451477, 0.28153812885284424, 0.2805870771408081, 0.2787402868270874, 0.2772247791290283, 0.27677831053733826, 0.2700875401496887, 0.48339271545410156, 0.2817012667655945, 0.39954233169555664], \"Term\": [\"seller\", \"texas\", \"california\", \"ownership\", \"owner\", \"restoration\", \"though\", \"status\", \"model\", \"standard\", \"tudor\", \"series\", \"grille\", \"sedan\", \"motor\", \"enthusiast\", \"desire\", \"automobile\", \"today\", \"assembly\", \"company\", \"version\", \"iconic\", \"piece\", \"model\", \"grille\", \"piece\", \"iconic\", \"version\", \"company\", \"assembly\", \"today\", \"automobile\", \"desire\", \"enthusiast\", \"motor\", \"sedan\", \"series\", \"standard\", \"tudor\", \"status\", \"though\", \"restoration\", \"owner\", \"ownership\", \"california\", \"texas\", \"seller\", \"seller\", \"texas\", \"california\", \"ownership\", \"owner\", \"restoration\", \"though\", \"status\", \"tudor\", \"standard\", \"series\", \"sedan\", \"motor\", \"enthusiast\", \"desire\", \"automobile\", \"today\", \"assembly\", \"company\", \"version\", \"iconic\", \"piece\", \"grille\", \"model\"], \"Total\": [1.0, 1.0, 1.0, 1.0, 1.0, 1.0, 1.0, 1.0, 3.0, 2.0, 1.0, 1.0, 1.0, 1.0, 1.0, 1.0, 1.0, 1.0, 1.0, 1.0, 1.0, 1.0, 1.0, 2.0, 3.136840343475342, 1.8669753074645996, 2.4504427909851074, 1.2149896621704102, 1.2125762701034546, 1.212416172027588, 1.2118688821792603, 1.2112044095993042, 1.2108622789382935, 1.2104768753051758, 1.2082586288452148, 1.2082030773162842, 1.2026740312576294, 1.1963489055633545, 2.9804773330688477, 1.1856374740600586, 1.085592269897461, 1.081904411315918, 1.0775816440582275, 1.070096492767334, 1.0666961669921875, 1.0647093057632446, 1.0639032125473022, 1.569261074066162, 1.569261074066162, 1.0639032125473022, 1.0647093057632446, 1.0666961669921875, 1.070096492767334, 1.0775816440582275, 1.081904411315918, 1.085592269897461, 1.1856374740600586, 2.9804773330688477, 1.1963489055633545, 1.2026740312576294, 1.2082030773162842, 1.2082586288452148, 1.2104768753051758, 1.2108622789382935, 1.2112044095993042, 1.2118688821792603, 1.212416172027588, 1.2125762701034546, 1.2149896621704102, 2.4504427909851074, 1.8669753074645996, 3.136840343475342], \"loglift\": [24.0, 23.0, 22.0, 21.0, 20.0, 19.0, 18.0, 17.0, 16.0, 15.0, 14.0, 13.0, 12.0, 11.0, 10.0, 9.0, 8.0, 7.0, 6.0, 5.0, 4.0, 3.0, 2.0, 1.0, 0.26589998602867126, 0.2386000007390976, 0.18240000307559967, 0.15070000290870667, 0.14300000667572021, 0.14249999821186066, 0.14079999923706055, 0.13860000669956207, 0.13750000298023224, 0.1362999975681305, 0.1289999932050705, 0.12880000472068787, 0.11050000041723251, 0.08879999816417694, 0.07419999688863754, 0.05050000175833702, -0.4641000032424927, -0.49160000681877136, -0.5252000093460083, -0.5867999792098999, -0.6164000034332275, -0.6341999769210815, -0.6414999961853027, -0.821399986743927, 0.7569000124931335, 0.6711999773979187, 0.6672000288963318, 0.6572999954223633, 0.6401000022888184, 0.6018000245094299, 0.579200029373169, 0.5595999956130981, -0.11050000041723251, -0.16910000145435333, -0.2078000009059906, -0.26910001039505005, -0.3255000114440918, -0.32600000500679016, -0.34940001368522644, -0.35350000858306885, -0.3571999967098236, -0.364300012588501, -0.3702000081539154, -0.3720000088214874, -0.3984000086784363, -0.5178999900817871, -0.7858999967575073, -0.955299973487854], \"logprob\": [24.0, 23.0, 22.0, 21.0, 20.0, 19.0, 18.0, 17.0, 16.0, 15.0, 14.0, 13.0, 12.0, 11.0, 10.0, 9.0, 8.0, 7.0, 6.0, 5.0, 4.0, 3.0, 2.0, 1.0, -2.117300033569336, -2.6635000705718994, -2.447700023651123, -3.1809000968933105, -3.1905999183654785, -3.191200017929077, -3.1933999061584473, -3.1960999965667725, -3.197499990463257, -3.1991000175476074, -3.2081000804901123, -3.208400011062622, -3.231300115585327, -3.2583000659942627, -2.360100030899048, -3.3055999279022217, -3.9082999229431152, -3.939300060272217, -3.976799964904785, -4.045400142669678, -4.078199863433838, -4.097799777984619, -4.105899810791016, -3.897200107574463, -2.3189001083374023, -2.7932000160217285, -2.7964999675750732, -2.804500102996826, -2.81850004196167, -2.849900007247925, -2.868499994277954, -2.8845999240875244, -3.466599941253662, -2.6033999919891357, -3.5548999309539795, -3.6108999252319336, -3.6626999378204346, -3.6631999015808105, -3.684799909591675, -3.688499927520752, -3.6919000148773193, -3.698499917984009, -3.7039999961853027, -3.7056000232696533, -3.73009991645813, -3.1480000019073486, -3.687999963760376, -3.3385000228881836]}, \"token.table\": {\"Topic\": [1, 1, 2, 1, 1, 1, 1, 1, 1, 1, 2, 2, 1, 2, 1, 2, 1, 1, 2, 2, 2, 2, 1, 1, 1], \"Freq\": [0.8251717686653137, 0.8258577585220337, 0.9392235279083252, 0.8247992992401123, 0.8261206746101379, 0.8276373744010925, 1.071251392364502, 0.8230522871017456, 0.9563763737678528, 0.8276754021644592, 0.9344951510429382, 0.9374740719795227, 0.8161790370941162, 0.9280039072036743, 0.8314805030822754, 0.6372426152229309, 0.8358765244483948, 0.6710334420204163, 0.33551672101020813, 0.9211561679840088, 0.9399351477622986, 0.9242960810661316, 0.8256244659423828, 0.8434281349182129, 0.8246904015541077], \"Term\": [\"assembly\", \"automobile\", \"california\", \"company\", \"desire\", \"enthusiast\", \"grille\", \"iconic\", \"model\", \"motor\", \"owner\", \"ownership\", \"piece\", \"restoration\", \"sedan\", \"seller\", \"series\", \"standard\", \"standard\", \"status\", \"texas\", \"though\", \"today\", \"tudor\", \"version\"]}, \"R\": 24, \"lambda.step\": 0.01, \"plot.opts\": {\"xlab\": \"PC1\", \"ylab\": \"PC2\"}, \"topic.order\": [1, 2]};\n",
       "\n",
       "function LDAvis_load_lib(url, callback){\n",
       "  var s = document.createElement('script');\n",
       "  s.src = url;\n",
       "  s.async = true;\n",
       "  s.onreadystatechange = s.onload = callback;\n",
       "  s.onerror = function(){console.warn(\"failed to load library \" + url);};\n",
       "  document.getElementsByTagName(\"head\")[0].appendChild(s);\n",
       "}\n",
       "\n",
       "if(typeof(LDAvis) !== \"undefined\"){\n",
       "   // already loaded: just create the visualization\n",
       "   !function(LDAvis){\n",
       "       new LDAvis(\"#\" + \"ldavis_el34971402066321663524432150092\", ldavis_el34971402066321663524432150092_data);\n",
       "   }(LDAvis);\n",
       "}else if(typeof define === \"function\" && define.amd){\n",
       "   // require.js is available: use it to load d3/LDAvis\n",
       "   require.config({paths: {d3: \"https://cdnjs.cloudflare.com/ajax/libs/d3/3.5.5/d3.min\"}});\n",
       "   require([\"d3\"], function(d3){\n",
       "      window.d3 = d3;\n",
       "      LDAvis_load_lib(\"https://cdn.rawgit.com/bmabey/pyLDAvis/files/ldavis.v1.0.0.js\", function(){\n",
       "        new LDAvis(\"#\" + \"ldavis_el34971402066321663524432150092\", ldavis_el34971402066321663524432150092_data);\n",
       "      });\n",
       "    });\n",
       "}else{\n",
       "    // require.js not available: dynamically load d3 & LDAvis\n",
       "    LDAvis_load_lib(\"https://cdnjs.cloudflare.com/ajax/libs/d3/3.5.5/d3.min.js\", function(){\n",
       "         LDAvis_load_lib(\"https://cdn.rawgit.com/bmabey/pyLDAvis/files/ldavis.v1.0.0.js\", function(){\n",
       "                 new LDAvis(\"#\" + \"ldavis_el34971402066321663524432150092\", ldavis_el34971402066321663524432150092_data);\n",
       "            })\n",
       "         });\n",
       "}\n",
       "</script>"
      ],
      "text/plain": [
       "PreparedData(topic_coordinates=             x    y  topics  cluster       Freq\n",
       "topic                                          \n",
       "0      0.04328  0.0       1        1  66.889076\n",
       "1     -0.04328  0.0       2        1  33.110920, topic_info=   Category      Freq        Term     Total  loglift  logprob\n",
       "19  Default  1.000000      seller  1.000000  24.0000  24.0000\n",
       "20  Default  1.000000       texas  1.000000  23.0000  23.0000\n",
       "16  Default  1.000000  california  1.000000  22.0000  22.0000\n",
       "18  Default  1.000000   ownership  1.000000  21.0000  21.0000\n",
       "17  Default  1.000000       owner  1.000000  20.0000  20.0000\n",
       "..      ...       ...         ...       ...      ...      ...\n",
       "13   Topic2  0.276778     version  1.212576  -0.3720  -3.7056\n",
       "4    Topic2  0.270088      iconic  1.214990  -0.3984  -3.7301\n",
       "12   Topic2  0.483393       piece  2.450443  -0.5179  -3.1480\n",
       "11   Topic2  0.281701      grille  1.866975  -0.7859  -3.6880\n",
       "5    Topic2  0.399542       model  3.136840  -0.9553  -3.3385\n",
       "\n",
       "[72 rows x 6 columns], token_table=      Topic      Freq         Term\n",
       "term                              \n",
       "10        1  0.825172     assembly\n",
       "0         1  0.825858   automobile\n",
       "16        2  0.939224   california\n",
       "1         1  0.824799      company\n",
       "2         1  0.826121       desire\n",
       "3         1  0.827637   enthusiast\n",
       "11        1  1.071251       grille\n",
       "4         1  0.823052       iconic\n",
       "5         1  0.956376        model\n",
       "6         1  0.827675        motor\n",
       "17        2  0.934495        owner\n",
       "18        2  0.937474    ownership\n",
       "12        1  0.816179        piece\n",
       "21        2  0.928004  restoration\n",
       "14        1  0.831481        sedan\n",
       "19        2  0.637243       seller\n",
       "8         1  0.835877       series\n",
       "9         1  0.671033     standard\n",
       "9         2  0.335517     standard\n",
       "22        2  0.921156       status\n",
       "20        2  0.939935        texas\n",
       "23        2  0.924296       though\n",
       "7         1  0.825624        today\n",
       "15        1  0.843428        tudor\n",
       "13        1  0.824690      version, R=24, lambda_step=0.01, plot_opts={'xlab': 'PC1', 'ylab': 'PC2'}, topic_order=[1, 2])"
      ]
     },
     "execution_count": 71,
     "metadata": {},
     "output_type": "execute_result"
    }
   ],
   "source": [
    "pyLDAvis.gensim.prepare(ldamodel, corpus, dictionary)"
   ]
  }
 ],
 "metadata": {
  "kernelspec": {
   "display_name": "Python 3",
   "language": "python",
   "name": "python3"
  },
  "language_info": {
   "codemirror_mode": {
    "name": "ipython",
    "version": 3
   },
   "file_extension": ".py",
   "mimetype": "text/x-python",
   "name": "python",
   "nbconvert_exporter": "python",
   "pygments_lexer": "ipython3",
   "version": "3.7.4"
  }
 },
 "nbformat": 4,
 "nbformat_minor": 2
}
