{
  "cells": [
    {
      "cell_type": "code",
      "execution_count": null,
      "metadata": {
        "id": "oAE9MovFeo4W"
      },
      "outputs": [],
      "source": [
        "!pip -q install langchain huggingface_hub openai google-search-results tiktoken chromadb rank_bm25 faiss-cpu"
      ]
    },
    {
      "cell_type": "code",
      "execution_count": null,
      "metadata": {
        "id": "B5OdVzYxexle"
      },
      "outputs": [],
      "source": [
        "import os\n",
        "from google.colab import userdata\n",
        "os.environ[\"OPENAI_API_KEY\"] = userdata.get(\"open_ai_api_key\")"
      ]
    },
    {
      "cell_type": "code",
      "source": [
        "!pip show langchain"
      ],
      "metadata": {
        "colab": {
          "base_uri": "https://localhost:8080/"
        },
        "id": "C0TYEF1HgKbf",
        "outputId": "6de6001b-06ca-41b1-d819-c0af16c98435"
      },
      "execution_count": null,
      "outputs": [
        {
          "output_type": "stream",
          "name": "stdout",
          "text": [
            "Name: langchain\n",
            "Version: 0.1.14\n",
            "Summary: Building applications with LLMs through composability\n",
            "Home-page: https://github.com/langchain-ai/langchain\n",
            "Author: \n",
            "Author-email: \n",
            "License: MIT\n",
            "Location: /usr/local/lib/python3.10/dist-packages\n",
            "Requires: aiohttp, async-timeout, dataclasses-json, jsonpatch, langchain-community, langchain-core, langchain-text-splitters, langsmith, numpy, pydantic, PyYAML, requests, SQLAlchemy, tenacity\n",
            "Required-by: \n"
          ]
        }
      ]
    },
    {
      "cell_type": "code",
      "source": [
        "from langchain import retrievers"
      ],
      "metadata": {
        "id": "eQO152wZcZ_E"
      },
      "execution_count": null,
      "outputs": []
    },
    {
      "cell_type": "code",
      "source": [
        "dir(retrievers)"
      ],
      "metadata": {
        "colab": {
          "base_uri": "https://localhost:8080/"
        },
        "id": "yBvB7pv5cevZ",
        "outputId": "0e3db6de-9f42-41a9-b2db-8f89adf116f0"
      },
      "execution_count": null,
      "outputs": [
        {
          "output_type": "execute_result",
          "data": {
            "text/plain": [
              "['Any',\n",
              " 'ContextualCompressionRetriever',\n",
              " 'EnsembleRetriever',\n",
              " 'LangChainDeprecationWarning',\n",
              " 'MergerRetriever',\n",
              " 'MultiQueryRetriever',\n",
              " 'MultiVectorRetriever',\n",
              " 'OutlineRetriever',\n",
              " 'ParentDocumentRetriever',\n",
              " 'RePhraseQueryRetriever',\n",
              " 'SelfQueryRetriever',\n",
              " 'TimeWeightedVectorStoreRetriever',\n",
              " 'WebResearchRetriever',\n",
              " '__all__',\n",
              " '__builtins__',\n",
              " '__cached__',\n",
              " '__doc__',\n",
              " '__file__',\n",
              " '__getattr__',\n",
              " '__loader__',\n",
              " '__name__',\n",
              " '__package__',\n",
              " '__path__',\n",
              " '__spec__',\n",
              " 'contextual_compression',\n",
              " 'document_compressors',\n",
              " 'ensemble',\n",
              " 'is_interactive_env',\n",
              " 'merger_retriever',\n",
              " 'multi_query',\n",
              " 'multi_vector',\n",
              " 'outline',\n",
              " 'parent_document_retriever',\n",
              " 're_phraser',\n",
              " 'self_query',\n",
              " 'time_weighted_retriever',\n",
              " 'warnings',\n",
              " 'web_research']"
            ]
          },
          "metadata": {},
          "execution_count": 23
        }
      ]
    },
    {
      "cell_type": "code",
      "source": [
        "from langchain.retrievers import BM25Retriever, EnsembleRetriever\n",
        "from langchain.schema import Document\n",
        "\n",
        "from langchain.vectorstores import Chroma\n",
        "\n",
        "from langchain.embeddings.openai import OpenAIEmbeddings\n",
        "embedding = OpenAIEmbeddings()"
      ],
      "metadata": {
        "id": "dWkse6ZagNAN"
      },
      "execution_count": null,
      "outputs": []
    },
    {
      "cell_type": "code",
      "source": [
        "doc_list = [\n",
        "    \"My favourite sports is Cricket\",\n",
        "    \"My favourite player is MS Dhoni\",\n",
        "    \"MS Dhoni is an invester too.\",\n",
        "    \"Football is the most popular sports\",\n",
        "    \"Hockey is the national sports of India\"\n",
        "]"
      ],
      "metadata": {
        "id": "2Khvj_jNgV2l"
      },
      "execution_count": null,
      "outputs": []
    },
    {
      "cell_type": "markdown",
      "source": [
        "#BM25 Retriever"
      ],
      "metadata": {
        "id": "C_BWtpfQhL9k"
      }
    },
    {
      "cell_type": "code",
      "source": [
        "# initialize the bm25 retriever and faiss retriever\n",
        "bm25_retriever = BM25Retriever.from_texts(doc_list)\n",
        "bm25_retriever.k = 2"
      ],
      "metadata": {
        "id": "hi1lLn3KgpTQ"
      },
      "execution_count": null,
      "outputs": []
    },
    {
      "cell_type": "code",
      "source": [
        "bm25_retriever.get_relevant_documents(\"Sports\")"
      ],
      "metadata": {
        "colab": {
          "base_uri": "https://localhost:8080/"
        },
        "id": "k_sl4MFSgrU5",
        "outputId": "aff0b39f-72ed-49f1-f0bf-f53d926dc10d"
      },
      "execution_count": null,
      "outputs": [
        {
          "output_type": "execute_result",
          "data": {
            "text/plain": [
              "[Document(page_content='Hockey is the national sports of India'),\n",
              " Document(page_content='Football is the most popular sports')]"
            ]
          },
          "metadata": {},
          "execution_count": 34
        }
      ]
    },
    {
      "cell_type": "code",
      "source": [
        "bm25_retriever.get_relevant_documents(\"MS Dhoni\")"
      ],
      "metadata": {
        "colab": {
          "base_uri": "https://localhost:8080/"
        },
        "id": "bU1HYpbOgwM4",
        "outputId": "a2ded740-dca9-4f4f-dcfc-c18641d67442"
      },
      "execution_count": null,
      "outputs": [
        {
          "output_type": "execute_result",
          "data": {
            "text/plain": [
              "[Document(page_content='MS Dhoni is an invester too.'),\n",
              " Document(page_content='My favourite player is MS Dhoni')]"
            ]
          },
          "metadata": {},
          "execution_count": 35
        }
      ]
    },
    {
      "cell_type": "markdown",
      "source": [
        "![image.png](data:image/png;base64,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)"
      ],
      "metadata": {
        "id": "JLmvad3diCkn"
      }
    },
    {
      "cell_type": "markdown",
      "source": [
        "#Chroma Retreiver"
      ],
      "metadata": {
        "id": "u6o5Df6ehGs6"
      }
    },
    {
      "cell_type": "code",
      "source": [
        "chroma_vectorstore = Chroma.from_texts(doc_list, embedding)\n",
        "chroma_retriever = chroma_vectorstore.as_retriever(search_kwargs={\"k\": 2})"
      ],
      "metadata": {
        "id": "0F3FgS7Pd45T"
      },
      "execution_count": null,
      "outputs": []
    },
    {
      "cell_type": "code",
      "source": [
        "chroma_retriever.get_relevant_documents(\"Sports\")"
      ],
      "metadata": {
        "colab": {
          "base_uri": "https://localhost:8080/"
        },
        "id": "LemLktJjg4FO",
        "outputId": "46779462-7e64-4f00-dce5-5f94d52627f3"
      },
      "execution_count": null,
      "outputs": [
        {
          "output_type": "execute_result",
          "data": {
            "text/plain": [
              "[Document(page_content='Football is the most popular sports'),\n",
              " Document(page_content='My favourite sports is Cricket')]"
            ]
          },
          "metadata": {},
          "execution_count": 36
        }
      ]
    },
    {
      "cell_type": "markdown",
      "source": [
        "#Ensemble Retriever"
      ],
      "metadata": {
        "id": "Y0GhmmZbhCQS"
      }
    },
    {
      "cell_type": "code",
      "source": [
        "# initialize the ensemble retriever\n",
        "ensemble_retriever = EnsembleRetriever(retrievers=[bm25_retriever, chroma_retriever],\n",
        "                                       weights=[0.5, 0.5])"
      ],
      "metadata": {
        "id": "B2QILHsTg5_W"
      },
      "execution_count": null,
      "outputs": []
    },
    {
      "cell_type": "code",
      "source": [
        "docs = ensemble_retriever.get_relevant_documents(\"Sports\")\n",
        "docs"
      ],
      "metadata": {
        "colab": {
          "base_uri": "https://localhost:8080/"
        },
        "id": "txAVlW3lg9ik",
        "outputId": "4cedcf3e-de99-445f-ee20-4ddf061bf8ac"
      },
      "execution_count": null,
      "outputs": [
        {
          "output_type": "execute_result",
          "data": {
            "text/plain": [
              "[Document(page_content='Football is the most popular sports'),\n",
              " Document(page_content='Hockey is the national sports of India'),\n",
              " Document(page_content='My favourite sports is Cricket')]"
            ]
          },
          "metadata": {},
          "execution_count": 37
        }
      ]
    },
    {
      "cell_type": "code",
      "source": [
        "docs = ensemble_retriever.get_relevant_documents(\"MS Dhoni\")\n",
        "docs"
      ],
      "metadata": {
        "colab": {
          "base_uri": "https://localhost:8080/"
        },
        "id": "MeMx0tE5g_eM",
        "outputId": "28566aa9-de5c-4c1b-844b-fda62d6aa456"
      },
      "execution_count": null,
      "outputs": [
        {
          "output_type": "execute_result",
          "data": {
            "text/plain": [
              "[Document(page_content='MS Dhoni is an invester too.'),\n",
              " Document(page_content='My favourite player is MS Dhoni')]"
            ]
          },
          "metadata": {},
          "execution_count": 38
        }
      ]
    }
  ],
  "metadata": {
    "colab": {
      "provenance": []
    },
    "kernelspec": {
      "display_name": "Python 3",
      "name": "python3"
    },
    "language_info": {
      "name": "python"
    }
  },
  "nbformat": 4,
  "nbformat_minor": 0
}