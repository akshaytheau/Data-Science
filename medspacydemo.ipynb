{
 "cells": [
  {
   "cell_type": "markdown",
   "id": "7c58cc64",
   "metadata": {},
   "source": [
    "<b>Clinical NLP</b> is a specialization of NLP that allows computers to understand the rich meaning that lies behind a doctor’s written analysis of a patient.\n",
    "\n",
    "Normal NLP engines use large corpora of text, usually books or other written documents, to determine how language is structured and how grammar is formed."
   ]
  },
  {
   "cell_type": "markdown",
   "id": "ca8b9bde",
   "metadata": {},
   "source": [
    "<b>Entity extraction</b>: to surface relevant clinical concepts from unstructured data.\n",
    "\n",
    "<b>Contextualization</b>: to decipher the doctor’s meaning when they mention a concept. For example, when doctors deny a patient has a condition or talk about a patient’s history.\n",
    "\n",
    "<b>Knowledge graph</b>: to understand how clinical concepts are interrelated, like the fact that both fentanyl and hydrocodone are opiates."
   ]
  },
  {
   "cell_type": "code",
   "execution_count": 2,
   "id": "2433023c",
   "metadata": {},
   "outputs": [
    {
     "name": "stdout",
     "output_type": "stream",
     "text": [
      "Collecting medspacy\n",
      "  Using cached medspacy-1.0.0-py3-none-any.whl (146 kB)\n",
      "Requirement already satisfied: jsonschema in /Users/ark/opt/anaconda3/lib/python3.9/site-packages (from medspacy) (4.16.0)\n",
      "Collecting PyRuSH>=1.0.6\n",
      "  Using cached PyRuSH-1.0.8-cp39-cp39-macosx_10_9_x86_64.whl (63 kB)\n",
      "Collecting pysbd==0.3.4\n",
      "  Using cached pysbd-0.3.4-py3-none-any.whl (71 kB)\n",
      "Collecting medspacy-quickumls==2.6\n",
      "  Using cached medspacy_quickumls-2.6-py3-none-any.whl (31 kB)\n",
      "Collecting spacy>=3.4.1\n",
      "  Using cached spacy-3.4.2-cp39-cp39-macosx_10_9_x86_64.whl (6.7 MB)\n",
      "Requirement already satisfied: numpy>=1.8.2 in /Users/ark/opt/anaconda3/lib/python3.9/site-packages (from medspacy-quickumls==2.6->medspacy) (1.21.5)\n",
      "Collecting leveldb>=0.193\n",
      "  Using cached leveldb-0.201.tar.gz (236 kB)\n",
      "  Preparing metadata (setup.py) ... \u001b[?25ldone\n",
      "\u001b[?25hRequirement already satisfied: pytest>=6 in /Users/ark/opt/anaconda3/lib/python3.9/site-packages (from medspacy-quickumls==2.6->medspacy) (7.1.2)\n",
      "Requirement already satisfied: nltk>=3.3 in /Users/ark/opt/anaconda3/lib/python3.9/site-packages (from medspacy-quickumls==2.6->medspacy) (3.7)\n",
      "Collecting unqlite>=0.8.1\n",
      "  Using cached unqlite-0.9.3.tar.gz (575 kB)\n",
      "  Preparing metadata (setup.py) ... \u001b[?25ldone\n",
      "\u001b[?25hRequirement already satisfied: unidecode>=0.4.19 in /Users/ark/opt/anaconda3/lib/python3.9/site-packages (from medspacy-quickumls==2.6->medspacy) (1.2.0)\n",
      "Requirement already satisfied: six in /Users/ark/opt/anaconda3/lib/python3.9/site-packages (from medspacy-quickumls==2.6->medspacy) (1.16.0)\n",
      "Collecting medspacy-simstring>=2.1\n",
      "  Using cached medspacy_simstring-2.1.tar.gz (68 kB)\n",
      "  Preparing metadata (setup.py) ... \u001b[?25ldone\n",
      "\u001b[?25hRequirement already satisfied: Cython<3.0,>=0.25 in /Users/ark/opt/anaconda3/lib/python3.9/site-packages (from PyRuSH>=1.0.6->medspacy) (0.29.32)\n",
      "Collecting PyFastNER>=1.0.8\n",
      "  Using cached PyFastNER-1.0.8-py3-none-any.whl (18 kB)\n",
      "Requirement already satisfied: setuptools in /Users/ark/opt/anaconda3/lib/python3.9/site-packages (from PyRuSH>=1.0.6->medspacy) (63.4.1)\n",
      "Collecting quicksectx>=0.3.5\n",
      "  Using cached quicksectx-0.3.5-cp39-cp39-macosx_10_9_x86_64.whl (283 kB)\n",
      "Collecting thinc<8.2.0,>=8.1.0\n",
      "  Using cached thinc-8.1.5-cp39-cp39-macosx_10_9_x86_64.whl (768 kB)\n",
      "Collecting cymem<2.1.0,>=2.0.2\n",
      "  Using cached cymem-2.0.7-cp39-cp39-macosx_10_9_x86_64.whl (32 kB)\n",
      "Collecting typer<0.5.0,>=0.3.0\n",
      "  Using cached typer-0.4.2-py3-none-any.whl (27 kB)\n",
      "Collecting spacy-legacy<3.1.0,>=3.0.10\n",
      "  Using cached spacy_legacy-3.0.10-py2.py3-none-any.whl (21 kB)\n",
      "Collecting langcodes<4.0.0,>=3.2.0\n",
      "  Using cached langcodes-3.3.0-py3-none-any.whl (181 kB)\n",
      "Collecting catalogue<2.1.0,>=2.0.6\n",
      "  Using cached catalogue-2.0.8-py3-none-any.whl (17 kB)\n",
      "Requirement already satisfied: wasabi<1.1.0,>=0.9.1 in /Users/ark/opt/anaconda3/lib/python3.9/site-packages (from spacy>=3.4.1->medspacy) (0.10.1)\n",
      "Requirement already satisfied: jinja2 in /Users/ark/opt/anaconda3/lib/python3.9/site-packages (from spacy>=3.4.1->medspacy) (2.11.3)\n",
      "Collecting srsly<3.0.0,>=2.4.3\n",
      "  Using cached srsly-2.4.5-cp39-cp39-macosx_10_9_x86_64.whl (491 kB)\n",
      "Collecting pathy>=0.3.5\n",
      "  Using cached pathy-0.6.2-py3-none-any.whl (42 kB)\n",
      "Requirement already satisfied: tqdm<5.0.0,>=4.38.0 in /Users/ark/opt/anaconda3/lib/python3.9/site-packages (from spacy>=3.4.1->medspacy) (4.64.1)\n",
      "Collecting spacy-loggers<2.0.0,>=1.0.0\n",
      "  Using cached spacy_loggers-1.0.3-py3-none-any.whl (9.3 kB)\n",
      "Collecting pydantic!=1.8,!=1.8.1,<1.11.0,>=1.7.4\n",
      "  Using cached pydantic-1.10.2-cp39-cp39-macosx_10_9_x86_64.whl (3.2 MB)\n",
      "Collecting murmurhash<1.1.0,>=0.28.0\n",
      "  Using cached murmurhash-1.0.9-cp39-cp39-macosx_10_9_x86_64.whl (18 kB)\n",
      "Collecting preshed<3.1.0,>=3.0.2\n",
      "  Using cached preshed-3.0.8-cp39-cp39-macosx_10_9_x86_64.whl (107 kB)\n",
      "Requirement already satisfied: requests<3.0.0,>=2.13.0 in /Users/ark/opt/anaconda3/lib/python3.9/site-packages (from spacy>=3.4.1->medspacy) (2.28.1)\n",
      "Requirement already satisfied: packaging>=20.0 in /Users/ark/opt/anaconda3/lib/python3.9/site-packages (from spacy>=3.4.1->medspacy) (21.3)\n",
      "Requirement already satisfied: pyrsistent!=0.17.0,!=0.17.1,!=0.17.2,>=0.14.0 in /Users/ark/opt/anaconda3/lib/python3.9/site-packages (from jsonschema->medspacy) (0.18.0)\n",
      "Requirement already satisfied: attrs>=17.4.0 in /Users/ark/opt/anaconda3/lib/python3.9/site-packages (from jsonschema->medspacy) (21.4.0)\n",
      "Requirement already satisfied: regex>=2021.8.3 in /Users/ark/opt/anaconda3/lib/python3.9/site-packages (from nltk>=3.3->medspacy-quickumls==2.6->medspacy) (2022.7.9)\n",
      "Requirement already satisfied: joblib in /Users/ark/opt/anaconda3/lib/python3.9/site-packages (from nltk>=3.3->medspacy-quickumls==2.6->medspacy) (1.1.0)\n",
      "Requirement already satisfied: click in /Users/ark/opt/anaconda3/lib/python3.9/site-packages (from nltk>=3.3->medspacy-quickumls==2.6->medspacy) (8.0.4)\n",
      "Requirement already satisfied: pyparsing!=3.0.5,>=2.0.2 in /Users/ark/opt/anaconda3/lib/python3.9/site-packages (from packaging>=20.0->spacy>=3.4.1->medspacy) (3.0.9)\n",
      "Requirement already satisfied: smart-open<6.0.0,>=5.2.1 in /Users/ark/opt/anaconda3/lib/python3.9/site-packages (from pathy>=0.3.5->spacy>=3.4.1->medspacy) (5.2.1)\n",
      "Requirement already satisfied: typing-extensions>=4.1.0 in /Users/ark/opt/anaconda3/lib/python3.9/site-packages (from pydantic!=1.8,!=1.8.1,<1.11.0,>=1.7.4->spacy>=3.4.1->medspacy) (4.3.0)\n",
      "Requirement already satisfied: iniconfig in /Users/ark/opt/anaconda3/lib/python3.9/site-packages (from pytest>=6->medspacy-quickumls==2.6->medspacy) (1.1.1)\n",
      "Requirement already satisfied: pluggy<2.0,>=0.12 in /Users/ark/opt/anaconda3/lib/python3.9/site-packages (from pytest>=6->medspacy-quickumls==2.6->medspacy) (1.0.0)\n",
      "Requirement already satisfied: py>=1.8.2 in /Users/ark/opt/anaconda3/lib/python3.9/site-packages (from pytest>=6->medspacy-quickumls==2.6->medspacy) (1.11.0)\n",
      "Requirement already satisfied: tomli>=1.0.0 in /Users/ark/opt/anaconda3/lib/python3.9/site-packages (from pytest>=6->medspacy-quickumls==2.6->medspacy) (2.0.1)\n",
      "Requirement already satisfied: urllib3<1.27,>=1.21.1 in /Users/ark/opt/anaconda3/lib/python3.9/site-packages (from requests<3.0.0,>=2.13.0->spacy>=3.4.1->medspacy) (1.26.11)\n",
      "Requirement already satisfied: idna<4,>=2.5 in /Users/ark/opt/anaconda3/lib/python3.9/site-packages (from requests<3.0.0,>=2.13.0->spacy>=3.4.1->medspacy) (3.3)\n",
      "Requirement already satisfied: charset-normalizer<3,>=2 in /Users/ark/opt/anaconda3/lib/python3.9/site-packages (from requests<3.0.0,>=2.13.0->spacy>=3.4.1->medspacy) (2.0.4)\n",
      "Requirement already satisfied: certifi>=2017.4.17 in /Users/ark/opt/anaconda3/lib/python3.9/site-packages (from requests<3.0.0,>=2.13.0->spacy>=3.4.1->medspacy) (2022.9.24)\n",
      "Collecting confection<1.0.0,>=0.0.1\n",
      "  Using cached confection-0.0.3-py3-none-any.whl (32 kB)\n",
      "Collecting blis<0.8.0,>=0.7.8\n",
      "  Using cached blis-0.7.9-cp39-cp39-macosx_10_9_x86_64.whl (6.1 MB)\n",
      "Requirement already satisfied: MarkupSafe>=0.23 in /Users/ark/opt/anaconda3/lib/python3.9/site-packages (from jinja2->spacy>=3.4.1->medspacy) (2.0.1)\n",
      "Building wheels for collected packages: leveldb, medspacy-simstring, unqlite\n",
      "  Building wheel for leveldb (setup.py) ... \u001b[?25ldone\n",
      "\u001b[?25h  Created wheel for leveldb: filename=leveldb-0.201-cp39-cp39-macosx_10_9_x86_64.whl size=159743 sha256=4ceb82328451b65c3a130b5ff48412bffa38a6a02949d6190066279643d4f0bd\n",
      "  Stored in directory: /Users/ark/Library/Caches/pip/wheels/c7/5d/9f/043268a081577de68513e3a0c1919162406abd711f58962e24\n",
      "  Building wheel for medspacy-simstring (setup.py) ... \u001b[?25ldone\n",
      "\u001b[?25h  Created wheel for medspacy-simstring: filename=medspacy_simstring-2.1-cp39-cp39-macosx_10_9_x86_64.whl size=100820 sha256=de56fe7f8c0a1f0b2d189e3b64eacbb7449d609a85e19d5031a327b00a57ad5e\n",
      "  Stored in directory: /Users/ark/Library/Caches/pip/wheels/99/f4/d1/233bc6c0bd14c4102a06bf21fc03a116e9d830db4f6595d109\n",
      "  Building wheel for unqlite (setup.py) ... \u001b[?25ldone\n",
      "\u001b[?25h  Created wheel for unqlite: filename=unqlite-0.9.3-cp39-cp39-macosx_10_9_x86_64.whl size=323498 sha256=054aff9da5bf5825522d7e518beff4d659c11fb3ea7166b487828d7bf1b1748f\n",
      "  Stored in directory: /Users/ark/Library/Caches/pip/wheels/cd/9c/52/fb16aba35ce11954e9742a1f1b7dfa5e878dd94c198d3cf254\n",
      "Successfully built leveldb medspacy-simstring unqlite\n"
     ]
    },
    {
     "name": "stdout",
     "output_type": "stream",
     "text": [
      "Installing collected packages: medspacy-simstring, leveldb, cymem, unqlite, typer, spacy-loggers, spacy-legacy, quicksectx, pysbd, pydantic, murmurhash, langcodes, catalogue, blis, srsly, PyFastNER, preshed, pathy, confection, thinc, spacy, PyRuSH, medspacy-quickumls, medspacy\n",
      "Successfully installed PyFastNER-1.0.8 PyRuSH-1.0.8 blis-0.7.9 catalogue-2.0.8 confection-0.0.3 cymem-2.0.7 langcodes-3.3.0 leveldb-0.201 medspacy-1.0.0 medspacy-quickumls-2.6 medspacy-simstring-2.1 murmurhash-1.0.9 pathy-0.6.2 preshed-3.0.8 pydantic-1.10.2 pysbd-0.3.4 quicksectx-0.3.5 spacy-3.4.2 spacy-legacy-3.0.10 spacy-loggers-1.0.3 srsly-2.4.5 thinc-8.1.5 typer-0.4.2 unqlite-0.9.3\n"
     ]
    }
   ],
   "source": [
    "! pip install medspacy"
   ]
  },
  {
   "cell_type": "code",
   "execution_count": 3,
   "id": "060c8922",
   "metadata": {},
   "outputs": [
    {
     "name": "stdout",
     "output_type": "stream",
     "text": [
      "['medspacy_pyrush', 'medspacy_target_matcher', 'medspacy_context']\n"
     ]
    },
    {
     "data": {
      "text/html": [
       "<span class=\"tex2jax_ignore\"><div class=\"entities\" style=\"line-height: 2.5; direction: ltr\"></br>Past Medical History:</br>1. \n",
       "<mark class=\"entity\" style=\"background: #2ca02c; padding: 0.45em 0.6em; margin: 0 0.25em; line-height: 1; border-radius: 0.35em;\">\n",
       "    Atrial fibrillation\n",
       "    <span style=\"font-size: 0.8em; font-weight: bold; line-height: 1; border-radius: 0.35em; vertical-align: middle; margin-left: 0.5rem\">PROBLEM</span>\n",
       "</mark>\n",
       "</br>2. \n",
       "<mark class=\"entity\" style=\"background: #2ca02c; padding: 0.45em 0.6em; margin: 0 0.25em; line-height: 1; border-radius: 0.35em;\">\n",
       "    Type II Diabetes Mellitus\n",
       "    <span style=\"font-size: 0.8em; font-weight: bold; line-height: 1; border-radius: 0.35em; vertical-align: middle; margin-left: 0.5rem\">PROBLEM</span>\n",
       "</mark>\n",
       "</br></br>Assessment and Plan:</br>There is \n",
       "<mark class=\"entity\" style=\"background: #ff7f0e; padding: 0.45em 0.6em; margin: 0 0.25em; line-height: 1; border-radius: 0.35em;\">\n",
       "    no evidence of\n",
       "    <span style=\"font-size: 0.8em; font-weight: bold; line-height: 1; border-radius: 0.35em; vertical-align: middle; margin-left: 0.5rem\">NEGATED_EXISTENCE</span>\n",
       "</mark>\n",
       " \n",
       "<mark class=\"entity\" style=\"background: #2ca02c; padding: 0.45em 0.6em; margin: 0 0.25em; line-height: 1; border-radius: 0.35em;\">\n",
       "    pneumonia\n",
       "    <span style=\"font-size: 0.8em; font-weight: bold; line-height: 1; border-radius: 0.35em; vertical-align: middle; margin-left: 0.5rem\">PROBLEM</span>\n",
       "</mark>\n",
       ". Continue \n",
       "<mark class=\"entity\" style=\"background: #1f77b4; padding: 0.45em 0.6em; margin: 0 0.25em; line-height: 1; border-radius: 0.35em;\">\n",
       "    warfarin\n",
       "    <span style=\"font-size: 0.8em; font-weight: bold; line-height: 1; border-radius: 0.35em; vertical-align: middle; margin-left: 0.5rem\">MEDICATION</span>\n",
       "</mark>\n",
       " for \n",
       "<mark class=\"entity\" style=\"background: #2ca02c; padding: 0.45em 0.6em; margin: 0 0.25em; line-height: 1; border-radius: 0.35em;\">\n",
       "    Afib\n",
       "    <span style=\"font-size: 0.8em; font-weight: bold; line-height: 1; border-radius: 0.35em; vertical-align: middle; margin-left: 0.5rem\">PROBLEM</span>\n",
       "</mark>\n",
       ". Follow up for management of \n",
       "<mark class=\"entity\" style=\"background: #2ca02c; padding: 0.45em 0.6em; margin: 0 0.25em; line-height: 1; border-radius: 0.35em;\">\n",
       "    type 2 DM\n",
       "    <span style=\"font-size: 0.8em; font-weight: bold; line-height: 1; border-radius: 0.35em; vertical-align: middle; margin-left: 0.5rem\">PROBLEM</span>\n",
       "</mark>\n",
       ".</br></div></span>"
      ],
      "text/plain": [
       "<IPython.core.display.HTML object>"
      ]
     },
     "metadata": {},
     "output_type": "display_data"
    }
   ],
   "source": [
    "import medspacy\n",
    "from medspacy.ner import TargetRule\n",
    "from medspacy.visualization import visualize_ent\n",
    "\n",
    "nlp = medspacy.load()\n",
    "print(nlp.pipe_names)\n",
    "\n",
    "text = \"\"\"\n",
    "Past Medical History:\n",
    "1. Atrial fibrillation\n",
    "2. Type II Diabetes Mellitus\n",
    "\n",
    "Assessment and Plan:\n",
    "There is no evidence of pneumonia. Continue warfarin for Afib. Follow up for management of type 2 DM.\n",
    "\"\"\"\n",
    "\n",
    "target_matcher = nlp.get_pipe(\"medspacy_target_matcher\")\n",
    "target_rules = [\n",
    "    TargetRule(\"atrial fibrillation\", \"PROBLEM\"),\n",
    "    TargetRule(\"atrial fibrillation\", \"PROBLEM\", pattern=[{\"LOWER\": \"afib\"}]),\n",
    "    TargetRule(\"pneumonia\", \"PROBLEM\"),\n",
    "    TargetRule(\"Type II Diabetes Mellitus\", \"PROBLEM\", \n",
    "              pattern=[\n",
    "                  {\"LOWER\": \"type\"},\n",
    "                  {\"LOWER\": {\"IN\": [\"2\", \"ii\", \"two\"]}},\n",
    "                  {\"LOWER\": {\"IN\": [\"dm\", \"diabetes\"]}},\n",
    "                  {\"LOWER\": \"mellitus\", \"OP\": \"?\"}\n",
    "              ]),\n",
    "    TargetRule(\"warfarin\", \"MEDICATION\")\n",
    "]\n",
    "target_matcher.add(target_rules)\n",
    "\n",
    "doc = nlp(text)\n",
    "visualize_ent(doc)"
   ]
  }
 ],
 "metadata": {
  "kernelspec": {
   "display_name": "Python 3 (ipykernel)",
   "language": "python",
   "name": "python3"
  },
  "language_info": {
   "codemirror_mode": {
    "name": "ipython",
    "version": 3
   },
   "file_extension": ".py",
   "mimetype": "text/x-python",
   "name": "python",
   "nbconvert_exporter": "python",
   "pygments_lexer": "ipython3",
   "version": "3.9.13"
  }
 },
 "nbformat": 4,
 "nbformat_minor": 5
}
