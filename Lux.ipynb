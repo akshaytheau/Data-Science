{
 "cells": [
  {
   "cell_type": "code",
   "execution_count": 2,
   "metadata": {},
   "outputs": [
    {
     "name": "stdout",
     "output_type": "stream",
     "text": [
      "Collecting lux-api\n",
      "\u001b[?25l  Downloading https://files.pythonhosted.org/packages/64/32/ee46df189e978c21a040e01d0eb99067de07974fd4ef67c69190a5d1fdde/lux-api-0.2.1.tar.gz (76kB)\n",
      "\u001b[K     |████████████████████████████████| 81kB 11kB/s eta 0:00:012\n",
      "\u001b[?25hCollecting scipy>=1.3.3 (from lux-api)\n",
      "\u001b[?25l  Downloading https://files.pythonhosted.org/packages/dc/7e/8f6a79b102ca1ea928bae8998b05bf5dc24a90571db13cd119f275ba6252/scipy-1.5.4-cp37-cp37m-manylinux1_x86_64.whl (25.9MB)\n",
      "\u001b[K     |████████████████████████████████| 25.9MB 52kB/s eta 0:00:013    |█▏                              | 921kB 288kB/s eta 0:01:27     |███████████████████▎            | 15.6MB 476kB/s eta 0:00:22\n",
      "\u001b[?25hCollecting altair>=4.0.0 (from lux-api)\n",
      "\u001b[?25l  Downloading https://files.pythonhosted.org/packages/01/55/0bb2226e34f21fa549c3f4557b4f154a5632f61132a969da17c95ca8eab9/altair-4.1.0-py3-none-any.whl (727kB)\n",
      "\u001b[K     |████████████████████████████████| 737kB 673kB/s eta 0:00:01\n",
      "\u001b[?25hCollecting pandas>=1.1.0 (from lux-api)\n",
      "\u001b[?25l  Downloading https://files.pythonhosted.org/packages/bf/4c/cb7da76f3a5e077e545f9cf8575b8f488a4e8ad60490838f89c5cdd5bb57/pandas-1.1.4-cp37-cp37m-manylinux1_x86_64.whl (9.5MB)\n",
      "\u001b[K     |████████████████████████████████| 9.5MB 89kB/s eta 0:00:012     |██████████                      | 3.0MB 280kB/s eta 0:00:24\n",
      "\u001b[?25hRequirement already satisfied: scikit-learn>=0.22 in /home/akshay/anaconda3/lib/python3.7/site-packages (from lux-api) (0.22.2.post1)\n",
      "Collecting lux-widget>=0.1.1 (from lux-api)\n",
      "\u001b[?25l  Downloading https://files.pythonhosted.org/packages/3e/94/ac2ab4f1a28496c3aacdb52ba13d7df2ad7f51af9138c4cc076815cbb618/lux-widget-0.1.1.tar.gz (1.9MB)\n",
      "\u001b[K     |████████████████████████████████| 1.9MB 907kB/s eta 0:00:01\n",
      "\u001b[?25hRequirement already satisfied: numpy>=1.14.5 in /home/akshay/anaconda3/lib/python3.7/site-packages (from scipy>=1.3.3->lux-api) (1.17.2)\n",
      "Requirement already satisfied: jsonschema in /home/akshay/anaconda3/lib/python3.7/site-packages (from altair>=4.0.0->lux-api) (3.0.2)\n",
      "Requirement already satisfied: entrypoints in /home/akshay/anaconda3/lib/python3.7/site-packages (from altair>=4.0.0->lux-api) (0.3)\n",
      "Requirement already satisfied: jinja2 in /home/akshay/anaconda3/lib/python3.7/site-packages (from altair>=4.0.0->lux-api) (2.10.3)\n",
      "Requirement already satisfied: toolz in /home/akshay/anaconda3/lib/python3.7/site-packages (from altair>=4.0.0->lux-api) (0.10.0)\n",
      "Requirement already satisfied: python-dateutil>=2.7.3 in /home/akshay/anaconda3/lib/python3.7/site-packages (from pandas>=1.1.0->lux-api) (2.8.0)\n",
      "Requirement already satisfied: pytz>=2017.2 in /home/akshay/anaconda3/lib/python3.7/site-packages (from pandas>=1.1.0->lux-api) (2019.3)\n",
      "Requirement already satisfied: joblib>=0.11 in /home/akshay/anaconda3/lib/python3.7/site-packages (from scikit-learn>=0.22->lux-api) (0.13.2)\n",
      "Requirement already satisfied: jupyter in /home/akshay/anaconda3/lib/python3.7/site-packages (from lux-widget>=0.1.1->lux-api) (1.0.0)\n",
      "Requirement already satisfied: notebook>=4.0.0 in /home/akshay/anaconda3/lib/python3.7/site-packages (from lux-widget>=0.1.1->lux-api) (6.0.1)\n",
      "Requirement already satisfied: ipywidgets>=7.0.0 in /home/akshay/anaconda3/lib/python3.7/site-packages (from lux-widget>=0.1.1->lux-api) (7.5.1)\n",
      "Requirement already satisfied: pyrsistent>=0.14.0 in /home/akshay/anaconda3/lib/python3.7/site-packages (from jsonschema->altair>=4.0.0->lux-api) (0.15.4)\n",
      "Requirement already satisfied: setuptools in /home/akshay/anaconda3/lib/python3.7/site-packages (from jsonschema->altair>=4.0.0->lux-api) (41.4.0)\n",
      "Requirement already satisfied: attrs>=17.4.0 in /home/akshay/anaconda3/lib/python3.7/site-packages (from jsonschema->altair>=4.0.0->lux-api) (19.2.0)\n",
      "Requirement already satisfied: six>=1.11.0 in /home/akshay/anaconda3/lib/python3.7/site-packages (from jsonschema->altair>=4.0.0->lux-api) (1.15.0)\n",
      "Requirement already satisfied: MarkupSafe>=0.23 in /home/akshay/anaconda3/lib/python3.7/site-packages (from jinja2->altair>=4.0.0->lux-api) (1.1.1)\n",
      "Requirement already satisfied: qtconsole in /home/akshay/anaconda3/lib/python3.7/site-packages (from jupyter->lux-widget>=0.1.1->lux-api) (4.5.5)\n",
      "Requirement already satisfied: nbconvert in /home/akshay/anaconda3/lib/python3.7/site-packages (from jupyter->lux-widget>=0.1.1->lux-api) (5.6.0)\n",
      "Requirement already satisfied: ipykernel in /home/akshay/anaconda3/lib/python3.7/site-packages (from jupyter->lux-widget>=0.1.1->lux-api) (5.1.2)\n",
      "Requirement already satisfied: jupyter-console in /home/akshay/anaconda3/lib/python3.7/site-packages (from jupyter->lux-widget>=0.1.1->lux-api) (6.0.0)\n",
      "Requirement already satisfied: Send2Trash in /home/akshay/anaconda3/lib/python3.7/site-packages (from notebook>=4.0.0->lux-widget>=0.1.1->lux-api) (1.5.0)\n",
      "Requirement already satisfied: traitlets>=4.2.1 in /home/akshay/anaconda3/lib/python3.7/site-packages (from notebook>=4.0.0->lux-widget>=0.1.1->lux-api) (4.3.3)\n",
      "Requirement already satisfied: terminado>=0.8.1 in /home/akshay/anaconda3/lib/python3.7/site-packages (from notebook>=4.0.0->lux-widget>=0.1.1->lux-api) (0.8.2)\n",
      "Requirement already satisfied: ipython-genutils in /home/akshay/anaconda3/lib/python3.7/site-packages (from notebook>=4.0.0->lux-widget>=0.1.1->lux-api) (0.2.0)\n",
      "Requirement already satisfied: jupyter-core>=4.4.0 in /home/akshay/anaconda3/lib/python3.7/site-packages (from notebook>=4.0.0->lux-widget>=0.1.1->lux-api) (4.5.0)\n",
      "Requirement already satisfied: pyzmq>=17 in /home/akshay/anaconda3/lib/python3.7/site-packages (from notebook>=4.0.0->lux-widget>=0.1.1->lux-api) (18.1.0)\n",
      "Requirement already satisfied: prometheus-client in /home/akshay/anaconda3/lib/python3.7/site-packages (from notebook>=4.0.0->lux-widget>=0.1.1->lux-api) (0.7.1)\n",
      "Requirement already satisfied: tornado>=5.0 in /home/akshay/anaconda3/lib/python3.7/site-packages (from notebook>=4.0.0->lux-widget>=0.1.1->lux-api) (6.0.3)\n",
      "Requirement already satisfied: jupyter-client>=5.3.1 in /home/akshay/anaconda3/lib/python3.7/site-packages (from notebook>=4.0.0->lux-widget>=0.1.1->lux-api) (5.3.3)\n",
      "Requirement already satisfied: nbformat in /home/akshay/anaconda3/lib/python3.7/site-packages (from notebook>=4.0.0->lux-widget>=0.1.1->lux-api) (4.4.0)\n",
      "Requirement already satisfied: ipython>=4.0.0; python_version >= \"3.3\" in /home/akshay/anaconda3/lib/python3.7/site-packages (from ipywidgets>=7.0.0->lux-widget>=0.1.1->lux-api) (7.8.0)\n",
      "Requirement already satisfied: widgetsnbextension~=3.5.0 in /home/akshay/anaconda3/lib/python3.7/site-packages (from ipywidgets>=7.0.0->lux-widget>=0.1.1->lux-api) (3.5.1)\n",
      "Requirement already satisfied: pygments in /home/akshay/anaconda3/lib/python3.7/site-packages (from qtconsole->jupyter->lux-widget>=0.1.1->lux-api) (2.4.2)\n",
      "Requirement already satisfied: mistune<2,>=0.8.1 in /home/akshay/anaconda3/lib/python3.7/site-packages (from nbconvert->jupyter->lux-widget>=0.1.1->lux-api) (0.8.4)\n",
      "Requirement already satisfied: pandocfilters>=1.4.1 in /home/akshay/anaconda3/lib/python3.7/site-packages (from nbconvert->jupyter->lux-widget>=0.1.1->lux-api) (1.4.2)\n",
      "Requirement already satisfied: bleach in /home/akshay/anaconda3/lib/python3.7/site-packages (from nbconvert->jupyter->lux-widget>=0.1.1->lux-api) (3.1.0)\n",
      "Requirement already satisfied: testpath in /home/akshay/anaconda3/lib/python3.7/site-packages (from nbconvert->jupyter->lux-widget>=0.1.1->lux-api) (0.4.2)\n",
      "Requirement already satisfied: defusedxml in /home/akshay/anaconda3/lib/python3.7/site-packages (from nbconvert->jupyter->lux-widget>=0.1.1->lux-api) (0.6.0)\n",
      "Requirement already satisfied: prompt_toolkit<2.1.0,>=2.0.0 in /home/akshay/anaconda3/lib/python3.7/site-packages (from jupyter-console->jupyter->lux-widget>=0.1.1->lux-api) (2.0.10)\n",
      "Requirement already satisfied: decorator in /home/akshay/anaconda3/lib/python3.7/site-packages (from traitlets>=4.2.1->notebook>=4.0.0->lux-widget>=0.1.1->lux-api) (4.4.0)\n",
      "Requirement already satisfied: pexpect; sys_platform != \"win32\" in /home/akshay/anaconda3/lib/python3.7/site-packages (from ipython>=4.0.0; python_version >= \"3.3\"->ipywidgets>=7.0.0->lux-widget>=0.1.1->lux-api) (4.7.0)\n",
      "Requirement already satisfied: pickleshare in /home/akshay/anaconda3/lib/python3.7/site-packages (from ipython>=4.0.0; python_version >= \"3.3\"->ipywidgets>=7.0.0->lux-widget>=0.1.1->lux-api) (0.7.5)\n",
      "Requirement already satisfied: jedi>=0.10 in /home/akshay/anaconda3/lib/python3.7/site-packages (from ipython>=4.0.0; python_version >= \"3.3\"->ipywidgets>=7.0.0->lux-widget>=0.1.1->lux-api) (0.15.1)\n"
     ]
    },
    {
     "name": "stdout",
     "output_type": "stream",
     "text": [
      "Requirement already satisfied: backcall in /home/akshay/anaconda3/lib/python3.7/site-packages (from ipython>=4.0.0; python_version >= \"3.3\"->ipywidgets>=7.0.0->lux-widget>=0.1.1->lux-api) (0.1.0)\n",
      "Requirement already satisfied: webencodings in /home/akshay/anaconda3/lib/python3.7/site-packages (from bleach->nbconvert->jupyter->lux-widget>=0.1.1->lux-api) (0.5.1)\n",
      "Requirement already satisfied: wcwidth in /home/akshay/anaconda3/lib/python3.7/site-packages (from prompt_toolkit<2.1.0,>=2.0.0->jupyter-console->jupyter->lux-widget>=0.1.1->lux-api) (0.1.7)\n",
      "Requirement already satisfied: ptyprocess>=0.5 in /home/akshay/anaconda3/lib/python3.7/site-packages (from pexpect; sys_platform != \"win32\"->ipython>=4.0.0; python_version >= \"3.3\"->ipywidgets>=7.0.0->lux-widget>=0.1.1->lux-api) (0.6.0)\n",
      "Requirement already satisfied: parso>=0.5.0 in /home/akshay/anaconda3/lib/python3.7/site-packages (from jedi>=0.10->ipython>=4.0.0; python_version >= \"3.3\"->ipywidgets>=7.0.0->lux-widget>=0.1.1->lux-api) (0.5.1)\n",
      "Building wheels for collected packages: lux-api, lux-widget\n",
      "  Building wheel for lux-api (setup.py) ... \u001b[?25ldone\n",
      "\u001b[?25h  Created wheel for lux-api: filename=lux_api-0.2.1-cp37-none-any.whl size=117593 sha256=a48b36e6b3179bf23acd9d6d8e45060266a472282d61a9cb783284d3f9e43381\n",
      "  Stored in directory: /home/akshay/.cache/pip/wheels/7d/f2/72/6a08419c87357fcf47378e68faeabff55715615601b677a353\n",
      "  Building wheel for lux-widget (setup.py) ... \u001b[?25ldone\n",
      "\u001b[?25h  Created wheel for lux-widget: filename=lux_widget-0.1.1-cp37-none-any.whl size=1935816 sha256=0572df60c3e6921d3441bef7f99adb09b4b693afae1a8127628a6093f8cb83de\n",
      "  Stored in directory: /home/akshay/.cache/pip/wheels/69/1c/5d/bc38f4976953e3cb58842423d04ed2aa0d6579b6b5857fc444\n",
      "Successfully built lux-api lux-widget\n",
      "Installing collected packages: scipy, pandas, altair, lux-widget, lux-api\n",
      "  Found existing installation: scipy 1.3.1\n",
      "    Uninstalling scipy-1.3.1:\n",
      "      Successfully uninstalled scipy-1.3.1\n",
      "  Found existing installation: pandas 0.25.1\n",
      "    Uninstalling pandas-0.25.1:\n",
      "      Successfully uninstalled pandas-0.25.1\n",
      "Successfully installed altair-4.1.0 lux-api-0.2.1 lux-widget-0.1.1 pandas-1.1.4 scipy-1.5.4\n"
     ]
    }
   ],
   "source": [
    "! pip install lux-api"
   ]
  },
  {
   "cell_type": "code",
   "execution_count": 9,
   "metadata": {},
   "outputs": [],
   "source": [
    "import lux\n",
    "import pandas as pd"
   ]
  },
  {
   "cell_type": "code",
   "execution_count": 10,
   "metadata": {},
   "outputs": [],
   "source": [
    "df = pd.read_csv('titanic.csv')"
   ]
  },
  {
   "cell_type": "code",
   "execution_count": 11,
   "metadata": {
    "scrolled": true
   },
   "outputs": [
    {
     "data": {
      "application/vnd.jupyter.widget-view+json": {
       "model_id": "b8542711f1e54d9bbc352a50e9ccbc11",
       "version_major": 2,
       "version_minor": 0
      },
      "text/plain": [
       "Button(description='Toggle Pandas/Lux', layout=Layout(top='5px', width='140px'), style=ButtonStyle())"
      ]
     },
     "metadata": {},
     "output_type": "display_data"
    },
    {
     "data": {
      "application/vnd.jupyter.widget-view+json": {
       "model_id": "af00684885a74f29b0c86ca4c7934499",
       "version_major": 2,
       "version_minor": 0
      },
      "text/plain": [
       "Output()"
      ]
     },
     "metadata": {},
     "output_type": "display_data"
    },
    {
     "data": {
      "text/plain": []
     },
     "execution_count": 11,
     "metadata": {},
     "output_type": "execute_result"
    }
   ],
   "source": [
    "\n",
    "df"
   ]
  },
  {
   "cell_type": "code",
   "execution_count": 12,
   "metadata": {},
   "outputs": [
    {
     "name": "stderr",
     "output_type": "stream",
     "text": [
      "/home/akshay/anaconda3/lib/python3.7/site-packages/lux/vis/VisList.py:305: UserWarning:\n",
      "The following issues are ecountered when validating the parsed intent:\n",
      "- The input value 'nan' does not exist for the attribute 'Embarked' for the DataFrame.\n"
     ]
    },
    {
     "data": {
      "application/vnd.jupyter.widget-view+json": {
       "model_id": "fb5c244b1bfb4e09961690fd6523a01a",
       "version_major": 2,
       "version_minor": 0
      },
      "text/plain": [
       "Button(description='Toggle Pandas/Lux', layout=Layout(top='5px', width='140px'), style=ButtonStyle())"
      ]
     },
     "metadata": {},
     "output_type": "display_data"
    },
    {
     "data": {
      "application/vnd.jupyter.widget-view+json": {
       "model_id": "d743879ef24144329970ca103a7bd204",
       "version_major": 2,
       "version_minor": 0
      },
      "text/plain": [
       "Output()"
      ]
     },
     "metadata": {},
     "output_type": "display_data"
    },
    {
     "data": {
      "text/plain": []
     },
     "execution_count": 12,
     "metadata": {},
     "output_type": "execute_result"
    }
   ],
   "source": [
    "df.intent = [\"Age\",\"Fare\"]\n",
    "df"
   ]
  },
  {
   "cell_type": "code",
   "execution_count": 13,
   "metadata": {},
   "outputs": [],
   "source": [
    "vis = df.exported"
   ]
  },
  {
   "cell_type": "code",
   "execution_count": 14,
   "metadata": {},
   "outputs": [
    {
     "data": {
      "application/vnd.jupyter.widget-view+json": {
       "model_id": "917ad753df8347ffb91f9ffd73d41903",
       "version_major": 2,
       "version_minor": 0
      },
      "text/plain": [
       "LuxWidget(recommendations=[{'action': 'Vis List', 'description': 'Shows a vis list defined by the intent', 'vs…"
      ]
     },
     "metadata": {},
     "output_type": "display_data"
    },
    {
     "data": {
      "text/plain": [
       "[<Vis  (x: Age, y: Fare, color: Survived) mark: scatter, score: 0.50 >]"
      ]
     },
     "execution_count": 14,
     "metadata": {},
     "output_type": "execute_result"
    }
   ],
   "source": [
    "vis"
   ]
  },
  {
   "cell_type": "code",
   "execution_count": 15,
   "metadata": {},
   "outputs": [
    {
     "data": {
      "application/vnd.jupyter.widget-view+json": {
       "model_id": "1fceb05044d9481f886233375de6c4b5",
       "version_major": 2,
       "version_minor": 0
      },
      "text/plain": [
       "LuxWidget(current_vis={'config': {'view': {'continuousWidth': 400, 'continuousHeight': 300}, 'axis': {'labelCo…"
      ]
     },
     "metadata": {},
     "output_type": "display_data"
    },
    {
     "data": {
      "text/plain": [
       "<Vis  (x: BIN(Fare), y: COUNT(Record) -- [Embarked=C]) mark: histogram, score: 0.0 >"
      ]
     },
     "execution_count": 15,
     "metadata": {},
     "output_type": "execute_result"
    }
   ],
   "source": [
    "from lux.vis.Vis import Vis\n",
    "Vis([\"Embarked=C\",\"Fare\"],df)"
   ]
  },
  {
   "cell_type": "code",
   "execution_count": 16,
   "metadata": {},
   "outputs": [
    {
     "data": {
      "application/vnd.jupyter.widget-view+json": {
       "model_id": "2f8d03f01a4844debf438535fb3af585",
       "version_major": 2,
       "version_minor": 0
      },
      "text/plain": [
       "LuxWidget(recommendations=[{'action': 'Vis List', 'description': 'Shows a vis list defined by the intent', 'vs…"
      ]
     },
     "metadata": {},
     "output_type": "display_data"
    },
    {
     "data": {
      "text/plain": [
       "[<Vis  (x: COUNT(Record), y: Pclass  -- [Embarked=S]   ) mark: bar, score: 0.00 >,\n",
       " <Vis  (x: COUNT(Record), y: Pclass  -- [Embarked=C]   ) mark: bar, score: 0.00 >,\n",
       " <Vis  (x: COUNT(Record), y: Pclass  -- [Embarked=Q]   ) mark: bar, score: 0.00 >,\n",
       " <Vis  (x: COUNT(Record), y: Pclass  -- [Embarked=nan] ) mark: bar, score: 0.00 >]"
      ]
     },
     "execution_count": 16,
     "metadata": {},
     "output_type": "execute_result"
    }
   ],
   "source": [
    "from lux.vis.VisList import VisList\n",
    "VisList([\"Embarked=?\",\"Pclass\"],df)"
   ]
  }
 ],
 "metadata": {
  "kernelspec": {
   "display_name": "Python 3",
   "language": "python",
   "name": "python3"
  },
  "language_info": {
   "codemirror_mode": {
    "name": "ipython",
    "version": 3
   },
   "file_extension": ".py",
   "mimetype": "text/x-python",
   "name": "python",
   "nbconvert_exporter": "python",
   "pygments_lexer": "ipython3",
   "version": "3.7.4"
  }
 },
 "nbformat": 4,
 "nbformat_minor": 2
}
