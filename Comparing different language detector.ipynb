{
 "cells": [
  {
   "cell_type": "markdown",
   "metadata": {},
   "source": [
    "# langdetect package"
   ]
  },
  {
   "cell_type": "code",
   "execution_count": 3,
   "metadata": {},
   "outputs": [],
   "source": [
    "from langdetect import detect "
   ]
  },
  {
   "cell_type": "code",
   "execution_count": 7,
   "metadata": {},
   "outputs": [
    {
     "name": "stdout",
     "output_type": "stream",
     "text": [
      "en\n",
      "hi\n",
      "es\n",
      "ja\n"
     ]
    }
   ],
   "source": [
    "print(detect(\"At AS Learning , learning never ends.\")) \n",
    "print(detect(\"एएस लर्निंग में, सीखना कभी समाप्त नहीं होता है।\")) \n",
    "print(detect(\"En AS Learning, el aprendizaje nunca termina.\")) \n",
    "print(detect(\"ASラーニングでは、学習は決して終わりません\")) "
   ]
  },
  {
   "cell_type": "markdown",
   "metadata": {},
   "source": [
    "# Langid package"
   ]
  },
  {
   "cell_type": "code",
   "execution_count": 57,
   "metadata": {},
   "outputs": [
    {
     "name": "stdout",
     "output_type": "stream",
     "text": [
      "('en', 0.901430497396395)\n",
      "('hi', 0.9999996623730644)\n",
      "('es', 0.9870864718495084)\n",
      "('ja', 1.0)\n"
     ]
    }
   ],
   "source": [
    "import langid\n",
    "from langid.langid import LanguageIdentifier, model\n",
    "lang_identifier = LanguageIdentifier.from_modelstring(model, norm_probs=True)\n",
    "print(lang_identifier.classify(\"At AS Learning , learning never ends.\"))\n",
    "print(lang_identifier.classify(\"एएस लर्निंग में, सीखना कभी समाप्त नहीं होता है।\"))\n",
    "print(lang_identifier.classify(\"En AS Learning, el aprendizaje nunca termina.\"))\n",
    "print(lang_identifier.classify(\"ASラーニングでは、学習は決して終わりません\"))"
   ]
  },
  {
   "cell_type": "markdown",
   "metadata": {},
   "source": [
    "# TextBlob package"
   ]
  },
  {
   "cell_type": "code",
   "execution_count": 10,
   "metadata": {},
   "outputs": [],
   "source": [
    "from textblob import TextBlob "
   ]
  },
  {
   "cell_type": "code",
   "execution_count": 11,
   "metadata": {},
   "outputs": [
    {
     "name": "stdout",
     "output_type": "stream",
     "text": [
      "en\n",
      "hi\n",
      "es\n",
      "ja\n"
     ]
    }
   ],
   "source": [
    "print(TextBlob(\"At AS Learning , learning never ends.\").detect_language()) \n",
    "print(TextBlob(\"एएस लर्निंग में, सीखना कभी समाप्त नहीं होता है।\").detect_language()) \n",
    "print(TextBlob(\"En AS Learning, el aprendizaje nunca termina.\").detect_language()) \n",
    "print(TextBlob(\"ASラーニングでは、学習は決して終わりません\").detect_language()) "
   ]
  },
  {
   "cell_type": "markdown",
   "metadata": {},
   "source": [
    "# Other packages spacy and Fasttext"
   ]
  },
  {
   "cell_type": "markdown",
   "metadata": {},
   "source": [
    "# Speed comparison between three packages"
   ]
  },
  {
   "cell_type": "code",
   "execution_count": 68,
   "metadata": {},
   "outputs": [
    {
     "name": "stdout",
     "output_type": "stream",
     "text": [
      "en\n",
      "hi\n",
      "es\n",
      "ja\n",
      "Time elapsed for TextBlob: 0.802361011505127\n"
     ]
    }
   ],
   "source": [
    "import time\n",
    "start = time.time()\n",
    "print(TextBlob(\"At AS Learning , learning never ends.\").detect_language()) \n",
    "print(TextBlob(\"एएस लर्निंग में, सीखना कभी समाप्त नहीं होता है।\").detect_language()) \n",
    "print(TextBlob(\"En AS Learning, el aprendizaje nunca termina.\").detect_language()) \n",
    "print(TextBlob(\"ASラーニングでは、学習は決して終わりません\").detect_language()) \n",
    "end = time.time()\n",
    "print (\"Time elapsed for TextBlob:\", end - start)\n",
    "\n"
   ]
  },
  {
   "cell_type": "code",
   "execution_count": 69,
   "metadata": {},
   "outputs": [
    {
     "name": "stdout",
     "output_type": "stream",
     "text": [
      "('en', 0.901430497396395)\n",
      "('hi', 0.9999996623730644)\n",
      "('es', 0.9870864718495084)\n",
      "('ja', 1.0)\n",
      "Time elapsed for langid: 0.009955883026123047\n"
     ]
    }
   ],
   "source": [
    "start = time.time()\n",
    "print(lang_identifier.classify(\"At AS Learning , learning never ends.\"))\n",
    "print(lang_identifier.classify(\"एएस लर्निंग में, सीखना कभी समाप्त नहीं होता है।\"))\n",
    "print(lang_identifier.classify(\"En AS Learning, el aprendizaje nunca termina.\"))\n",
    "print(lang_identifier.classify(\"ASラーニングでは、学習は決して終わりません\"))\n",
    "end = time.time()\n",
    "print (\"Time elapsed for langid:\", end - start)"
   ]
  },
  {
   "cell_type": "code",
   "execution_count": 71,
   "metadata": {},
   "outputs": [
    {
     "name": "stdout",
     "output_type": "stream",
     "text": [
      "en\n",
      "hi\n",
      "es\n",
      "ja\n",
      "Time elapsed for langdetect: 0.05070662498474121\n"
     ]
    }
   ],
   "source": [
    "start = time.time()\n",
    "print(detect(\"At AS Learning , learning never ends.\")) \n",
    "print(detect(\"एएस लर्निंग में, सीखना कभी समाप्त नहीं होता है।\")) \n",
    "print(detect(\"En AS Learning, el aprendizaje nunca termina.\")) \n",
    "print(detect(\"ASラーニングでは、学習は決して終わりません\")) \n",
    "end = time.time()\n",
    "print (\"Time elapsed for langdetect:\", end - start)"
   ]
  }
 ],
 "metadata": {
  "kernelspec": {
   "display_name": "Python 3",
   "language": "python",
   "name": "python3"
  },
  "language_info": {
   "codemirror_mode": {
    "name": "ipython",
    "version": 3
   },
   "file_extension": ".py",
   "mimetype": "text/x-python",
   "name": "python",
   "nbconvert_exporter": "python",
   "pygments_lexer": "ipython3",
   "version": "3.7.6"
  }
 },
 "nbformat": 4,
 "nbformat_minor": 4
}
