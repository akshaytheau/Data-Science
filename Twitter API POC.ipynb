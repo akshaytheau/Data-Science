{
 "cells": [
  {
   "cell_type": "code",
   "execution_count": 79,
   "metadata": {},
   "outputs": [
    {
     "name": "stdout",
     "output_type": "stream",
     "text": [
      "Requirement already satisfied: tweepy in c:\\users\\akshay\\anaconda3\\lib\\site-packages (4.10.0)\n",
      "Requirement already satisfied: requests<3,>=2.27.0 in c:\\users\\akshay\\anaconda3\\lib\\site-packages (from tweepy) (2.28.1)\n",
      "Requirement already satisfied: oauthlib<4,>=3.2.0 in c:\\users\\akshay\\anaconda3\\lib\\site-packages (from tweepy) (3.2.0)\n",
      "Requirement already satisfied: requests-oauthlib<2,>=1.2.0 in c:\\users\\akshay\\anaconda3\\lib\\site-packages (from tweepy) (1.3.1)\n",
      "Requirement already satisfied: urllib3<1.27,>=1.21.1 in c:\\users\\akshay\\anaconda3\\lib\\site-packages (from requests<3,>=2.27.0->tweepy) (1.25.11)\n",
      "Requirement already satisfied: idna<4,>=2.5 in c:\\users\\akshay\\anaconda3\\lib\\site-packages (from requests<3,>=2.27.0->tweepy) (2.10)\n",
      "Requirement already satisfied: certifi>=2017.4.17 in c:\\users\\akshay\\anaconda3\\lib\\site-packages (from requests<3,>=2.27.0->tweepy) (2020.6.20)\n",
      "Requirement already satisfied: charset-normalizer<3,>=2 in c:\\users\\akshay\\anaconda3\\lib\\site-packages (from requests<3,>=2.27.0->tweepy) (2.1.0)\n"
     ]
    }
   ],
   "source": [
    "! pip install tweepy"
   ]
  },
  {
   "cell_type": "code",
   "execution_count": 80,
   "metadata": {},
   "outputs": [],
   "source": [
    "import tweepy"
   ]
  },
  {
   "cell_type": "code",
   "execution_count": 81,
   "metadata": {},
   "outputs": [],
   "source": [
    "MY_BEARER_TOKEN = \"AAAAAAAAAAAAAAAAAAAAA\"\n",
    "# create your client \n",
    "client = tweepy.Client(bearer_token=MY_BEARER_TOKEN)"
   ]
  },
  {
   "cell_type": "code",
   "execution_count": 186,
   "metadata": {},
   "outputs": [],
   "source": [
    "# query to search for tweets\n",
    "query = \"#maharashtrapolitics lang:en\"\n",
    "\n",
    "# your start and end time for fetching tweets\n",
    "start_time = \"2022-07-05T00:00:00Z\"\n",
    "end_time = \"2022-07-05T23:00:00Z\"\n",
    "\n",
    "# get tweets from the API\n",
    "tweets = client.search_recent_tweets(query=query,\n",
    "                                     start_time=start_time,\n",
    "                                     end_time=end_time,\n",
    "                                     tweet_fields = [\"created_at\", \"text\"],\n",
    "                                     user_fields = [\"name\", \"username\", \"location\", \"verified\", \"description\"],\n",
    "                                     max_results = 100,\n",
    "                                     expansions='author_id'\n",
    "                                     )"
   ]
  },
  {
   "cell_type": "code",
   "execution_count": 187,
   "metadata": {},
   "outputs": [
    {
     "name": "stdout",
     "output_type": "stream",
     "text": [
      "100\n"
     ]
    }
   ],
   "source": [
    "print(len(tweets.data))\n",
    "# user specific info\n",
    "#print(len(tweets.includes[\"maharashtra\"]))"
   ]
  },
  {
   "cell_type": "code",
   "execution_count": 188,
   "metadata": {},
   "outputs": [],
   "source": [
    "list_of_tweets_05_07 = []\n",
    "for i in tweets.data:\n",
    "    list_of_tweets_05_07.append(str(i))\n",
    "    "
   ]
  },
  {
   "cell_type": "code",
   "execution_count": 189,
   "metadata": {},
   "outputs": [],
   "source": [
    "list_of_tweets_05_07 = [i.replace('RT ','') for i in list_of_tweets_05_07 ]"
   ]
  },
  {
   "cell_type": "code",
   "execution_count": 190,
   "metadata": {},
   "outputs": [
    {
     "data": {
      "text/plain": [
       "['@PHOENIX21SNIPER: @Shinny4SSR @analyser_sk @ErayCr @SunainaHoley @MurliMenon6 @RDXThinksThat @withoutthemind @_PreetiPandey @mamta_kale…',\n",
       " '@Shinny4SSR: To discuss a variety of perspectives, but in a clear, conflict-free way of impact of #MaharashtraPolitics In SSR Case I hum…',\n",
       " 'How did such a big change happen in #MaharashtraPolitics\\nBest explanation by the expert @DrManishKumar1 👏\\n@Dev_Fadnavis please help catch #SushantSinghRajput Killers?\\nHar Har Mahadev 🙏🕉️\\n\\n@VarunKapurzz @_PreetiPandey\\n@mamta_kale @withoutthemind\\n\\nWatch👇\\n\\nhttps://t.co/UI4OX0B6ob',\n",
       " '@Sunilvijay: Sanjay raut : Ukhad diya\\nKarma : hold my drink please !!! \\n\\n#KanganaRanaut got poetic justice !!!\\n\\n🦍🦍\\n#MaharashtraPolitics…',\n",
       " '@MirrorNow: #BreakingNews | Mirror Now spoke to #ShivSena MP @AGSawant about the split within the party. Listen in.\\n\\n| #Shivsena #Mahara…',\n",
       " 'Eknath Shinde Backstabbed Me, Says Uddhav Thackeray\\n\\n#UddhavThackarey #EknathShinde #ShivSenaChief #ShindeBackstabbed #MaharashtraPolitics\\nhttps://t.co/hR1z7vGDIL https://t.co/pDQ3wdr12U',\n",
       " '@jankibaat1: BIG BREAKING : \\n\\nSources tell Jan Ki Baat Congress might break away from Maha Aghadi alliance. \\n\\n#MaharashtraPolitics #Cong…',\n",
       " '@jankibaat1: BREAKING : \\n\\nEknath Shinde govt gets 164 votes, 20 votes more than majority number in the Mega Maharashtra Floor Test. \\n\\n#f…',\n",
       " '@jankibaat1: BREAKING : \\n\\nShinde govt crosses majority mark in Maharashtra Assembly. \\n\\n#MaharashtraPolitics #Eknath_Shinde @pradip103',\n",
       " '@jankibaat1: BREAKING :\\n\\nMaharashtra Floor Test : \\n\\n 110+ votes for Shinde camp now. \\n\\n#Eknath_Shinde #MaharashtraPolitics \\n@pradip103',\n",
       " '@jankibaat1: BREAKING : \\n\\nMaharashtra Floor Test : Uddhav Thackeray camp MLA vote for Eknath Shinde, dumps MVA. \\n\\nShinde camp bolts towa…',\n",
       " '@jankibaat1: BREAKING :\\n\\nEknath Shinde faces Trust vote in Maharashtra Assembly. Counting of votes are underway. \\n\\n#Eknath_Shinde #Mahar…',\n",
       " '@ndtv: 🔴#MaharashtraPolitics | Shiv Sena MLA Santosh Bangar, who was with the Uddhav camp till now, joins the Shinde camp',\n",
       " 'Maha CM Eknath Shinde wins House confidence with 164 votes.\\n\\nhttps://t.co/89I7wE8c3Z\\n\\n#deccannews #ekanthshinde #MaharashtraNews #MaharashtraPolitics #EknathShindeSaheb #latestpoliticalnews https://t.co/3xGl7OS13I',\n",
       " '@MirrorNow: #BreakingNews | Mirror Now spoke to #ShivSena MP @AGSawant about the split within the party. Listen in.\\n\\n| #Shivsena #Mahara…',\n",
       " 'Epic Troll by @annamalai_k 😂😂 on #MaharashtraPolitics ! https://t.co/rGfPCAn6o6',\n",
       " '@MirrorNow: #BreakingNews | Mirror Now spoke to #ShivSena MP @AGSawant about the split within the party. Listen in.\\n\\n| #Shivsena #Mahara…',\n",
       " 'Maharashtra govt belongs to common people where every community will be respected: CM Shinde (@mieknathshinde)\\n\\n#MaharashtraPolitics #Eknath_Shinde https://t.co/oiEmEBJ2Ux',\n",
       " 'Rama defeated Ravana but Vibhishana was throned as king at Lanka. \\n\\nCan you relate this incident?\\n\\nWho is Rama in this story &amp; who is Vibhishana?\\n\\n#MaharashtraPolitics',\n",
       " 'Maharashtra CM convoy accident Mr #EknathShinde is safe #MaharashtraPolitics #DevendraFadnavis @mieknathshinde @Dev_Fadnavis',\n",
       " 'Will president election break down @ShivSena completely ????\\n\\n#MaharashtraPolitics',\n",
       " '#EknathShinde: Man who stole the March - It was a resurgence of Hindutva from the land of Veer Lachit Borphukan to the land of Shivaji Maharaj\\nvia @eOrganiser https://t.co/h0PfRnjDy9 @mieknathshinde #MaharashtraPolitics',\n",
       " '@MirrorNow: #BreakingNews | Mirror Now spoke to #ShivSena MP @AGSawant about the split within the party. Listen in.\\n\\n| #Shivsena #Mahara…',\n",
       " 'After being a rickshaw driver, becoming the Chief Minister of Maharashtra is a big deal. i m realy happy for all marathi .\\n\\n@mieknathshinde\\n\\n#MaharashtraFirst #Eknath_Shinde #EknathSinde #eknathshindeCM #MaharashtraPolitics https://t.co/Ymvvdyv7eR',\n",
       " '@Outlookindia: No film perhaps has virtually predicted —and so pinpointedly— the rise of a politician less than two months after its rel…',\n",
       " '@ani_digital: Shinde expresses confidence of winning 200 seats with BJP in next assembly polls, says government will complete full term…',\n",
       " \"No film perhaps has virtually predicted —and so pinpointedly— the rise of a politician less than two months after its release, as #Marathi biopic 'Dharmaveer: Mukkam Post Thane' has done with #EknathShinde.\\n\\n#MarathiCinema #MaharashtraPolitics \\nhttps://t.co/UHMcKWfs5x\",\n",
       " 'https://t.co/yUWvBkFUBu - Can  BJP end parivarvad -can there be a Sena w/o Thackerays &amp; Cong w/o Gandhis. Can @yadavakhilesh hold onto SP strongholds #MaharashtraPolitics &amp; whonare dynasts who ve performed @ysjagan @Naveen_Odisha @mkstalin cc @IndiaNews_itv',\n",
       " '@Shinny4SSR @analyser_sk @ErayCr @SunainaHoley @MurliMenon6 @RDXThinksThat @withoutthemind @_PreetiPandey @mamta_kale @pradip103 @PrinceArihan Plus One☝🏽 \\nhumbly request these thinking hats to organize spaces &amp; say a few words on impact of #MaharashtraPolitics on Sushant Singh Rajput case✊🏽\\n@analyser_sk @ErayCr @SunainaHoley @MurliMenon6 \\n@RDXThinksThat @withoutthemind @_PreetiPandey @mamta_kale @pradip103 @PrinceArihan',\n",
       " \"@rahulshewale cites @ShivSena had supported UPAs Presidential nominees Pratibha Patil and Pranab Mukherjee in the past. Is Mr.Shewale sending a message to his party boss that 'yuti dharma' was not followed in the past with the @BJP4India on Prez elections? #MaharashtraPolitics\",\n",
       " '@Shinny4SSR: To discuss a variety of perspectives, but in a clear, conflict-free way of impact of #MaharashtraPolitics In SSR Case I hum…',\n",
       " '@AnisPFI: #EknathShinde becoming CM makes one thing clear...National Media did not have any idea of what was going to happen..They just…',\n",
       " \"#Maharashtra: @AmitShah's photo missing from @BJP4India banners in victory procession in #Nagpur for @Dev_Fadnavis  https://t.co/GtAXuuJU10 #MaharashtraPolitics\",\n",
       " '@ani_digital: Maharashtra to get some relief from skyrocketing fuel prices as CM Shinde announces to reduce VAT \\n\\nRead @ANI Story | http…',\n",
       " '@ndtv: #MaharashtraPolitics | \"We have given notices to disqualify all the MLAs who defied our whip; have not given his (Aaditya Thacker…',\n",
       " '@ani_digital: Shinde expresses confidence of winning 200 seats with BJP in next assembly polls, says government will complete full term…',\n",
       " '@ndtv: #LeftRightCentre | Prithviraj Chavan (@prithvrj), senior Congress leader and former Maharashtra Chief Minister, on #MaharashtraPo…',\n",
       " '@ndtv: #LeftRightCentre | Anand Dubey, Shiv Sena spokesperson, on #MaharashtraPolitics https://t.co/K69cSjsm7a',\n",
       " '@ndtv: #LeftRightCentre | \"In a democracy, such things happen. Can such a big group leave a party? There must have been something in the…',\n",
       " 'In The Politics Of Maharashtra TRAITOR, SELFISH,WHO?....\\n#MaharashtraPolitics\\n#UdhavThackeray #EknathSinde\\n#DevendraFadnavis .',\n",
       " 'What I understand is, Mr. Uday Samant supported the CM Eknath Shinde led rebel camp. Just wondering why the banner image is of Mr. Uddhav Thackeray? Any thought?\\n\\n#MaharashtraPolitcalCrisis #MaharashtraCrisis #Maharashtra #MaharashtraPoliticalCrisis #MaharashtraPolitics https://t.co/PiLii4oykh',\n",
       " '@ani_digital: Maharashtra to get some relief from skyrocketing fuel prices as CM Shinde announces to reduce VAT \\n\\nRead @ANI Story | http…',\n",
       " '@ndtv: #LeftRightCentre | Anand Dubey, Shiv Sena spokesperson, on #MaharashtraPolitics https://t.co/K69cSjsm7a',\n",
       " '@AbhinandanKaul: Heartiest Congratulations to Shri @Dev_Fadnavis Ji on taking oath as Maharashtra Deputy CM. Devendra ji has shown extre…',\n",
       " \"@indirabalaji: #GSTCouncil meeting is as political as it's economic; #MaharashtraPolitics has only worsened Centre-State trust deficit,…\",\n",
       " '@UNPTVIndia: STAY PUT STAY STRONG https://t.co/kFBcMWiDUx via @YouTube #MaharashtraCrisis #MahaAghadiRevolt #MaharashtraPolitics #MahaVi…',\n",
       " '@Shinny4SSR: To discuss a variety of perspectives, but in a clear, conflict-free way of impact of #MaharashtraPolitics In SSR Case I hum…',\n",
       " '@Shinny4SSR: To discuss a variety of perspectives, but in a clear, conflict-free way of impact of #MaharashtraPolitics In SSR Case I hum…',\n",
       " '@Shinny4SSR: To discuss a variety of perspectives, but in a clear, conflict-free way of impact of #MaharashtraPolitics In SSR Case I hum…',\n",
       " '@Shinny4SSR: To discuss a variety of perspectives, but in a clear, conflict-free way of impact of #MaharashtraPolitics In SSR Case I hum…',\n",
       " '#AjitPawar meets #Governor #BhagatSinghKoshyari\\n\\n#MaharashtraPolitics \\n\\nhttps://t.co/UtvkLUTOOR',\n",
       " '@gankitca: Congratulations @mieknathshinde @Dev_Fadnavis bhau for proving the majority on the floor of the house 🥳\\n#MaharashtraPolitics…',\n",
       " 'This was his first meeting with the Governor after taking charge as the Speaker. @rahulnarwekar @BSKoshyari @BJP4Maharashtra #laybharinews #laybhari #MaharashtraPolitics',\n",
       " '@gankitca: Congratulations @mieknathshinde @Dev_Fadnavis bhau for proving the majority on the floor of the house 🥳\\n#MaharashtraPolitics…',\n",
       " '@AwazThevoice: Shinde-led Maharashtra govt to face floor test today\\n\\n#MaharashtraPoliticalCrisis #MaharashtraPolitics #Maharashtra #Ekna…',\n",
       " '@AwazThevoice: Shinde-led Maharashtra govt to face floor test today\\n\\n#MaharashtraPoliticalCrisis #MaharashtraPolitics #Maharashtra #Ekna…',\n",
       " '@AwazThevoice: Shinde-led Maharashtra govt to face floor test today\\n\\n#MaharashtraPoliticalCrisis #MaharashtraPolitics #Maharashtra #Ekna…',\n",
       " '@iamkhan____143: CM of Maharashtra asking his junior should I get up sir. \\n\\n#MaharashtraPolitics #MaharashtraAssembly #EknathSinde #Deve…',\n",
       " 'CM of Maharashtra asking his junior should I get up sir. \\n\\n#MaharashtraPolitics #MaharashtraAssembly #EknathSinde #DevendraFadnavis https://t.co/qcxvIH03GR',\n",
       " '@AwazThevoice: Shinde-led Maharashtra govt to face floor test today\\n\\n#MaharashtraPoliticalCrisis #MaharashtraPolitics #Maharashtra #Ekna…',\n",
       " '@AwazThevoice: Shinde-led Maharashtra govt to face floor test today\\n\\n#MaharashtraPoliticalCrisis #MaharashtraPolitics #Maharashtra #Ekna…',\n",
       " 'Do you think Mr. Eknath Shinde will be able to make thane and Mumbai better places to live?\\n\\nto answer click on the below link\\n\\nhttps://t.co/VxPYTXGqLt\\n\\n#politics #MaharashtraPolitics  #EknathShinde #goverment https://t.co/tSPo2gyBu2',\n",
       " '@ani_digital: Shinde expresses confidence of winning 200 seats with BJP in next assembly polls, says government will complete full term…',\n",
       " '@a_sandhan: #Maharashtrapolitics\\n👉Is there a Maratha votebank\\n👉Does Maratha card of Sharad Pawar works\\n👉Is Sharad Pawar really such stro…',\n",
       " '@Shinny4SSR: To discuss a variety of perspectives, but in a clear, conflict-free way of impact of #MaharashtraPolitics In SSR Case I hum…',\n",
       " '@NewsArenaIndia He is the Real Legend of #MaharashtraPolitics',\n",
       " '@AwazThevoice: Shinde-led Maharashtra govt to face floor test today\\n\\n#MaharashtraPoliticalCrisis #MaharashtraPolitics #Maharashtra #Ekna…',\n",
       " '@AwazThevoice: Shinde-led Maharashtra govt to face floor test today\\n\\n#MaharashtraPoliticalCrisis #MaharashtraPolitics #Maharashtra #Ekna…',\n",
       " '@AwazThevoice: Shinde-led Maharashtra govt to face floor test today\\n\\n#MaharashtraPoliticalCrisis #MaharashtraPolitics #Maharashtra #Ekna…',\n",
       " '@Meeferns: Your Analysis was 💯 correct Sir.. hats off to you n your work!! @NSO365 #MaharashtraPolitics',\n",
       " \"@barandbench: Maharashtra crisis: Uddhav Thackeray camp moves Supreme Court against speaker's recognition of Bharat Gogawale as chief wh…\",\n",
       " '@AwazThevoice: Shinde-led Maharashtra govt to face floor test today\\n\\n#MaharashtraPoliticalCrisis #MaharashtraPolitics #Maharashtra #Ekna…',\n",
       " '@AnisPFI: #EknathShinde becoming CM makes one thing clear...National Media did not have any idea of what was going to happen..They just…',\n",
       " '@AwazThevoice: Shinde-led Maharashtra govt to face floor test today\\n\\n#MaharashtraPoliticalCrisis #MaharashtraPolitics #Maharashtra #Ekna…',\n",
       " '@ani_digital: Maharashtra to get some relief from skyrocketing fuel prices as CM Shinde announces to reduce VAT \\n\\nRead @ANI Story | http…',\n",
       " 'Shiv Sena MP #SanjayRaut said that the Uddhav Thackeray-led party will win more than 100 seats if mid-term polls are held now in #Maharashtra and claimed that people are angry against the rebel MLAs. \\n\\nRead at 👇\\nhttps://t.co/r8GtPy7xBu\\n\\n#MaharashtraPolitics #ShivSena',\n",
       " '@Shinny4SSR: To discuss a variety of perspectives, but in a clear, conflict-free way of impact of #MaharashtraPolitics In SSR Case I hum…',\n",
       " \"Still hopeful that rebel #MLAs will return, #UddhavThackeray 's #Shivsena always in talks with them: #SanjayRaut \\n#Maharashtra #MaharashtraPolitics #MaharashtraCrisis #shivsenacrisis @rautsanjay61 \\n\\nhttps://t.co/6ItU2gypn7\",\n",
       " '@Shinny4SSR: To discuss a variety of perspectives, but in a clear, conflict-free way of impact of #MaharashtraPolitics In SSR Case I hum…',\n",
       " '@ani_digital: Shinde expresses confidence of winning 200 seats with BJP in next assembly polls, says government will complete full term…',\n",
       " \"#MaharashtraPoliticalCrisis | #NCP's #AjitPawar to be Leader of opposition in #Maharashtra Assembly.\\n#MaharashtraPolitics #MaharashtraCrisis\\n#MaharashtraPoliticalTurmoil\",\n",
       " '@indiatvnews: #PMModi, #AmitShah have assured full support for Maharashtra development: CM #EknathShinde \\n\\n#shinde #MaharashtraPolitics…',\n",
       " '@indiatvnews: #PMModi, #AmitShah have assured full support for Maharashtra development: CM #EknathShinde \\n\\n#shinde #MaharashtraPolitics…',\n",
       " '#PMModi, #AmitShah have assured full support for Maharashtra development: CM #EknathShinde \\n\\n#shinde #MaharashtraPolitics \\n\\nhttps://t.co/GclgAdkQai',\n",
       " '@ndtv: #LeftRightCentre | Anand Dubey, Shiv Sena spokesperson, on #MaharashtraPolitics https://t.co/K69cSjsm7a',\n",
       " '#MaharashtraPoliticalCrisis |  @Twitter handle of Home Minister of #Maharashtra, still having DP of #NCP Leader D Walse Patil\\n\\n@CMOMaharashtra @mieknathshinde @Dev_Fadnavis #Shivsena @verified #MaharashtraPolitics #MaharashtraCrisis #MaharashtraPoliticalTurmoil https://t.co/mf1pjQkA8K',\n",
       " \"A Shining example of the BJP's concept of cooperative federalism: #MaharashtraPolitics https://t.co/WGoP4xR8RQ\",\n",
       " '@ani_digital: Shinde expresses confidence of winning 200 seats with BJP in next assembly polls, says government will complete full term…',\n",
       " '@AwazThevoice: Shinde-led Maharashtra govt to face floor test today\\n\\n#MaharashtraPoliticalCrisis #MaharashtraPolitics #Maharashtra #Ekna…',\n",
       " '@AwazThevoice: Shinde-led Maharashtra govt to face floor test today\\n\\n#MaharashtraPoliticalCrisis #MaharashtraPolitics #Maharashtra #Ekna…',\n",
       " '@ndtv: #MaharashtraPolitics | Maharashtra Chief Minister #EknathShinde along with his faction of Shiv Sena MLA holds a meeting with Depu…',\n",
       " '@AwazThevoice: Shinde-led Maharashtra govt to face floor test today\\n\\n#MaharashtraPoliticalCrisis #MaharashtraPolitics #Maharashtra #Ekna…',\n",
       " \"@ndtv: #MaharashtraPolitics | 120 votes in favour of BJP's Rahul Narvekar so far https://t.co/kbQA4Vv5N4 https://t.co/sfV96H96oW\",\n",
       " '@ndtv: 🔴 #MaharashtraPolitics | Team Shinde Wins Speaker Election Ahead Of No-Trust Vote https://t.co/kbQA4VM8P4 https://t.co/4Npngh3thI',\n",
       " '@AwazThevoice: Shinde-led Maharashtra govt to face floor test today\\n\\n#MaharashtraPoliticalCrisis #MaharashtraPolitics #Maharashtra #Ekna…',\n",
       " \"@sirajnoorani: If 'Shinde' had come to me and told me that you would make me CM by speaking to Uddhav ji, then I myself would have made…\",\n",
       " '@ani_digital: Maharashtra to get some relief from skyrocketing fuel prices as CM Shinde announces to reduce VAT \\n\\nRead @ANI Story | http…',\n",
       " '@AwazThevoice: Shinde-led Maharashtra govt to face floor test today\\n\\n#MaharashtraPoliticalCrisis #MaharashtraPolitics #Maharashtra #Ekna…',\n",
       " '@AwazThevoice: Shinde-led Maharashtra govt to face floor test today\\n\\n#MaharashtraPoliticalCrisis #MaharashtraPolitics #Maharashtra #Ekna…',\n",
       " '@ani_digital: Shinde expresses confidence of winning 200 seats with BJP in next assembly polls, says government will complete full term…']"
      ]
     },
     "execution_count": 190,
     "metadata": {},
     "output_type": "execute_result"
    }
   ],
   "source": [
    "list_of_tweets_05_07"
   ]
  },
  {
   "cell_type": "code",
   "execution_count": 191,
   "metadata": {},
   "outputs": [],
   "source": [
    "#list_of_tweets_29_06 = [re.sub('@[a-z]+: ', '', i) for i in list_of_tweets_29_06]\n",
    "list_of_tweets_05_07 = [re.sub('@[a-z,_,A-Z,0-9,:]+ ', '', i) for i in list_of_tweets_05_07]\n"
   ]
  },
  {
   "cell_type": "code",
   "execution_count": 192,
   "metadata": {},
   "outputs": [
    {
     "data": {
      "text/plain": [
       "['@mamta_kale…',\n",
       " 'To discuss a variety of perspectives, but in a clear, conflict-free way of impact of #MaharashtraPolitics In SSR Case I hum…',\n",
       " 'How did such a big change happen in #MaharashtraPolitics\\nBest explanation by the expert 👏\\nplease help catch #SushantSinghRajput Killers?\\nHar Har Mahadev 🙏🕉️\\n\\n@_PreetiPandey\\n@withoutthemind\\n\\nWatch👇\\n\\nhttps://t.co/UI4OX0B6ob',\n",
       " 'Sanjay raut : Ukhad diya\\nKarma : hold my drink please !!! \\n\\n#KanganaRanaut got poetic justice !!!\\n\\n🦍🦍\\n#MaharashtraPolitics…',\n",
       " '#BreakingNews | Mirror Now spoke to #ShivSena MP about the split within the party. Listen in.\\n\\n| #Shivsena #Mahara…',\n",
       " 'Eknath Shinde Backstabbed Me, Says Uddhav Thackeray\\n\\n#UddhavThackarey #EknathShinde #ShivSenaChief #ShindeBackstabbed #MaharashtraPolitics\\nhttps://t.co/hR1z7vGDIL https://t.co/pDQ3wdr12U',\n",
       " 'BIG BREAKING : \\n\\nSources tell Jan Ki Baat Congress might break away from Maha Aghadi alliance. \\n\\n#MaharashtraPolitics #Cong…',\n",
       " 'BREAKING : \\n\\nEknath Shinde govt gets 164 votes, 20 votes more than majority number in the Mega Maharashtra Floor Test. \\n\\n#f…',\n",
       " 'BREAKING : \\n\\nShinde govt crosses majority mark in Maharashtra Assembly. \\n\\n#MaharashtraPolitics #Eknath_Shinde @pradip103',\n",
       " 'BREAKING :\\n\\nMaharashtra Floor Test : \\n\\n 110+ votes for Shinde camp now. \\n\\n#Eknath_Shinde #MaharashtraPolitics \\n@pradip103',\n",
       " 'BREAKING : \\n\\nMaharashtra Floor Test : Uddhav Thackeray camp MLA vote for Eknath Shinde, dumps MVA. \\n\\nShinde camp bolts towa…',\n",
       " 'BREAKING :\\n\\nEknath Shinde faces Trust vote in Maharashtra Assembly. Counting of votes are underway. \\n\\n#Eknath_Shinde #Mahar…',\n",
       " '🔴#MaharashtraPolitics | Shiv Sena MLA Santosh Bangar, who was with the Uddhav camp till now, joins the Shinde camp',\n",
       " 'Maha CM Eknath Shinde wins House confidence with 164 votes.\\n\\nhttps://t.co/89I7wE8c3Z\\n\\n#deccannews #ekanthshinde #MaharashtraNews #MaharashtraPolitics #EknathShindeSaheb #latestpoliticalnews https://t.co/3xGl7OS13I',\n",
       " '#BreakingNews | Mirror Now spoke to #ShivSena MP about the split within the party. Listen in.\\n\\n| #Shivsena #Mahara…',\n",
       " 'Epic Troll by 😂😂 on #MaharashtraPolitics ! https://t.co/rGfPCAn6o6',\n",
       " '#BreakingNews | Mirror Now spoke to #ShivSena MP about the split within the party. Listen in.\\n\\n| #Shivsena #Mahara…',\n",
       " 'Maharashtra govt belongs to common people where every community will be respected: CM Shinde (@mieknathshinde)\\n\\n#MaharashtraPolitics #Eknath_Shinde https://t.co/oiEmEBJ2Ux',\n",
       " 'Rama defeated Ravana but Vibhishana was throned as king at Lanka. \\n\\nCan you relate this incident?\\n\\nWho is Rama in this story &amp; who is Vibhishana?\\n\\n#MaharashtraPolitics',\n",
       " 'Maharashtra CM convoy accident Mr #EknathShinde is safe #MaharashtraPolitics #DevendraFadnavis @Dev_Fadnavis',\n",
       " 'Will president election break down completely ????\\n\\n#MaharashtraPolitics',\n",
       " '#EknathShinde: Man who stole the March - It was a resurgence of Hindutva from the land of Veer Lachit Borphukan to the land of Shivaji Maharaj\\nvia https://t.co/h0PfRnjDy9 #MaharashtraPolitics',\n",
       " '#BreakingNews | Mirror Now spoke to #ShivSena MP about the split within the party. Listen in.\\n\\n| #Shivsena #Mahara…',\n",
       " 'After being a rickshaw driver, becoming the Chief Minister of Maharashtra is a big deal. i m realy happy for all marathi .\\n\\n@mieknathshinde\\n\\n#MaharashtraFirst #Eknath_Shinde #EknathSinde #eknathshindeCM #MaharashtraPolitics https://t.co/Ymvvdyv7eR',\n",
       " 'No film perhaps has virtually predicted —and so pinpointedly— the rise of a politician less than two months after its rel…',\n",
       " 'Shinde expresses confidence of winning 200 seats with BJP in next assembly polls, says government will complete full term…',\n",
       " \"No film perhaps has virtually predicted —and so pinpointedly— the rise of a politician less than two months after its release, as #Marathi biopic 'Dharmaveer: Mukkam Post Thane' has done with #EknathShinde.\\n\\n#MarathiCinema #MaharashtraPolitics \\nhttps://t.co/UHMcKWfs5x\",\n",
       " 'https://t.co/yUWvBkFUBu - Can  BJP end parivarvad -can there be a Sena w/o Thackerays &amp; Cong w/o Gandhis. Can hold onto SP strongholds #MaharashtraPolitics &amp; whonare dynasts who ve performed cc @IndiaNews_itv',\n",
       " 'Plus One☝🏽 \\nhumbly request these thinking hats to organize spaces &amp; say a few words on impact of #MaharashtraPolitics on Sushant Singh Rajput case✊🏽\\n\\n@PrinceArihan',\n",
       " \"cites had supported UPAs Presidential nominees Pratibha Patil and Pranab Mukherjee in the past. Is Mr.Shewale sending a message to his party boss that 'yuti dharma' was not followed in the past with the on Prez elections? #MaharashtraPolitics\",\n",
       " 'To discuss a variety of perspectives, but in a clear, conflict-free way of impact of #MaharashtraPolitics In SSR Case I hum…',\n",
       " '#EknathShinde becoming CM makes one thing clear...National Media did not have any idea of what was going to happen..They just…',\n",
       " \"#Maharashtra: @AmitShah's photo missing from banners in victory procession in #Nagpur for  https://t.co/GtAXuuJU10 #MaharashtraPolitics\",\n",
       " 'Maharashtra to get some relief from skyrocketing fuel prices as CM Shinde announces to reduce VAT \\n\\nRead Story | http…',\n",
       " '#MaharashtraPolitics | \"We have given notices to disqualify all the MLAs who defied our whip; have not given his (Aaditya Thacker…',\n",
       " 'Shinde expresses confidence of winning 200 seats with BJP in next assembly polls, says government will complete full term…',\n",
       " '#LeftRightCentre | Prithviraj Chavan (@prithvrj), senior Congress leader and former Maharashtra Chief Minister, on #MaharashtraPo…',\n",
       " '#LeftRightCentre | Anand Dubey, Shiv Sena spokesperson, on #MaharashtraPolitics https://t.co/K69cSjsm7a',\n",
       " '#LeftRightCentre | \"In a democracy, such things happen. Can such a big group leave a party? There must have been something in the…',\n",
       " 'In The Politics Of Maharashtra TRAITOR, SELFISH,WHO?....\\n#MaharashtraPolitics\\n#UdhavThackeray #EknathSinde\\n#DevendraFadnavis .',\n",
       " 'What I understand is, Mr. Uday Samant supported the CM Eknath Shinde led rebel camp. Just wondering why the banner image is of Mr. Uddhav Thackeray? Any thought?\\n\\n#MaharashtraPolitcalCrisis #MaharashtraCrisis #Maharashtra #MaharashtraPoliticalCrisis #MaharashtraPolitics https://t.co/PiLii4oykh',\n",
       " 'Maharashtra to get some relief from skyrocketing fuel prices as CM Shinde announces to reduce VAT \\n\\nRead Story | http…',\n",
       " '#LeftRightCentre | Anand Dubey, Shiv Sena spokesperson, on #MaharashtraPolitics https://t.co/K69cSjsm7a',\n",
       " 'Heartiest Congratulations to Shri Ji on taking oath as Maharashtra Deputy CM. Devendra ji has shown extre…',\n",
       " \"#GSTCouncil meeting is as political as it's economic; #MaharashtraPolitics has only worsened Centre-State trust deficit,…\",\n",
       " 'STAY PUT STAY STRONG https://t.co/kFBcMWiDUx via #MaharashtraCrisis #MahaAghadiRevolt #MaharashtraPolitics #MahaVi…',\n",
       " 'To discuss a variety of perspectives, but in a clear, conflict-free way of impact of #MaharashtraPolitics In SSR Case I hum…',\n",
       " 'To discuss a variety of perspectives, but in a clear, conflict-free way of impact of #MaharashtraPolitics In SSR Case I hum…',\n",
       " 'To discuss a variety of perspectives, but in a clear, conflict-free way of impact of #MaharashtraPolitics In SSR Case I hum…',\n",
       " 'To discuss a variety of perspectives, but in a clear, conflict-free way of impact of #MaharashtraPolitics In SSR Case I hum…',\n",
       " '#AjitPawar meets #Governor #BhagatSinghKoshyari\\n\\n#MaharashtraPolitics \\n\\nhttps://t.co/UtvkLUTOOR',\n",
       " 'Congratulations bhau for proving the majority on the floor of the house 🥳\\n#MaharashtraPolitics…',\n",
       " 'This was his first meeting with the Governor after taking charge as the Speaker. #laybharinews #laybhari #MaharashtraPolitics',\n",
       " 'Congratulations bhau for proving the majority on the floor of the house 🥳\\n#MaharashtraPolitics…',\n",
       " 'Shinde-led Maharashtra govt to face floor test today\\n\\n#MaharashtraPoliticalCrisis #MaharashtraPolitics #Maharashtra #Ekna…',\n",
       " 'Shinde-led Maharashtra govt to face floor test today\\n\\n#MaharashtraPoliticalCrisis #MaharashtraPolitics #Maharashtra #Ekna…',\n",
       " 'Shinde-led Maharashtra govt to face floor test today\\n\\n#MaharashtraPoliticalCrisis #MaharashtraPolitics #Maharashtra #Ekna…',\n",
       " 'CM of Maharashtra asking his junior should I get up sir. \\n\\n#MaharashtraPolitics #MaharashtraAssembly #EknathSinde #Deve…',\n",
       " 'CM of Maharashtra asking his junior should I get up sir. \\n\\n#MaharashtraPolitics #MaharashtraAssembly #EknathSinde #DevendraFadnavis https://t.co/qcxvIH03GR',\n",
       " 'Shinde-led Maharashtra govt to face floor test today\\n\\n#MaharashtraPoliticalCrisis #MaharashtraPolitics #Maharashtra #Ekna…',\n",
       " 'Shinde-led Maharashtra govt to face floor test today\\n\\n#MaharashtraPoliticalCrisis #MaharashtraPolitics #Maharashtra #Ekna…',\n",
       " 'Do you think Mr. Eknath Shinde will be able to make thane and Mumbai better places to live?\\n\\nto answer click on the below link\\n\\nhttps://t.co/VxPYTXGqLt\\n\\n#politics #MaharashtraPolitics  #EknathShinde #goverment https://t.co/tSPo2gyBu2',\n",
       " 'Shinde expresses confidence of winning 200 seats with BJP in next assembly polls, says government will complete full term…',\n",
       " '#Maharashtrapolitics\\n👉Is there a Maratha votebank\\n👉Does Maratha card of Sharad Pawar works\\n👉Is Sharad Pawar really such stro…',\n",
       " 'To discuss a variety of perspectives, but in a clear, conflict-free way of impact of #MaharashtraPolitics In SSR Case I hum…',\n",
       " 'He is the Real Legend of #MaharashtraPolitics',\n",
       " 'Shinde-led Maharashtra govt to face floor test today\\n\\n#MaharashtraPoliticalCrisis #MaharashtraPolitics #Maharashtra #Ekna…',\n",
       " 'Shinde-led Maharashtra govt to face floor test today\\n\\n#MaharashtraPoliticalCrisis #MaharashtraPolitics #Maharashtra #Ekna…',\n",
       " 'Shinde-led Maharashtra govt to face floor test today\\n\\n#MaharashtraPoliticalCrisis #MaharashtraPolitics #Maharashtra #Ekna…',\n",
       " 'Your Analysis was 💯 correct Sir.. hats off to you n your work!! #MaharashtraPolitics',\n",
       " \"Maharashtra crisis: Uddhav Thackeray camp moves Supreme Court against speaker's recognition of Bharat Gogawale as chief wh…\",\n",
       " 'Shinde-led Maharashtra govt to face floor test today\\n\\n#MaharashtraPoliticalCrisis #MaharashtraPolitics #Maharashtra #Ekna…',\n",
       " '#EknathShinde becoming CM makes one thing clear...National Media did not have any idea of what was going to happen..They just…',\n",
       " 'Shinde-led Maharashtra govt to face floor test today\\n\\n#MaharashtraPoliticalCrisis #MaharashtraPolitics #Maharashtra #Ekna…',\n",
       " 'Maharashtra to get some relief from skyrocketing fuel prices as CM Shinde announces to reduce VAT \\n\\nRead Story | http…',\n",
       " 'Shiv Sena MP #SanjayRaut said that the Uddhav Thackeray-led party will win more than 100 seats if mid-term polls are held now in #Maharashtra and claimed that people are angry against the rebel MLAs. \\n\\nRead at 👇\\nhttps://t.co/r8GtPy7xBu\\n\\n#MaharashtraPolitics #ShivSena',\n",
       " 'To discuss a variety of perspectives, but in a clear, conflict-free way of impact of #MaharashtraPolitics In SSR Case I hum…',\n",
       " \"Still hopeful that rebel #MLAs will return, #UddhavThackeray 's #Shivsena always in talks with them: #SanjayRaut \\n#Maharashtra #MaharashtraPolitics #MaharashtraCrisis #shivsenacrisis \\n\\nhttps://t.co/6ItU2gypn7\",\n",
       " 'To discuss a variety of perspectives, but in a clear, conflict-free way of impact of #MaharashtraPolitics In SSR Case I hum…',\n",
       " 'Shinde expresses confidence of winning 200 seats with BJP in next assembly polls, says government will complete full term…',\n",
       " \"#MaharashtraPoliticalCrisis | #NCP's #AjitPawar to be Leader of opposition in #Maharashtra Assembly.\\n#MaharashtraPolitics #MaharashtraCrisis\\n#MaharashtraPoliticalTurmoil\",\n",
       " '#PMModi, #AmitShah have assured full support for Maharashtra development: CM #EknathShinde \\n\\n#shinde #MaharashtraPolitics…',\n",
       " '#PMModi, #AmitShah have assured full support for Maharashtra development: CM #EknathShinde \\n\\n#shinde #MaharashtraPolitics…',\n",
       " '#PMModi, #AmitShah have assured full support for Maharashtra development: CM #EknathShinde \\n\\n#shinde #MaharashtraPolitics \\n\\nhttps://t.co/GclgAdkQai',\n",
       " '#LeftRightCentre | Anand Dubey, Shiv Sena spokesperson, on #MaharashtraPolitics https://t.co/K69cSjsm7a',\n",
       " '#MaharashtraPoliticalCrisis |  handle of Home Minister of #Maharashtra, still having DP of #NCP Leader D Walse Patil\\n\\n#Shivsena #MaharashtraPolitics #MaharashtraCrisis #MaharashtraPoliticalTurmoil https://t.co/mf1pjQkA8K',\n",
       " \"A Shining example of the BJP's concept of cooperative federalism: #MaharashtraPolitics https://t.co/WGoP4xR8RQ\",\n",
       " 'Shinde expresses confidence of winning 200 seats with BJP in next assembly polls, says government will complete full term…',\n",
       " 'Shinde-led Maharashtra govt to face floor test today\\n\\n#MaharashtraPoliticalCrisis #MaharashtraPolitics #Maharashtra #Ekna…',\n",
       " 'Shinde-led Maharashtra govt to face floor test today\\n\\n#MaharashtraPoliticalCrisis #MaharashtraPolitics #Maharashtra #Ekna…',\n",
       " '#MaharashtraPolitics | Maharashtra Chief Minister #EknathShinde along with his faction of Shiv Sena MLA holds a meeting with Depu…',\n",
       " 'Shinde-led Maharashtra govt to face floor test today\\n\\n#MaharashtraPoliticalCrisis #MaharashtraPolitics #Maharashtra #Ekna…',\n",
       " \"#MaharashtraPolitics | 120 votes in favour of BJP's Rahul Narvekar so far https://t.co/kbQA4Vv5N4 https://t.co/sfV96H96oW\",\n",
       " '🔴 #MaharashtraPolitics | Team Shinde Wins Speaker Election Ahead Of No-Trust Vote https://t.co/kbQA4VM8P4 https://t.co/4Npngh3thI',\n",
       " 'Shinde-led Maharashtra govt to face floor test today\\n\\n#MaharashtraPoliticalCrisis #MaharashtraPolitics #Maharashtra #Ekna…',\n",
       " \"If 'Shinde' had come to me and told me that you would make me CM by speaking to Uddhav ji, then I myself would have made…\",\n",
       " 'Maharashtra to get some relief from skyrocketing fuel prices as CM Shinde announces to reduce VAT \\n\\nRead Story | http…',\n",
       " 'Shinde-led Maharashtra govt to face floor test today\\n\\n#MaharashtraPoliticalCrisis #MaharashtraPolitics #Maharashtra #Ekna…',\n",
       " 'Shinde-led Maharashtra govt to face floor test today\\n\\n#MaharashtraPoliticalCrisis #MaharashtraPolitics #Maharashtra #Ekna…',\n",
       " 'Shinde expresses confidence of winning 200 seats with BJP in next assembly polls, says government will complete full term…']"
      ]
     },
     "execution_count": 192,
     "metadata": {},
     "output_type": "execute_result"
    }
   ],
   "source": [
    "list_of_tweets_05_07"
   ]
  },
  {
   "cell_type": "code",
   "execution_count": 180,
   "metadata": {},
   "outputs": [],
   "source": [
    "list_of_tweets_05_07 = [re.sub('https://t.co/[A-Z,a-z,0-9]+', '', i) for i in list_of_tweets_05_07]"
   ]
  },
  {
   "cell_type": "code",
   "execution_count": 193,
   "metadata": {},
   "outputs": [],
   "source": [
    "list_of_tweets_05_07 = [re.sub('\\n', ' ', i) for i in list_of_tweets_05_07]"
   ]
  },
  {
   "cell_type": "code",
   "execution_count": 194,
   "metadata": {},
   "outputs": [
    {
     "data": {
      "text/plain": [
       "['@mamta_kale…',\n",
       " 'To discuss a variety of perspectives, but in a clear, conflict-free way of impact of #MaharashtraPolitics In SSR Case I hum…',\n",
       " 'How did such a big change happen in #MaharashtraPolitics Best explanation by the expert 👏 please help catch #SushantSinghRajput Killers? Har Har Mahadev 🙏🕉️  @_PreetiPandey @withoutthemind  Watch👇  https://t.co/UI4OX0B6ob',\n",
       " 'Sanjay raut : Ukhad diya Karma : hold my drink please !!!   #KanganaRanaut got poetic justice !!!  🦍🦍 #MaharashtraPolitics…',\n",
       " '#BreakingNews | Mirror Now spoke to #ShivSena MP about the split within the party. Listen in.  | #Shivsena #Mahara…',\n",
       " 'Eknath Shinde Backstabbed Me, Says Uddhav Thackeray  #UddhavThackarey #EknathShinde #ShivSenaChief #ShindeBackstabbed #MaharashtraPolitics https://t.co/hR1z7vGDIL https://t.co/pDQ3wdr12U',\n",
       " 'BIG BREAKING :   Sources tell Jan Ki Baat Congress might break away from Maha Aghadi alliance.   #MaharashtraPolitics #Cong…',\n",
       " 'BREAKING :   Eknath Shinde govt gets 164 votes, 20 votes more than majority number in the Mega Maharashtra Floor Test.   #f…',\n",
       " 'BREAKING :   Shinde govt crosses majority mark in Maharashtra Assembly.   #MaharashtraPolitics #Eknath_Shinde @pradip103',\n",
       " 'BREAKING :  Maharashtra Floor Test :    110+ votes for Shinde camp now.   #Eknath_Shinde #MaharashtraPolitics  @pradip103',\n",
       " 'BREAKING :   Maharashtra Floor Test : Uddhav Thackeray camp MLA vote for Eknath Shinde, dumps MVA.   Shinde camp bolts towa…',\n",
       " 'BREAKING :  Eknath Shinde faces Trust vote in Maharashtra Assembly. Counting of votes are underway.   #Eknath_Shinde #Mahar…',\n",
       " '🔴#MaharashtraPolitics | Shiv Sena MLA Santosh Bangar, who was with the Uddhav camp till now, joins the Shinde camp',\n",
       " 'Maha CM Eknath Shinde wins House confidence with 164 votes.  https://t.co/89I7wE8c3Z  #deccannews #ekanthshinde #MaharashtraNews #MaharashtraPolitics #EknathShindeSaheb #latestpoliticalnews https://t.co/3xGl7OS13I',\n",
       " '#BreakingNews | Mirror Now spoke to #ShivSena MP about the split within the party. Listen in.  | #Shivsena #Mahara…',\n",
       " 'Epic Troll by 😂😂 on #MaharashtraPolitics ! https://t.co/rGfPCAn6o6',\n",
       " '#BreakingNews | Mirror Now spoke to #ShivSena MP about the split within the party. Listen in.  | #Shivsena #Mahara…',\n",
       " 'Maharashtra govt belongs to common people where every community will be respected: CM Shinde (@mieknathshinde)  #MaharashtraPolitics #Eknath_Shinde https://t.co/oiEmEBJ2Ux',\n",
       " 'Rama defeated Ravana but Vibhishana was throned as king at Lanka.   Can you relate this incident?  Who is Rama in this story &amp; who is Vibhishana?  #MaharashtraPolitics',\n",
       " 'Maharashtra CM convoy accident Mr #EknathShinde is safe #MaharashtraPolitics #DevendraFadnavis @Dev_Fadnavis',\n",
       " 'Will president election break down completely ????  #MaharashtraPolitics',\n",
       " '#EknathShinde: Man who stole the March - It was a resurgence of Hindutva from the land of Veer Lachit Borphukan to the land of Shivaji Maharaj via https://t.co/h0PfRnjDy9 #MaharashtraPolitics',\n",
       " '#BreakingNews | Mirror Now spoke to #ShivSena MP about the split within the party. Listen in.  | #Shivsena #Mahara…',\n",
       " 'After being a rickshaw driver, becoming the Chief Minister of Maharashtra is a big deal. i m realy happy for all marathi .  @mieknathshinde  #MaharashtraFirst #Eknath_Shinde #EknathSinde #eknathshindeCM #MaharashtraPolitics https://t.co/Ymvvdyv7eR',\n",
       " 'No film perhaps has virtually predicted —and so pinpointedly— the rise of a politician less than two months after its rel…',\n",
       " 'Shinde expresses confidence of winning 200 seats with BJP in next assembly polls, says government will complete full term…',\n",
       " \"No film perhaps has virtually predicted —and so pinpointedly— the rise of a politician less than two months after its release, as #Marathi biopic 'Dharmaveer: Mukkam Post Thane' has done with #EknathShinde.  #MarathiCinema #MaharashtraPolitics  https://t.co/UHMcKWfs5x\",\n",
       " 'https://t.co/yUWvBkFUBu - Can  BJP end parivarvad -can there be a Sena w/o Thackerays &amp; Cong w/o Gandhis. Can hold onto SP strongholds #MaharashtraPolitics &amp; whonare dynasts who ve performed cc @IndiaNews_itv',\n",
       " 'Plus One☝🏽  humbly request these thinking hats to organize spaces &amp; say a few words on impact of #MaharashtraPolitics on Sushant Singh Rajput case✊🏽  @PrinceArihan',\n",
       " \"cites had supported UPAs Presidential nominees Pratibha Patil and Pranab Mukherjee in the past. Is Mr.Shewale sending a message to his party boss that 'yuti dharma' was not followed in the past with the on Prez elections? #MaharashtraPolitics\",\n",
       " 'To discuss a variety of perspectives, but in a clear, conflict-free way of impact of #MaharashtraPolitics In SSR Case I hum…',\n",
       " '#EknathShinde becoming CM makes one thing clear...National Media did not have any idea of what was going to happen..They just…',\n",
       " \"#Maharashtra: @AmitShah's photo missing from banners in victory procession in #Nagpur for  https://t.co/GtAXuuJU10 #MaharashtraPolitics\",\n",
       " 'Maharashtra to get some relief from skyrocketing fuel prices as CM Shinde announces to reduce VAT   Read Story | http…',\n",
       " '#MaharashtraPolitics | \"We have given notices to disqualify all the MLAs who defied our whip; have not given his (Aaditya Thacker…',\n",
       " 'Shinde expresses confidence of winning 200 seats with BJP in next assembly polls, says government will complete full term…',\n",
       " '#LeftRightCentre | Prithviraj Chavan (@prithvrj), senior Congress leader and former Maharashtra Chief Minister, on #MaharashtraPo…',\n",
       " '#LeftRightCentre | Anand Dubey, Shiv Sena spokesperson, on #MaharashtraPolitics https://t.co/K69cSjsm7a',\n",
       " '#LeftRightCentre | \"In a democracy, such things happen. Can such a big group leave a party? There must have been something in the…',\n",
       " 'In The Politics Of Maharashtra TRAITOR, SELFISH,WHO?.... #MaharashtraPolitics #UdhavThackeray #EknathSinde #DevendraFadnavis .',\n",
       " 'What I understand is, Mr. Uday Samant supported the CM Eknath Shinde led rebel camp. Just wondering why the banner image is of Mr. Uddhav Thackeray? Any thought?  #MaharashtraPolitcalCrisis #MaharashtraCrisis #Maharashtra #MaharashtraPoliticalCrisis #MaharashtraPolitics https://t.co/PiLii4oykh',\n",
       " 'Maharashtra to get some relief from skyrocketing fuel prices as CM Shinde announces to reduce VAT   Read Story | http…',\n",
       " '#LeftRightCentre | Anand Dubey, Shiv Sena spokesperson, on #MaharashtraPolitics https://t.co/K69cSjsm7a',\n",
       " 'Heartiest Congratulations to Shri Ji on taking oath as Maharashtra Deputy CM. Devendra ji has shown extre…',\n",
       " \"#GSTCouncil meeting is as political as it's economic; #MaharashtraPolitics has only worsened Centre-State trust deficit,…\",\n",
       " 'STAY PUT STAY STRONG https://t.co/kFBcMWiDUx via #MaharashtraCrisis #MahaAghadiRevolt #MaharashtraPolitics #MahaVi…',\n",
       " 'To discuss a variety of perspectives, but in a clear, conflict-free way of impact of #MaharashtraPolitics In SSR Case I hum…',\n",
       " 'To discuss a variety of perspectives, but in a clear, conflict-free way of impact of #MaharashtraPolitics In SSR Case I hum…',\n",
       " 'To discuss a variety of perspectives, but in a clear, conflict-free way of impact of #MaharashtraPolitics In SSR Case I hum…',\n",
       " 'To discuss a variety of perspectives, but in a clear, conflict-free way of impact of #MaharashtraPolitics In SSR Case I hum…',\n",
       " '#AjitPawar meets #Governor #BhagatSinghKoshyari  #MaharashtraPolitics   https://t.co/UtvkLUTOOR',\n",
       " 'Congratulations bhau for proving the majority on the floor of the house 🥳 #MaharashtraPolitics…',\n",
       " 'This was his first meeting with the Governor after taking charge as the Speaker. #laybharinews #laybhari #MaharashtraPolitics',\n",
       " 'Congratulations bhau for proving the majority on the floor of the house 🥳 #MaharashtraPolitics…',\n",
       " 'Shinde-led Maharashtra govt to face floor test today  #MaharashtraPoliticalCrisis #MaharashtraPolitics #Maharashtra #Ekna…',\n",
       " 'Shinde-led Maharashtra govt to face floor test today  #MaharashtraPoliticalCrisis #MaharashtraPolitics #Maharashtra #Ekna…',\n",
       " 'Shinde-led Maharashtra govt to face floor test today  #MaharashtraPoliticalCrisis #MaharashtraPolitics #Maharashtra #Ekna…',\n",
       " 'CM of Maharashtra asking his junior should I get up sir.   #MaharashtraPolitics #MaharashtraAssembly #EknathSinde #Deve…',\n",
       " 'CM of Maharashtra asking his junior should I get up sir.   #MaharashtraPolitics #MaharashtraAssembly #EknathSinde #DevendraFadnavis https://t.co/qcxvIH03GR',\n",
       " 'Shinde-led Maharashtra govt to face floor test today  #MaharashtraPoliticalCrisis #MaharashtraPolitics #Maharashtra #Ekna…',\n",
       " 'Shinde-led Maharashtra govt to face floor test today  #MaharashtraPoliticalCrisis #MaharashtraPolitics #Maharashtra #Ekna…',\n",
       " 'Do you think Mr. Eknath Shinde will be able to make thane and Mumbai better places to live?  to answer click on the below link  https://t.co/VxPYTXGqLt  #politics #MaharashtraPolitics  #EknathShinde #goverment https://t.co/tSPo2gyBu2',\n",
       " 'Shinde expresses confidence of winning 200 seats with BJP in next assembly polls, says government will complete full term…',\n",
       " '#Maharashtrapolitics 👉Is there a Maratha votebank 👉Does Maratha card of Sharad Pawar works 👉Is Sharad Pawar really such stro…',\n",
       " 'To discuss a variety of perspectives, but in a clear, conflict-free way of impact of #MaharashtraPolitics In SSR Case I hum…',\n",
       " 'He is the Real Legend of #MaharashtraPolitics',\n",
       " 'Shinde-led Maharashtra govt to face floor test today  #MaharashtraPoliticalCrisis #MaharashtraPolitics #Maharashtra #Ekna…',\n",
       " 'Shinde-led Maharashtra govt to face floor test today  #MaharashtraPoliticalCrisis #MaharashtraPolitics #Maharashtra #Ekna…',\n",
       " 'Shinde-led Maharashtra govt to face floor test today  #MaharashtraPoliticalCrisis #MaharashtraPolitics #Maharashtra #Ekna…',\n",
       " 'Your Analysis was 💯 correct Sir.. hats off to you n your work!! #MaharashtraPolitics',\n",
       " \"Maharashtra crisis: Uddhav Thackeray camp moves Supreme Court against speaker's recognition of Bharat Gogawale as chief wh…\",\n",
       " 'Shinde-led Maharashtra govt to face floor test today  #MaharashtraPoliticalCrisis #MaharashtraPolitics #Maharashtra #Ekna…',\n",
       " '#EknathShinde becoming CM makes one thing clear...National Media did not have any idea of what was going to happen..They just…',\n",
       " 'Shinde-led Maharashtra govt to face floor test today  #MaharashtraPoliticalCrisis #MaharashtraPolitics #Maharashtra #Ekna…',\n",
       " 'Maharashtra to get some relief from skyrocketing fuel prices as CM Shinde announces to reduce VAT   Read Story | http…',\n",
       " 'Shiv Sena MP #SanjayRaut said that the Uddhav Thackeray-led party will win more than 100 seats if mid-term polls are held now in #Maharashtra and claimed that people are angry against the rebel MLAs.   Read at 👇 https://t.co/r8GtPy7xBu  #MaharashtraPolitics #ShivSena',\n",
       " 'To discuss a variety of perspectives, but in a clear, conflict-free way of impact of #MaharashtraPolitics In SSR Case I hum…',\n",
       " \"Still hopeful that rebel #MLAs will return, #UddhavThackeray 's #Shivsena always in talks with them: #SanjayRaut  #Maharashtra #MaharashtraPolitics #MaharashtraCrisis #shivsenacrisis   https://t.co/6ItU2gypn7\",\n",
       " 'To discuss a variety of perspectives, but in a clear, conflict-free way of impact of #MaharashtraPolitics In SSR Case I hum…',\n",
       " 'Shinde expresses confidence of winning 200 seats with BJP in next assembly polls, says government will complete full term…',\n",
       " \"#MaharashtraPoliticalCrisis | #NCP's #AjitPawar to be Leader of opposition in #Maharashtra Assembly. #MaharashtraPolitics #MaharashtraCrisis #MaharashtraPoliticalTurmoil\",\n",
       " '#PMModi, #AmitShah have assured full support for Maharashtra development: CM #EknathShinde   #shinde #MaharashtraPolitics…',\n",
       " '#PMModi, #AmitShah have assured full support for Maharashtra development: CM #EknathShinde   #shinde #MaharashtraPolitics…',\n",
       " '#PMModi, #AmitShah have assured full support for Maharashtra development: CM #EknathShinde   #shinde #MaharashtraPolitics   https://t.co/GclgAdkQai',\n",
       " '#LeftRightCentre | Anand Dubey, Shiv Sena spokesperson, on #MaharashtraPolitics https://t.co/K69cSjsm7a',\n",
       " '#MaharashtraPoliticalCrisis |  handle of Home Minister of #Maharashtra, still having DP of #NCP Leader D Walse Patil  #Shivsena #MaharashtraPolitics #MaharashtraCrisis #MaharashtraPoliticalTurmoil https://t.co/mf1pjQkA8K',\n",
       " \"A Shining example of the BJP's concept of cooperative federalism: #MaharashtraPolitics https://t.co/WGoP4xR8RQ\",\n",
       " 'Shinde expresses confidence of winning 200 seats with BJP in next assembly polls, says government will complete full term…',\n",
       " 'Shinde-led Maharashtra govt to face floor test today  #MaharashtraPoliticalCrisis #MaharashtraPolitics #Maharashtra #Ekna…',\n",
       " 'Shinde-led Maharashtra govt to face floor test today  #MaharashtraPoliticalCrisis #MaharashtraPolitics #Maharashtra #Ekna…',\n",
       " '#MaharashtraPolitics | Maharashtra Chief Minister #EknathShinde along with his faction of Shiv Sena MLA holds a meeting with Depu…',\n",
       " 'Shinde-led Maharashtra govt to face floor test today  #MaharashtraPoliticalCrisis #MaharashtraPolitics #Maharashtra #Ekna…',\n",
       " \"#MaharashtraPolitics | 120 votes in favour of BJP's Rahul Narvekar so far https://t.co/kbQA4Vv5N4 https://t.co/sfV96H96oW\",\n",
       " '🔴 #MaharashtraPolitics | Team Shinde Wins Speaker Election Ahead Of No-Trust Vote https://t.co/kbQA4VM8P4 https://t.co/4Npngh3thI',\n",
       " 'Shinde-led Maharashtra govt to face floor test today  #MaharashtraPoliticalCrisis #MaharashtraPolitics #Maharashtra #Ekna…',\n",
       " \"If 'Shinde' had come to me and told me that you would make me CM by speaking to Uddhav ji, then I myself would have made…\",\n",
       " 'Maharashtra to get some relief from skyrocketing fuel prices as CM Shinde announces to reduce VAT   Read Story | http…',\n",
       " 'Shinde-led Maharashtra govt to face floor test today  #MaharashtraPoliticalCrisis #MaharashtraPolitics #Maharashtra #Ekna…',\n",
       " 'Shinde-led Maharashtra govt to face floor test today  #MaharashtraPoliticalCrisis #MaharashtraPolitics #Maharashtra #Ekna…',\n",
       " 'Shinde expresses confidence of winning 200 seats with BJP in next assembly polls, says government will complete full term…']"
      ]
     },
     "execution_count": 194,
     "metadata": {},
     "output_type": "execute_result"
    }
   ],
   "source": [
    "list_of_tweets_05_07"
   ]
  },
  {
   "cell_type": "code",
   "execution_count": 195,
   "metadata": {},
   "outputs": [],
   "source": [
    "list_of_tweets_05_07_duplicates_removed = list(set(list_of_tweets_05_07))"
   ]
  },
  {
   "cell_type": "code",
   "execution_count": 196,
   "metadata": {
    "scrolled": true
   },
   "outputs": [],
   "source": [
    "tweets_05_07 = ' '.join(list_of_tweets_05_07_duplicates_removed)"
   ]
  },
  {
   "cell_type": "code",
   "execution_count": 130,
   "metadata": {},
   "outputs": [
    {
     "name": "stdout",
     "output_type": "stream",
     "text": [
      "Requirement already satisfied: vaderSentiment in c:\\users\\akshay\\anaconda3\\lib\\site-packages (3.3.2)\n",
      "Requirement already satisfied: requests in c:\\users\\akshay\\anaconda3\\lib\\site-packages (from vaderSentiment) (2.28.1)\n",
      "Requirement already satisfied: idna<4,>=2.5 in c:\\users\\akshay\\anaconda3\\lib\\site-packages (from requests->vaderSentiment) (2.10)\n",
      "Requirement already satisfied: urllib3<1.27,>=1.21.1 in c:\\users\\akshay\\anaconda3\\lib\\site-packages (from requests->vaderSentiment) (1.25.11)\n",
      "Requirement already satisfied: charset-normalizer<3,>=2 in c:\\users\\akshay\\anaconda3\\lib\\site-packages (from requests->vaderSentiment) (2.1.0)\n",
      "Requirement already satisfied: certifi>=2017.4.17 in c:\\users\\akshay\\anaconda3\\lib\\site-packages (from requests->vaderSentiment) (2020.6.20)\n"
     ]
    }
   ],
   "source": [
    "! pip install vaderSentiment"
   ]
  },
  {
   "cell_type": "code",
   "execution_count": 131,
   "metadata": {},
   "outputs": [],
   "source": [
    "from vaderSentiment.vaderSentiment import SentimentIntensityAnalyzer"
   ]
  },
  {
   "cell_type": "code",
   "execution_count": 132,
   "metadata": {},
   "outputs": [
    {
     "name": "stdout",
     "output_type": "stream",
     "text": [
      "Overall sentiment dictionary is :  {'neg': 0.103, 'neu': 0.76, 'pos': 0.138, 'compound': 0.9811}\n",
      "sentence was rated as  10.299999999999999 % Negative\n",
      "sentence was rated as  76.0 % Neutral\n",
      "sentence was rated as  13.8 % Positive\n",
      "Sentence Overall Rated As Positive\n"
     ]
    }
   ],
   "source": [
    "sid_obj = SentimentIntensityAnalyzer()\n",
    " \n",
    "    # polarity_scores method of SentimentIntensityAnalyzer\n",
    "    # object gives a sentiment dictionary.\n",
    "    # which contains pos, neg, neu, and compound scores.\n",
    "sentiment_dict = sid_obj.polarity_scores(tweets_02_07)\n",
    "     \n",
    "print(\"Overall sentiment dictionary is : \", sentiment_dict)\n",
    "print(\"sentence was rated as \", sentiment_dict['neg']*100, \"% Negative\")\n",
    "print(\"sentence was rated as \", sentiment_dict['neu']*100, \"% Neutral\")\n",
    "print(\"sentence was rated as \", sentiment_dict['pos']*100, \"% Positive\")\n",
    "print(\"Sentence Overall Rated As\", end = \" \")\n",
    "if sentiment_dict['compound'] >= 0.05 :\n",
    "    print(\"Positive\")\n",
    "\n",
    "elif sentiment_dict['compound'] <= - 0.05 :\n",
    "    print(\"Negative\")\n",
    "\n",
    "else :\n",
    "    print(\"Neutral\")"
   ]
  },
  {
   "cell_type": "code",
   "execution_count": 170,
   "metadata": {},
   "outputs": [
    {
     "name": "stdout",
     "output_type": "stream",
     "text": [
      "Overall sentiment dictionary is :  {'neg': 0.063, 'neu': 0.812, 'pos': 0.124, 'compound': 0.9976}\n",
      "sentence was rated as  6.3 % Negative\n",
      "sentence was rated as  81.2 % Neutral\n",
      "sentence was rated as  12.4 % Positive\n",
      "Sentence Overall Rated As Positive\n"
     ]
    }
   ],
   "source": [
    "sid_obj = SentimentIntensityAnalyzer()\n",
    " \n",
    "    # polarity_scores method of SentimentIntensityAnalyzer\n",
    "    # object gives a sentiment dictionary.\n",
    "    # which contains pos, neg, neu, and compound scores.\n",
    "sentiment_dict = sid_obj.polarity_scores(tweets_03_07)\n",
    "     \n",
    "print(\"Overall sentiment dictionary is : \", sentiment_dict)\n",
    "print(\"sentence was rated as \", sentiment_dict['neg']*100, \"% Negative\")\n",
    "print(\"sentence was rated as \", sentiment_dict['neu']*100, \"% Neutral\")\n",
    "print(\"sentence was rated as \", sentiment_dict['pos']*100, \"% Positive\")\n",
    "print(\"Sentence Overall Rated As\", end = \" \")\n",
    "if sentiment_dict['compound'] >= 0.05 :\n",
    "    print(\"Positive\")\n",
    "\n",
    "elif sentiment_dict['compound'] <= - 0.05 :\n",
    "    print(\"Negative\")\n",
    "\n",
    "else :\n",
    "    print(\"Neutral\")"
   ]
  },
  {
   "cell_type": "code",
   "execution_count": 185,
   "metadata": {},
   "outputs": [
    {
     "name": "stdout",
     "output_type": "stream",
     "text": [
      "Overall sentiment dictionary is :  {'neg': 0.047, 'neu': 0.842, 'pos': 0.111, 'compound': 0.9962}\n",
      "sentence was rated as  4.7 % Negative\n",
      "sentence was rated as  84.2 % Neutral\n",
      "sentence was rated as  11.1 % Positive\n",
      "Sentence Overall Rated As Positive\n"
     ]
    }
   ],
   "source": [
    "sid_obj = SentimentIntensityAnalyzer()\n",
    " \n",
    "    # polarity_scores method of SentimentIntensityAnalyzer\n",
    "    # object gives a sentiment dictionary.\n",
    "    # which contains pos, neg, neu, and compound scores.\n",
    "sentiment_dict = sid_obj.polarity_scores(tweets_04_07)\n",
    "     \n",
    "print(\"Overall sentiment dictionary is : \", sentiment_dict)\n",
    "print(\"sentence was rated as \", sentiment_dict['neg']*100, \"% Negative\")\n",
    "print(\"sentence was rated as \", sentiment_dict['neu']*100, \"% Neutral\")\n",
    "print(\"sentence was rated as \", sentiment_dict['pos']*100, \"% Positive\")\n",
    "print(\"Sentence Overall Rated As\", end = \" \")\n",
    "if sentiment_dict['compound'] >= 0.05 :\n",
    "    print(\"Positive\")\n",
    "\n",
    "elif sentiment_dict['compound'] <= - 0.05 :\n",
    "    print(\"Negative\")\n",
    "\n",
    "else :\n",
    "    print(\"Neutral\")"
   ]
  },
  {
   "cell_type": "code",
   "execution_count": 197,
   "metadata": {},
   "outputs": [
    {
     "name": "stdout",
     "output_type": "stream",
     "text": [
      "Overall sentiment dictionary is :  {'neg': 0.032, 'neu': 0.87, 'pos': 0.098, 'compound': 0.998}\n",
      "sentence was rated as  3.2 % Negative\n",
      "sentence was rated as  87.0 % Neutral\n",
      "sentence was rated as  9.8 % Positive\n",
      "Sentence Overall Rated As Positive\n"
     ]
    }
   ],
   "source": [
    "sid_obj = SentimentIntensityAnalyzer()\n",
    " \n",
    "    # polarity_scores method of SentimentIntensityAnalyzer\n",
    "    # object gives a sentiment dictionary.\n",
    "    # which contains pos, neg, neu, and compound scores.\n",
    "sentiment_dict = sid_obj.polarity_scores(tweets_05_07)\n",
    "     \n",
    "print(\"Overall sentiment dictionary is : \", sentiment_dict)\n",
    "print(\"sentence was rated as \", sentiment_dict['neg']*100, \"% Negative\")\n",
    "print(\"sentence was rated as \", sentiment_dict['neu']*100, \"% Neutral\")\n",
    "print(\"sentence was rated as \", sentiment_dict['pos']*100, \"% Positive\")\n",
    "print(\"Sentence Overall Rated As\", end = \" \")\n",
    "if sentiment_dict['compound'] >= 0.05 :\n",
    "    print(\"Positive\")\n",
    "\n",
    "elif sentiment_dict['compound'] <= - 0.05 :\n",
    "    print(\"Negative\")\n",
    "\n",
    "else :\n",
    "    print(\"Neutral\")"
   ]
  }
 ],
 "metadata": {
  "kernelspec": {
   "display_name": "Python 3",
   "language": "python",
   "name": "python3"
  },
  "language_info": {
   "codemirror_mode": {
    "name": "ipython",
    "version": 3
   },
   "file_extension": ".py",
   "mimetype": "text/x-python",
   "name": "python",
   "nbconvert_exporter": "python",
   "pygments_lexer": "ipython3",
   "version": "3.8.5"
  }
 },
 "nbformat": 4,
 "nbformat_minor": 4
}
