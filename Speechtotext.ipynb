{
  "nbformat": 4,
  "nbformat_minor": 0,
  "metadata": {
    "colab": {
      "name": "Speechtotext.ipynb",
      "provenance": []
    },
    "kernelspec": {
      "name": "python3",
      "display_name": "Python 3"
    }
  },
  "cells": [
    {
      "cell_type": "code",
      "metadata": {
        "id": "vU_eMPLMbV2b",
        "outputId": "19885023-778c-422f-986b-11dbc76c2e2d",
        "colab": {
          "base_uri": "https://localhost:8080/"
        }
      },
      "source": [
        "! pip3 install SpeechRecognition pydub"
      ],
      "execution_count": null,
      "outputs": [
        {
          "output_type": "stream",
          "text": [
            "Requirement already satisfied: SpeechRecognition in /usr/local/lib/python3.6/dist-packages (3.8.1)\n",
            "Requirement already satisfied: pydub in /usr/local/lib/python3.6/dist-packages (0.24.1)\n"
          ],
          "name": "stdout"
        }
      ]
    },
    {
      "cell_type": "markdown",
      "metadata": {
        "id": "ibpYddfDd7Us"
      },
      "source": [
        "1) CMU Sphinx (offline)\n",
        "\n",
        "2) Google Speech Recognition\n",
        "\n",
        "3) Google Cloud Speech API\n",
        "\n",
        "4) Wit.ai\n",
        "\n",
        "5) Microsoft Bing Voice Recognition\n",
        "\n",
        "6) Houndify API\n",
        "\n",
        "7) IBM Speech To Text\n",
        "\n",
        "8) Snowboy Hotword Detection (offline)\n"
      ]
    },
    {
      "cell_type": "code",
      "metadata": {
        "id": "GuhAgOzrcKG1"
      },
      "source": [
        "import speech_recognition as sr"
      ],
      "execution_count": null,
      "outputs": []
    },
    {
      "cell_type": "code",
      "metadata": {
        "id": "ArV_Nw3OcNe4"
      },
      "source": [
        "r = sr.Recognizer()"
      ],
      "execution_count": null,
      "outputs": []
    },
    {
      "cell_type": "code",
      "metadata": {
        "id": "03wcn-_De8mD"
      },
      "source": [
        "filename = \"bcd.wav\""
      ],
      "execution_count": null,
      "outputs": []
    },
    {
      "cell_type": "code",
      "metadata": {
        "id": "EkEY34uucfiF",
        "outputId": "ca9e64e0-6275-4e48-b722-40ee661b2470",
        "colab": {
          "base_uri": "https://localhost:8080/"
        }
      },
      "source": [
        "\n",
        "with sr.AudioFile(filename) as source:\n",
        "    audio_data = r.record(source)\n",
        "    text = r.recognize_google(audio_data)\n",
        "    print(text)"
      ],
      "execution_count": null,
      "outputs": [
        {
          "output_type": "stream",
          "text": [
            "kids are talkin by the door\n"
          ],
          "name": "stdout"
        }
      ]
    }
  ]
}