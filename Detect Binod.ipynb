{
 "cells": [
  {
   "cell_type": "code",
   "execution_count": 20,
   "metadata": {},
   "outputs": [],
   "source": [
    "import DetectBinod"
   ]
  },
  {
   "cell_type": "code",
   "execution_count": 9,
   "metadata": {},
   "outputs": [
    {
     "data": {
      "text/plain": [
       "['PdfFileReader',\n",
       " '__builtins__',\n",
       " '__cached__',\n",
       " '__doc__',\n",
       " '__file__',\n",
       " '__loader__',\n",
       " '__name__',\n",
       " '__package__',\n",
       " '__path__',\n",
       " '__spec__',\n",
       " 'docx',\n",
       " 'isBinod_docx',\n",
       " 'isBinod_pdf',\n",
       " 'isBinod_txt',\n",
       " 'isBinod_xlsx',\n",
       " 'status',\n",
       " 'xlrd']"
      ]
     },
     "execution_count": 9,
     "metadata": {},
     "output_type": "execute_result"
    }
   ],
   "source": [
    "dir(DetectBinod)"
   ]
  },
  {
   "cell_type": "code",
   "execution_count": 12,
   "metadata": {},
   "outputs": [
    {
     "name": "stdout",
     "output_type": "stream",
     "text": [
      "/home/akshay/Learning/AS\r\n"
     ]
    }
   ],
   "source": [
    "! pwd"
   ]
  },
  {
   "cell_type": "code",
   "execution_count": 21,
   "metadata": {},
   "outputs": [
    {
     "name": "stdout",
     "output_type": "stream",
     "text": [
      "Binod Found in file abc.docx\n"
     ]
    }
   ],
   "source": [
    "obj = DetectBinod.isBinod_docx('abc.docx')"
   ]
  },
  {
   "cell_type": "code",
   "execution_count": 16,
   "metadata": {},
   "outputs": [
    {
     "data": {
      "text/plain": [
       "['__class__',\n",
       " '__delattr__',\n",
       " '__dict__',\n",
       " '__dir__',\n",
       " '__doc__',\n",
       " '__eq__',\n",
       " '__format__',\n",
       " '__ge__',\n",
       " '__getattribute__',\n",
       " '__gt__',\n",
       " '__hash__',\n",
       " '__init__',\n",
       " '__init_subclass__',\n",
       " '__le__',\n",
       " '__lt__',\n",
       " '__module__',\n",
       " '__ne__',\n",
       " '__new__',\n",
       " '__reduce__',\n",
       " '__reduce_ex__',\n",
       " '__repr__',\n",
       " '__setattr__',\n",
       " '__sizeof__',\n",
       " '__str__',\n",
       " '__subclasshook__',\n",
       " '__weakref__',\n",
       " '_authenticateUserPassword',\n",
       " '_buildDestination',\n",
       " '_buildField',\n",
       " '_buildOutline',\n",
       " '_checkKids',\n",
       " '_decrypt',\n",
       " '_decryptObject',\n",
       " '_flatten',\n",
       " '_getObjectFromStream',\n",
       " '_getPageNumberByIndirect',\n",
       " '_override_encryption',\n",
       " '_pageId2Num',\n",
       " '_pairs',\n",
       " '_writeField',\n",
       " '_zeroXref',\n",
       " 'cacheGetIndirectObject',\n",
       " 'cacheIndirectObject',\n",
       " 'decrypt',\n",
       " 'documentInfo',\n",
       " 'flattenedPages',\n",
       " 'getDestinationPageNumber',\n",
       " 'getDocumentInfo',\n",
       " 'getFields',\n",
       " 'getFormTextFields',\n",
       " 'getIsEncrypted',\n",
       " 'getNamedDestinations',\n",
       " 'getNumPages',\n",
       " 'getObject',\n",
       " 'getOutlines',\n",
       " 'getPage',\n",
       " 'getPageLayout',\n",
       " 'getPageMode',\n",
       " 'getPageNumber',\n",
       " 'getXmpMetadata',\n",
       " 'isEncrypted',\n",
       " 'namedDestinations',\n",
       " 'numPages',\n",
       " 'outlines',\n",
       " 'pageLayout',\n",
       " 'pageMode',\n",
       " 'pages',\n",
       " 'read',\n",
       " 'readNextEndLine',\n",
       " 'readObjectHeader',\n",
       " 'resolvedObjects',\n",
       " 'stream',\n",
       " 'strict',\n",
       " 'trailer',\n",
       " 'xmpMetadata',\n",
       " 'xref',\n",
       " 'xrefIndex',\n",
       " 'xref_objStm']"
      ]
     },
     "execution_count": 16,
     "metadata": {},
     "output_type": "execute_result"
    }
   ],
   "source": [
    "dir(obj)"
   ]
  },
  {
   "cell_type": "code",
   "execution_count": 22,
   "metadata": {},
   "outputs": [],
   "source": [
    "import os"
   ]
  },
  {
   "cell_type": "code",
   "execution_count": 23,
   "metadata": {},
   "outputs": [],
   "source": [
    "obj = os.listdir();"
   ]
  },
  {
   "cell_type": "code",
   "execution_count": 24,
   "metadata": {},
   "outputs": [
    {
     "name": "stdout",
     "output_type": "stream",
     "text": [
      "['OCR .ipynb', 'exaplainable AI.jpeg', 'prediction 1.jpeg', 'Gensim hindi tutorials', '2020-07-18 12-15-43.mkv', '.~lock.abc.docx#', 'abc.docx', 'Subscribe_to_My_Think_Channel_on_YouTube.gif', 'ytlogo.png', 'anomaly.jpeg', 'Untitled1.ipynb', 'abc.pdf', 'Screenshot from 2020-07-16 10-56-01.png', 'download.jpeg', 'Youtube video analytics.ipynb', 'like.jpg', 'abc.txt', 'prediction 2.jpeg', 'Screenshot from 2020-07-16 12-42-56.png', 'Untitled.ipynb', 'Blackrock2.mp4', 'Screenshot from 2020-07-16 10-54-11.png', 'Screenshot from 2020-07-16 10-54-43.png', 'share.jpg', 'Screenshot from 2020-07-16 10-55-00.png', 'ASlogo.jpg', '.ipynb_checkpoints', 'Screenshot from 2020-07-16 10-53-21.png', 'Detect Binod.ipynb', 'gensim.png', 'sentiment.jpeg', 'Black_plain.jpeg']\n"
     ]
    }
   ],
   "source": [
    "print(obj)"
   ]
  },
  {
   "cell_type": "code",
   "execution_count": 27,
   "metadata": {},
   "outputs": [
    {
     "name": "stdout",
     "output_type": "stream",
     "text": [
      "Detecting Binod in abc.txt\n",
      "Binod is not detected\n"
     ]
    }
   ],
   "source": [
    "def checkBinod(i):\n",
    "    with open(i,\"r\") as f:\n",
    "        data = f.read()\n",
    "        if \"binod\" in data.lower():\n",
    "            return True\n",
    "        else:\n",
    "            return False\n",
    "\n",
    "for i in obj:\n",
    "    if i.endswith('txt'):\n",
    "        print(f\"Detecting Binod in {i}\")\n",
    "        \n",
    "        flag = checkBinod(i)\n",
    "        \n",
    "        if flag == True :\n",
    "            print(\"Binod is detected\")\n",
    "        else:\n",
    "            print(\"Binod is not detected\")"
   ]
  },
  {
   "cell_type": "code",
   "execution_count": null,
   "metadata": {},
   "outputs": [],
   "source": []
  }
 ],
 "metadata": {
  "kernelspec": {
   "display_name": "Python 3",
   "language": "python",
   "name": "python3"
  },
  "language_info": {
   "codemirror_mode": {
    "name": "ipython",
    "version": 3
   },
   "file_extension": ".py",
   "mimetype": "text/x-python",
   "name": "python",
   "nbconvert_exporter": "python",
   "pygments_lexer": "ipython3",
   "version": "3.7.4"
  }
 },
 "nbformat": 4,
 "nbformat_minor": 2
}
