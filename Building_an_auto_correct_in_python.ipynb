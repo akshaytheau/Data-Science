{
  "nbformat": 4,
  "nbformat_minor": 0,
  "metadata": {
    "colab": {
      "name": "Building an auto correct in python.ipynb",
      "provenance": []
    },
    "kernelspec": {
      "name": "python3",
      "display_name": "Python 3"
    },
    "language_info": {
      "name": "python"
    }
  },
  "cells": [
    {
      "cell_type": "markdown",
      "metadata": {
        "id": "rPFzEHfSpyIl"
      },
      "source": [
        "#Installing the required packages"
      ]
    },
    {
      "cell_type": "code",
      "metadata": {
        "colab": {
          "base_uri": "https://localhost:8080/"
        },
        "id": "hGU_V6CypHMv",
        "outputId": "e569cfca-6fe9-4fb8-c003-52cd06b84f4f"
      },
      "source": [
        "! pip install pyspellchecker"
      ],
      "execution_count": 2,
      "outputs": [
        {
          "output_type": "stream",
          "text": [
            "Collecting pyspellchecker\n",
            "\u001b[?25l  Downloading https://files.pythonhosted.org/packages/64/c7/435f49c0ac6bec031d1aba4daf94dc21dc08a9db329692cdb77faac51cea/pyspellchecker-0.6.2-py3-none-any.whl (2.7MB)\n",
            "\u001b[K     |████████████████████████████████| 2.7MB 3.3MB/s \n",
            "\u001b[?25hInstalling collected packages: pyspellchecker\n",
            "Successfully installed pyspellchecker-0.6.2\n"
          ],
          "name": "stdout"
        }
      ]
    },
    {
      "cell_type": "markdown",
      "metadata": {
        "id": "y966QZZqqKUV"
      },
      "source": [
        "#Coding"
      ]
    },
    {
      "cell_type": "code",
      "metadata": {
        "colab": {
          "base_uri": "https://localhost:8080/"
        },
        "id": "qfjt4IXRpusJ",
        "outputId": "4a8916e9-23a9-432c-812f-9e4f6de6d121"
      },
      "source": [
        "from spellchecker import SpellChecker\n",
        "\n",
        "spell = SpellChecker()\n",
        "\n",
        "text = \"Dataa scienttist is a very promising career.\"\n",
        "\n",
        "dict_of_autocorrect_words = {}\n",
        "for i in spell.unknown(text.split()):\n",
        "    dict_of_autocorrect_words[i] = spell.correction(i)\n",
        "\n",
        "print(f'The AUTOCORRECT suggestions are Mis-spelled words are {dict_of_autocorrect_words}')\n",
        "\n",
        "temp = text.split()\n",
        "res = []\n",
        "for wrd in temp:\n",
        "      \n",
        "    res.append(dict_of_autocorrect_words.get(wrd, wrd))\n",
        "      \n",
        "res = ' '.join(res)\n",
        "\n",
        "print(res)\n",
        "\n"
      ],
      "execution_count": 7,
      "outputs": [
        {
          "output_type": "stream",
          "text": [
            "The AUTOCORRECT suggestions are Mis-spelled words are {'dataa': 'data', 'scienttist': 'scientist', 'career.': 'career'}\n",
            "Dataa scientist is a very promising career\n"
          ],
          "name": "stdout"
        }
      ]
    }
  ]
}