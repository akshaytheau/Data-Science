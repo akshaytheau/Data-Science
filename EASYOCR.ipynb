{
  "nbformat": 4,
  "nbformat_minor": 0,
  "metadata": {
    "colab": {
      "name": "EASYOCR.ipynb",
      "provenance": []
    },
    "kernelspec": {
      "name": "python3",
      "display_name": "Python 3"
    },
    "accelerator": "GPU"
  },
  "cells": [
    {
      "cell_type": "code",
      "metadata": {
        "id": "uzDgba2kA7-H"
      },
      "source": [
        "!pip install easyocr"
      ],
      "execution_count": null,
      "outputs": []
    },
    {
      "cell_type": "code",
      "metadata": {
        "id": "lQTweZRm2lPy",
        "colab": {
          "base_uri": "https://localhost:8080/",
          "height": 547
        },
        "outputId": "d414e530-d239-43fb-fb43-833010ad35e8"
      },
      "source": [
        "!pip install git+git://github.com/jaidedai/easyocr.git"
      ],
      "execution_count": null,
      "outputs": [
        {
          "output_type": "stream",
          "text": [
            "Collecting git+git://github.com/jaidedai/easyocr.git\n",
            "  Cloning git://github.com/jaidedai/easyocr.git to /tmp/pip-req-build-u67pnnnp\n",
            "  Running command git clone -q git://github.com/jaidedai/easyocr.git /tmp/pip-req-build-u67pnnnp\n",
            "Requirement already satisfied: torch in /usr/local/lib/python3.6/dist-packages (from easyocr==1.1.5) (1.6.0+cu101)\n",
            "Requirement already satisfied: torchvision>=0.5 in /usr/local/lib/python3.6/dist-packages (from easyocr==1.1.5) (0.7.0+cu101)\n",
            "Requirement already satisfied: opencv-python in /usr/local/lib/python3.6/dist-packages (from easyocr==1.1.5) (4.1.2.30)\n",
            "Requirement already satisfied: scipy in /usr/local/lib/python3.6/dist-packages (from easyocr==1.1.5) (1.4.1)\n",
            "Requirement already satisfied: numpy in /usr/local/lib/python3.6/dist-packages (from easyocr==1.1.5) (1.18.5)\n",
            "Requirement already satisfied: Pillow in /usr/local/lib/python3.6/dist-packages (from easyocr==1.1.5) (7.0.0)\n",
            "Requirement already satisfied: scikit-image in /usr/local/lib/python3.6/dist-packages (from easyocr==1.1.5) (0.16.2)\n",
            "Collecting python-bidi\n",
            "  Downloading https://files.pythonhosted.org/packages/33/b0/f942d146a2f457233baaafd6bdf624eba8e0f665045b4abd69d1b62d097d/python_bidi-0.4.2-py2.py3-none-any.whl\n",
            "Requirement already satisfied: future in /usr/local/lib/python3.6/dist-packages (from torch->easyocr==1.1.5) (0.16.0)\n",
            "Requirement already satisfied: matplotlib!=3.0.0,>=2.0.0 in /usr/local/lib/python3.6/dist-packages (from scikit-image->easyocr==1.1.5) (3.2.2)\n",
            "Requirement already satisfied: PyWavelets>=0.4.0 in /usr/local/lib/python3.6/dist-packages (from scikit-image->easyocr==1.1.5) (1.1.1)\n",
            "Requirement already satisfied: networkx>=2.0 in /usr/local/lib/python3.6/dist-packages (from scikit-image->easyocr==1.1.5) (2.4)\n",
            "Requirement already satisfied: imageio>=2.3.0 in /usr/local/lib/python3.6/dist-packages (from scikit-image->easyocr==1.1.5) (2.4.1)\n",
            "Requirement already satisfied: six in /usr/local/lib/python3.6/dist-packages (from python-bidi->easyocr==1.1.5) (1.15.0)\n",
            "Requirement already satisfied: pyparsing!=2.0.4,!=2.1.2,!=2.1.6,>=2.0.1 in /usr/local/lib/python3.6/dist-packages (from matplotlib!=3.0.0,>=2.0.0->scikit-image->easyocr==1.1.5) (2.4.7)\n",
            "Requirement already satisfied: python-dateutil>=2.1 in /usr/local/lib/python3.6/dist-packages (from matplotlib!=3.0.0,>=2.0.0->scikit-image->easyocr==1.1.5) (2.8.1)\n",
            "Requirement already satisfied: kiwisolver>=1.0.1 in /usr/local/lib/python3.6/dist-packages (from matplotlib!=3.0.0,>=2.0.0->scikit-image->easyocr==1.1.5) (1.2.0)\n",
            "Requirement already satisfied: cycler>=0.10 in /usr/local/lib/python3.6/dist-packages (from matplotlib!=3.0.0,>=2.0.0->scikit-image->easyocr==1.1.5) (0.10.0)\n",
            "Requirement already satisfied: decorator>=4.3.0 in /usr/local/lib/python3.6/dist-packages (from networkx>=2.0->scikit-image->easyocr==1.1.5) (4.4.2)\n",
            "Building wheels for collected packages: easyocr\n",
            "  Building wheel for easyocr (setup.py) ... \u001b[?25l\u001b[?25hdone\n",
            "  Created wheel for easyocr: filename=easyocr-1.1.5-cp36-none-any.whl size=48395036 sha256=df87afa0881b1e899e2aa63d10b9ac77ec94b92b842bc20c251d4bc378dcdea8\n",
            "  Stored in directory: /tmp/pip-ephem-wheel-cache-voxdxzot/wheels/e8/77/61/a2618f4b50cdf417e0f3fd201f9814addc89e429bf05103fb3\n",
            "Successfully built easyocr\n",
            "Installing collected packages: python-bidi, easyocr\n",
            "Successfully installed easyocr-1.1.5 python-bidi-0.4.2\n"
          ],
          "name": "stdout"
        }
      ]
    },
    {
      "cell_type": "code",
      "metadata": {
        "id": "HiEh-vXoBU1T"
      },
      "source": [
        "import matplotlib.pyplot as plt\n",
        "import cv2\n",
        "import easyocr\n",
        "from pylab import rcParams\n",
        "from IPython.display import Image\n",
        "rcParams['figure.figsize'] = 8, 16"
      ],
      "execution_count": null,
      "outputs": []
    },
    {
      "cell_type": "code",
      "metadata": {
        "id": "QmWnewKsBt5b"
      },
      "source": [
        "reader = easyocr.Reader(['en'])"
      ],
      "execution_count": null,
      "outputs": []
    }
  ]
}