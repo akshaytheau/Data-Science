{
  "nbformat": 4,
  "nbformat_minor": 0,
  "metadata": {
    "colab": {
      "provenance": []
    },
    "kernelspec": {
      "name": "python3",
      "display_name": "Python 3"
    },
    "language_info": {
      "name": "python"
    }
  },
  "cells": [
    {
      "cell_type": "code",
      "execution_count": 1,
      "metadata": {
        "colab": {
          "base_uri": "https://localhost:8080/"
        },
        "id": "sTrQ_CpRzVwJ",
        "outputId": "5b5223b5-147f-4a31-9b36-aa5a43076aaa"
      },
      "outputs": [
        {
          "output_type": "stream",
          "name": "stdout",
          "text": [
            "Collecting Faker\n",
            "  Downloading Faker-19.3.1-py3-none-any.whl (1.7 MB)\n",
            "\u001b[2K     \u001b[90m━━━━━━━━━━━━━━━━━━━━━━━━━━━━━━━━━━━━━━━━\u001b[0m \u001b[32m1.7/1.7 MB\u001b[0m \u001b[31m6.3 MB/s\u001b[0m eta \u001b[36m0:00:00\u001b[0m\n",
            "\u001b[?25hRequirement already satisfied: python-dateutil>=2.4 in /usr/local/lib/python3.10/dist-packages (from Faker) (2.8.2)\n",
            "Requirement already satisfied: six>=1.5 in /usr/local/lib/python3.10/dist-packages (from python-dateutil>=2.4->Faker) (1.16.0)\n",
            "Installing collected packages: Faker\n",
            "Successfully installed Faker-19.3.1\n"
          ]
        }
      ],
      "source": [
        "! pip install Faker"
      ]
    },
    {
      "cell_type": "code",
      "source": [
        "from faker import Faker\n",
        "import random\n",
        "fake = Faker()\n",
        "\n",
        "fake.name()"
      ],
      "metadata": {
        "colab": {
          "base_uri": "https://localhost:8080/",
          "height": 35
        },
        "id": "VchA_8xuzcP3",
        "outputId": "e0a3b8cf-1a82-44e8-bc24-cd4c601d1eb2"
      },
      "execution_count": 2,
      "outputs": [
        {
          "output_type": "execute_result",
          "data": {
            "text/plain": [
              "'Lori King'"
            ],
            "application/vnd.google.colaboratory.intrinsic+json": {
              "type": "string"
            }
          },
          "metadata": {},
          "execution_count": 2
        }
      ]
    },
    {
      "cell_type": "code",
      "source": [
        "for _ in range(10):\n",
        "  print(fake.name())"
      ],
      "metadata": {
        "colab": {
          "base_uri": "https://localhost:8080/"
        },
        "id": "DfnIqUE3z-J2",
        "outputId": "f3fed402-2b80-4569-ee20-6d664962fcd3"
      },
      "execution_count": 3,
      "outputs": [
        {
          "output_type": "stream",
          "name": "stdout",
          "text": [
            "Adriana Ortiz\n",
            "Kevin Schmidt\n",
            "Donna Simpson\n",
            "Diana Wilkins\n",
            "Melissa Maxwell\n",
            "Tiffany Lawson\n",
            "Toni Evans\n",
            "Eric Barber\n",
            "Richard Nelson\n",
            "Jeremy Newton\n"
          ]
        }
      ]
    },
    {
      "cell_type": "code",
      "source": [
        "for _ in range(10):\n",
        "  print(fake.address())"
      ],
      "metadata": {
        "colab": {
          "base_uri": "https://localhost:8080/"
        },
        "id": "8_RB2Rvc0VF0",
        "outputId": "df9f8e2c-c6cc-4bd4-d2bc-5c85486f0f1c"
      },
      "execution_count": 4,
      "outputs": [
        {
          "output_type": "stream",
          "name": "stdout",
          "text": [
            "788 Jennings Mews Suite 920\n",
            "Lake Paulland, VT 90815\n",
            "54950 James Walks Suite 257\n",
            "Taylorshire, GU 36681\n",
            "7619 Parker Greens\n",
            "Christineborough, MT 18800\n",
            "04807 Barajas Spurs\n",
            "Lynchbury, CT 07400\n",
            "9534 Park Village\n",
            "Brownstad, VT 17864\n",
            "24462 Nicole Drive\n",
            "Alyssaview, LA 83416\n",
            "1653 Cory Plains\n",
            "Port Joanton, MS 21446\n",
            "654 Wiley Valleys\n",
            "Lake Michael, ID 56190\n",
            "9891 Cross Green Suite 631\n",
            "West Gloriatown, KS 62155\n",
            "3360 Katie Walks Suite 289\n",
            "Boydland, PW 37565\n"
          ]
        }
      ]
    },
    {
      "cell_type": "code",
      "source": [
        "for _ in range(10):\n",
        "  print(fake.text())"
      ],
      "metadata": {
        "colab": {
          "base_uri": "https://localhost:8080/"
        },
        "id": "6J8VyxCq0t8Z",
        "outputId": "0e28c2bd-19a4-4d35-f3c2-5fca3b88b7af"
      },
      "execution_count": 5,
      "outputs": [
        {
          "output_type": "stream",
          "name": "stdout",
          "text": [
            "Data expert hundred full deal teach letter. Probably apply score democratic officer pick.\n",
            "Mr six arm dinner matter. Push interesting song two someone center.\n",
            "Imagine although tree name build. Would scientist suddenly travel movie. Decision standard free staff.\n",
            "Sure subject anyone woman. Tough common draw leg ability pattern reduce.\n",
            "Sell rather including. Skill draw property environmental price. Challenge still assume firm cell thank miss.\n",
            "Story fish employee test coach industry community. More and hour around wide. These assume worker surface.\n",
            "Want author focus again. Majority read bring school if.\n",
            "Blood field mission care animal seem bed. Base least age shake.\n",
            "Personal myself toward dinner control experience remember. Friend lead share camera wind.\n",
            "Citizen second close stay success protect prepare.\n",
            "Dog exactly media lose none. Short expect great step trouble even go nor. Edge nation make decide material international me hear.\n",
            "Organization whole enough hit threat. Environment scientist get person page several financial. Market scientist foot beautiful on world moment.\n",
            "Tv paper argue hold lot cause. Car option on lay well.\n",
            "Learn new modern decide top. Point perform theory explain oil western.\n",
            "Key try economic place open right. Seem lead within traditional rise bit.\n",
            "Factor tell get ahead really daughter they. Impact southern city sing.\n",
            "Risk well close.\n",
            "White example behind responsibility agent send paper. News hot world down join.\n",
            "Send memory ever responsibility. Time show small return. These moment fund east focus husband term.\n"
          ]
        }
      ]
    },
    {
      "cell_type": "code",
      "source": [
        "from faker import Faker\n",
        "fake = Faker('it_IT')\n",
        "for _ in range(5):\n",
        "    print(fake.name())"
      ],
      "metadata": {
        "id": "Hh3Nap_e03OI",
        "colab": {
          "base_uri": "https://localhost:8080/"
        },
        "outputId": "a6b25f5e-5e9b-4911-c195-671ed40bfb71"
      },
      "execution_count": 6,
      "outputs": [
        {
          "output_type": "stream",
          "name": "stdout",
          "text": [
            "Sig. Maurilio Ariasso\n",
            "Paulina Pisaroni\n",
            "Teresa Fiorucci\n",
            "Ramona Tedesco\n",
            "Pomponio Accardo\n"
          ]
        }
      ]
    },
    {
      "cell_type": "code",
      "source": [
        "import pandas as pd"
      ],
      "metadata": {
        "id": "-YqvOP54SH2X"
      },
      "execution_count": 7,
      "outputs": []
    },
    {
      "cell_type": "code",
      "source": [
        "def employee_dataset():\n",
        "  final_list = []\n",
        "  list_of_employee_names = [fake.name() for _ in range(10)]\n",
        "  list_of_employee_address = [fake.address() for _ in range(10)]\n",
        "  list_of_employee_phone_no = [fake.phone_number() for _ in range(10)]\n",
        "  list_of_employee_salary = [random.randint(30000,500000) for i in range(10)]\n",
        "  return pd.DataFrame({'Employee_name':list_of_employee_names,'Employee_address':list_of_employee_address,'Employee_phone_no':list_of_employee_phone_no,'Employee_salary':list_of_employee_salary})\n"
      ],
      "metadata": {
        "id": "4cewcHQfHbKO"
      },
      "execution_count": 8,
      "outputs": []
    },
    {
      "cell_type": "code",
      "source": [
        "employee_dataset()"
      ],
      "metadata": {
        "colab": {
          "base_uri": "https://localhost:8080/",
          "height": 363
        },
        "id": "PGYhmzbjSK9M",
        "outputId": "19c40241-76df-4e93-ef02-2b511ef10ac4"
      },
      "execution_count": 9,
      "outputs": [
        {
          "output_type": "execute_result",
          "data": {
            "text/plain": [
              "               Employee_name  \\\n",
              "0  Lodovico Oliboni-Antonini   \n",
              "1         Sig. Nino Tommaseo   \n",
              "2         Maria Oscuro-Verri   \n",
              "3  Rembrandt Simeoni-Dallapé   \n",
              "4           Serafina Gangemi   \n",
              "5  Saverio Boiardo-Morandini   \n",
              "6                Maria Segrè   \n",
              "7           Vincenza Ritacca   \n",
              "8    Priscilla Lancisi-Piane   \n",
              "9           Marcello Fantoni   \n",
              "\n",
              "                                    Employee_address Employee_phone_no  \\\n",
              "0  Contrada Camanni, 71 Appartamento 98\\n16042, G...    +39 0923717546   \n",
              "1                   Via Maria, 3\\n38095, Ragoli (TN)    +39 3491168300   \n",
              "2         Incrocio Morena, 64\\n98068, Tesoriero (ME)    +39 3780682270   \n",
              "3         Vicolo Rita, 40\\n20035, Villa Cortese (MI)        0865652058   \n",
              "4  Piazza Dossi, 17 Piano 3\\n23874, Montevecchia ...        3615705236   \n",
              "5  Piazza Callegari, 5\\n03013, Ferentino Stazione...         081101193   \n",
              "6  Contrada Rodolfo, 374 Piano 4\\n34016, Monrupin...    +39 3780469408   \n",
              "7                 Rotonda Nino, 65\\n60035, Jesi (AN)    +39 0343682027   \n",
              "8  Vicolo Iolanda, 8 Appartamento 0\\n06134, Perug...        0961328331   \n",
              "9          Vicolo Ceci, 0\\n89052, Campo Calabro (RC)       07572746748   \n",
              "\n",
              "   Employee_salary  \n",
              "0           148346  \n",
              "1           453139  \n",
              "2           238680  \n",
              "3           209528  \n",
              "4           191624  \n",
              "5           473559  \n",
              "6           120300  \n",
              "7            32428  \n",
              "8            36206  \n",
              "9            70741  "
            ],
            "text/html": [
              "\n",
              "  <div id=\"df-3f59034b-1de0-4e9e-9cbd-32a7b266eb5d\" class=\"colab-df-container\">\n",
              "    <div>\n",
              "<style scoped>\n",
              "    .dataframe tbody tr th:only-of-type {\n",
              "        vertical-align: middle;\n",
              "    }\n",
              "\n",
              "    .dataframe tbody tr th {\n",
              "        vertical-align: top;\n",
              "    }\n",
              "\n",
              "    .dataframe thead th {\n",
              "        text-align: right;\n",
              "    }\n",
              "</style>\n",
              "<table border=\"1\" class=\"dataframe\">\n",
              "  <thead>\n",
              "    <tr style=\"text-align: right;\">\n",
              "      <th></th>\n",
              "      <th>Employee_name</th>\n",
              "      <th>Employee_address</th>\n",
              "      <th>Employee_phone_no</th>\n",
              "      <th>Employee_salary</th>\n",
              "    </tr>\n",
              "  </thead>\n",
              "  <tbody>\n",
              "    <tr>\n",
              "      <th>0</th>\n",
              "      <td>Lodovico Oliboni-Antonini</td>\n",
              "      <td>Contrada Camanni, 71 Appartamento 98\\n16042, G...</td>\n",
              "      <td>+39 0923717546</td>\n",
              "      <td>148346</td>\n",
              "    </tr>\n",
              "    <tr>\n",
              "      <th>1</th>\n",
              "      <td>Sig. Nino Tommaseo</td>\n",
              "      <td>Via Maria, 3\\n38095, Ragoli (TN)</td>\n",
              "      <td>+39 3491168300</td>\n",
              "      <td>453139</td>\n",
              "    </tr>\n",
              "    <tr>\n",
              "      <th>2</th>\n",
              "      <td>Maria Oscuro-Verri</td>\n",
              "      <td>Incrocio Morena, 64\\n98068, Tesoriero (ME)</td>\n",
              "      <td>+39 3780682270</td>\n",
              "      <td>238680</td>\n",
              "    </tr>\n",
              "    <tr>\n",
              "      <th>3</th>\n",
              "      <td>Rembrandt Simeoni-Dallapé</td>\n",
              "      <td>Vicolo Rita, 40\\n20035, Villa Cortese (MI)</td>\n",
              "      <td>0865652058</td>\n",
              "      <td>209528</td>\n",
              "    </tr>\n",
              "    <tr>\n",
              "      <th>4</th>\n",
              "      <td>Serafina Gangemi</td>\n",
              "      <td>Piazza Dossi, 17 Piano 3\\n23874, Montevecchia ...</td>\n",
              "      <td>3615705236</td>\n",
              "      <td>191624</td>\n",
              "    </tr>\n",
              "    <tr>\n",
              "      <th>5</th>\n",
              "      <td>Saverio Boiardo-Morandini</td>\n",
              "      <td>Piazza Callegari, 5\\n03013, Ferentino Stazione...</td>\n",
              "      <td>081101193</td>\n",
              "      <td>473559</td>\n",
              "    </tr>\n",
              "    <tr>\n",
              "      <th>6</th>\n",
              "      <td>Maria Segrè</td>\n",
              "      <td>Contrada Rodolfo, 374 Piano 4\\n34016, Monrupin...</td>\n",
              "      <td>+39 3780469408</td>\n",
              "      <td>120300</td>\n",
              "    </tr>\n",
              "    <tr>\n",
              "      <th>7</th>\n",
              "      <td>Vincenza Ritacca</td>\n",
              "      <td>Rotonda Nino, 65\\n60035, Jesi (AN)</td>\n",
              "      <td>+39 0343682027</td>\n",
              "      <td>32428</td>\n",
              "    </tr>\n",
              "    <tr>\n",
              "      <th>8</th>\n",
              "      <td>Priscilla Lancisi-Piane</td>\n",
              "      <td>Vicolo Iolanda, 8 Appartamento 0\\n06134, Perug...</td>\n",
              "      <td>0961328331</td>\n",
              "      <td>36206</td>\n",
              "    </tr>\n",
              "    <tr>\n",
              "      <th>9</th>\n",
              "      <td>Marcello Fantoni</td>\n",
              "      <td>Vicolo Ceci, 0\\n89052, Campo Calabro (RC)</td>\n",
              "      <td>07572746748</td>\n",
              "      <td>70741</td>\n",
              "    </tr>\n",
              "  </tbody>\n",
              "</table>\n",
              "</div>\n",
              "    <div class=\"colab-df-buttons\">\n",
              "\n",
              "  <div class=\"colab-df-container\">\n",
              "    <button class=\"colab-df-convert\" onclick=\"convertToInteractive('df-3f59034b-1de0-4e9e-9cbd-32a7b266eb5d')\"\n",
              "            title=\"Convert this dataframe to an interactive table.\"\n",
              "            style=\"display:none;\">\n",
              "\n",
              "  <svg xmlns=\"http://www.w3.org/2000/svg\" height=\"24px\" viewBox=\"0 -960 960 960\">\n",
              "    <path d=\"M120-120v-720h720v720H120Zm60-500h600v-160H180v160Zm220 220h160v-160H400v160Zm0 220h160v-160H400v160ZM180-400h160v-160H180v160Zm440 0h160v-160H620v160ZM180-180h160v-160H180v160Zm440 0h160v-160H620v160Z\"/>\n",
              "  </svg>\n",
              "    </button>\n",
              "\n",
              "  <style>\n",
              "    .colab-df-container {\n",
              "      display:flex;\n",
              "      gap: 12px;\n",
              "    }\n",
              "\n",
              "    .colab-df-convert {\n",
              "      background-color: #E8F0FE;\n",
              "      border: none;\n",
              "      border-radius: 50%;\n",
              "      cursor: pointer;\n",
              "      display: none;\n",
              "      fill: #1967D2;\n",
              "      height: 32px;\n",
              "      padding: 0 0 0 0;\n",
              "      width: 32px;\n",
              "    }\n",
              "\n",
              "    .colab-df-convert:hover {\n",
              "      background-color: #E2EBFA;\n",
              "      box-shadow: 0px 1px 2px rgba(60, 64, 67, 0.3), 0px 1px 3px 1px rgba(60, 64, 67, 0.15);\n",
              "      fill: #174EA6;\n",
              "    }\n",
              "\n",
              "    .colab-df-buttons div {\n",
              "      margin-bottom: 4px;\n",
              "    }\n",
              "\n",
              "    [theme=dark] .colab-df-convert {\n",
              "      background-color: #3B4455;\n",
              "      fill: #D2E3FC;\n",
              "    }\n",
              "\n",
              "    [theme=dark] .colab-df-convert:hover {\n",
              "      background-color: #434B5C;\n",
              "      box-shadow: 0px 1px 3px 1px rgba(0, 0, 0, 0.15);\n",
              "      filter: drop-shadow(0px 1px 2px rgba(0, 0, 0, 0.3));\n",
              "      fill: #FFFFFF;\n",
              "    }\n",
              "  </style>\n",
              "\n",
              "    <script>\n",
              "      const buttonEl =\n",
              "        document.querySelector('#df-3f59034b-1de0-4e9e-9cbd-32a7b266eb5d button.colab-df-convert');\n",
              "      buttonEl.style.display =\n",
              "        google.colab.kernel.accessAllowed ? 'block' : 'none';\n",
              "\n",
              "      async function convertToInteractive(key) {\n",
              "        const element = document.querySelector('#df-3f59034b-1de0-4e9e-9cbd-32a7b266eb5d');\n",
              "        const dataTable =\n",
              "          await google.colab.kernel.invokeFunction('convertToInteractive',\n",
              "                                                    [key], {});\n",
              "        if (!dataTable) return;\n",
              "\n",
              "        const docLinkHtml = 'Like what you see? Visit the ' +\n",
              "          '<a target=\"_blank\" href=https://colab.research.google.com/notebooks/data_table.ipynb>data table notebook</a>'\n",
              "          + ' to learn more about interactive tables.';\n",
              "        element.innerHTML = '';\n",
              "        dataTable['output_type'] = 'display_data';\n",
              "        await google.colab.output.renderOutput(dataTable, element);\n",
              "        const docLink = document.createElement('div');\n",
              "        docLink.innerHTML = docLinkHtml;\n",
              "        element.appendChild(docLink);\n",
              "      }\n",
              "    </script>\n",
              "  </div>\n",
              "\n",
              "\n",
              "<div id=\"df-58422d7a-b9f0-43a2-a82d-7e8790df9472\">\n",
              "  <button class=\"colab-df-quickchart\" onclick=\"quickchart('df-58422d7a-b9f0-43a2-a82d-7e8790df9472')\"\n",
              "            title=\"Suggest charts.\"\n",
              "            style=\"display:none;\">\n",
              "\n",
              "<svg xmlns=\"http://www.w3.org/2000/svg\" height=\"24px\"viewBox=\"0 0 24 24\"\n",
              "     width=\"24px\">\n",
              "    <g>\n",
              "        <path d=\"M19 3H5c-1.1 0-2 .9-2 2v14c0 1.1.9 2 2 2h14c1.1 0 2-.9 2-2V5c0-1.1-.9-2-2-2zM9 17H7v-7h2v7zm4 0h-2V7h2v10zm4 0h-2v-4h2v4z\"/>\n",
              "    </g>\n",
              "</svg>\n",
              "  </button>\n",
              "\n",
              "<style>\n",
              "  .colab-df-quickchart {\n",
              "    background-color: #E8F0FE;\n",
              "    border: none;\n",
              "    border-radius: 50%;\n",
              "    cursor: pointer;\n",
              "    display: none;\n",
              "    fill: #1967D2;\n",
              "    height: 32px;\n",
              "    padding: 0 0 0 0;\n",
              "    width: 32px;\n",
              "  }\n",
              "\n",
              "  .colab-df-quickchart:hover {\n",
              "    background-color: #E2EBFA;\n",
              "    box-shadow: 0px 1px 2px rgba(60, 64, 67, 0.3), 0px 1px 3px 1px rgba(60, 64, 67, 0.15);\n",
              "    fill: #174EA6;\n",
              "  }\n",
              "\n",
              "  [theme=dark] .colab-df-quickchart {\n",
              "    background-color: #3B4455;\n",
              "    fill: #D2E3FC;\n",
              "  }\n",
              "\n",
              "  [theme=dark] .colab-df-quickchart:hover {\n",
              "    background-color: #434B5C;\n",
              "    box-shadow: 0px 1px 3px 1px rgba(0, 0, 0, 0.15);\n",
              "    filter: drop-shadow(0px 1px 2px rgba(0, 0, 0, 0.3));\n",
              "    fill: #FFFFFF;\n",
              "  }\n",
              "</style>\n",
              "\n",
              "  <script>\n",
              "    async function quickchart(key) {\n",
              "      const charts = await google.colab.kernel.invokeFunction(\n",
              "          'suggestCharts', [key], {});\n",
              "    }\n",
              "    (() => {\n",
              "      let quickchartButtonEl =\n",
              "        document.querySelector('#df-58422d7a-b9f0-43a2-a82d-7e8790df9472 button');\n",
              "      quickchartButtonEl.style.display =\n",
              "        google.colab.kernel.accessAllowed ? 'block' : 'none';\n",
              "    })();\n",
              "  </script>\n",
              "</div>\n",
              "    </div>\n",
              "  </div>\n"
            ]
          },
          "metadata": {},
          "execution_count": 9
        }
      ]
    }
  ]
}